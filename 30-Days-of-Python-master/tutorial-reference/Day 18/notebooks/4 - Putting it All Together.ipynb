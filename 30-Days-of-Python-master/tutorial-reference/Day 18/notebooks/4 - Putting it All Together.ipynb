{
 "cells": [
  {
   "cell_type": "code",
   "execution_count": 1,
   "metadata": {},
   "outputs": [],
   "source": [
    "from pathlib import Path\n",
    "import re\n",
    "import requests\n",
    "import time\n",
    "import datetime\n",
    "\n",
    "import pandas as pd\n",
    "from requests_html import HTML\n",
    "from selenium import webdriver\n",
    "from selenium.webdriver.chrome.options import Options"
   ]
  },
  {
   "cell_type": "code",
   "execution_count": 2,
   "metadata": {},
   "outputs": [],
   "source": [
    "BASE_DIR = Path.cwd()\n",
    "DATA_DIR = BASE_DIR / \"data\" # os.path.join(BASE_DIR, 'data')\n",
    "if not DATA_DIR.exists(): # os.path.exists(DATA_DIR)\n",
    "    DATA_DIR.mkdir(exist_ok=True) # os.makedirs(DATA_DIR, exist_ok=True)\n",
    "    \n",
    "product_category_links_output = DATA_DIR / \"category-products.csv\"\n",
    "product_output = DATA_DIR / \"products.csv\""
   ]
  },
  {
   "cell_type": "code",
   "execution_count": 3,
   "metadata": {},
   "outputs": [],
   "source": [
    "options = Options()\n",
    "options.add_argument(\"--headless\")\n",
    "\n",
    "driver = webdriver.Chrome(options=options)"
   ]
  },
  {
   "cell_type": "code",
   "execution_count": 4,
   "metadata": {},
   "outputs": [],
   "source": [
    "categories = [\n",
    "    {\"name\": \"toys-and-games\", \"url\": \"https://www.amazon.com/Best-Sellers-Toys-Games/zgbs/toys-and-games/\"},\n",
    "    {\"name\": \"electronics\", \"url\": \"https://www.amazon.com/Best-Sellers-Electronics/zgbs/electronics/\"},\n",
    "    {\"name\": \"fashion\", \"url\": \"https://www.amazon.com/Best-Sellers/zgbs/fashion/\"}\n",
    "]"
   ]
  },
  {
   "cell_type": "code",
   "execution_count": 5,
   "metadata": {},
   "outputs": [],
   "source": [
    "regex_options = [\n",
    "    r\"https://www.amazon.com/gp/product/(?P<product_id>[\\w-]+)/\",\n",
    "    r\"https://www.amazon.com/dp/(?P<product_id>[\\w-]+)/\",\n",
    "    r\"https://www.amazon.com/(?P<slug>[\\w-]+)/dp/(?P<product_id>[\\w-]+)/\",\n",
    "]\n",
    "\n",
    "def extract_product_id_from_url(url):\n",
    "    product_id = None\n",
    "    for regex_str in regex_options:\n",
    "        regex = re.compile(regex_str)\n",
    "        match = regex.match(url)\n",
    "        if match != None:\n",
    "            try:\n",
    "                product_id = match['product_id']\n",
    "            except:\n",
    "                pass\n",
    "    return product_id"
   ]
  },
  {
   "cell_type": "code",
   "execution_count": 6,
   "metadata": {},
   "outputs": [],
   "source": [
    "def clean_page_links(page_links=[], category=None):\n",
    "    final_page_links = []\n",
    "    for url in page_links:\n",
    "        product_id = extract_product_id_from_url(url)\n",
    "        if product_id != None:\n",
    "            final_page_links.append({\"url\": url, \"product_id\": product_id, \"category\": category})\n",
    "    return final_page_links"
   ]
  },
  {
   "cell_type": "code",
   "execution_count": 7,
   "metadata": {},
   "outputs": [],
   "source": [
    "def scrace_category_product_links(categories=[]):\n",
    "    all_product_links = []\n",
    "    for category in categories:\n",
    "        time.sleep(1.5)\n",
    "        url = category.get(\"url\")\n",
    "        driver.get(url)\n",
    "        body_el = driver.find_element_by_css_selector(\"body\")\n",
    "        html_str = body_el.get_attribute(\"innerHTML\")\n",
    "        html_obj = HTML(html=html_str)\n",
    "        page_links = [f\"https://www.amazon.com{x}\" for x in html_obj.links if x.startswith(\"/\")]\n",
    "        cleaned_links = clean_page_links(page_links=page_links, category=category)\n",
    "        all_product_links += cleaned_links\n",
    "    return all_product_links"
   ]
  },
  {
   "cell_type": "code",
   "execution_count": 8,
   "metadata": {},
   "outputs": [],
   "source": [
    "def extract_categories_and_save(categories=[]):\n",
    "    all_product_links = scrace_category_product_links(categories)\n",
    "    category_df = pd.DataFrame(all_product_links)\n",
    "    category_df.to_csv(product_category_links_output, index=False)"
   ]
  },
  {
   "cell_type": "code",
   "execution_count": 9,
   "metadata": {},
   "outputs": [],
   "source": [
    "extract_categories_and_save(categories=categories)"
   ]
  },
  {
   "cell_type": "code",
   "execution_count": 10,
   "metadata": {},
   "outputs": [],
   "source": [
    "def scrape_product_page(url, title_lookup = \"#productTitle\", price_lookup = \"#priceblock_ourprice\"):\n",
    "    driver.get(url)\n",
    "    time.sleep(1.5)\n",
    "    body_el = driver.find_element_by_css_selector(\"body\")\n",
    "    html_str = body_el.get_attribute(\"innerHTML\")\n",
    "    html_obj = HTML(html=html_str)\n",
    "    product_title = html_obj.find(title_lookup, first=True).text\n",
    "    product_price = html_obj.find(price_lookup, first=True).text\n",
    "    return product_title, product_price"
   ]
  },
  {
   "cell_type": "code",
   "execution_count": 11,
   "metadata": {},
   "outputs": [],
   "source": [
    "def perform_scrape(cleaned_items=[]):\n",
    "    data_extracted = []\n",
    "    for obj in cleaned_items:\n",
    "        link = obj['url']\n",
    "        product_id = obj['product_id']\n",
    "        title, price = (None, None)\n",
    "        try:\n",
    "            title, price = scrape_product_page(link)\n",
    "        except:\n",
    "            pass\n",
    "        if title != None and price != None:\n",
    "            print(link, title, price)\n",
    "        product_data = {\n",
    "            \"url\": link,\n",
    "            \"product_id\": product_id,\n",
    "            \"title\": title,\n",
    "            \"price\": price\n",
    "        }\n",
    "        data_extracted.append(product_data)\n",
    "    return data_extracted"
   ]
  },
  {
   "cell_type": "code",
   "execution_count": 12,
   "metadata": {},
   "outputs": [],
   "source": [
    "# extracted_data = perform_scrape(cleaned_items=cleaned_links)"
   ]
  },
  {
   "cell_type": "code",
   "execution_count": 13,
   "metadata": {},
   "outputs": [],
   "source": [
    "# print(extracted_data)"
   ]
  },
  {
   "cell_type": "code",
   "execution_count": 14,
   "metadata": {},
   "outputs": [],
   "source": [
    "def row_scrape_event(row, *args, **kwargs):\n",
    "    link = row['url']\n",
    "    scraped = 0\n",
    "    try:\n",
    "        scraped = row['scraped']\n",
    "    except:\n",
    "        pass\n",
    "    # print(link)\n",
    "    if scraped == 1 or scraped == \"1\":\n",
    "        print(\"skipped\")\n",
    "        return row\n",
    "    product_id = row['product_id']\n",
    "    title, price = (None, None)\n",
    "    try:\n",
    "        title, price = scrape_product_page(link)\n",
    "    except:\n",
    "        pass\n",
    "    row['title'] = title\n",
    "    row['price'] = price\n",
    "    row['scraped'] = 1\n",
    "    row['timestamp'] = datetime.datetime.now().timestamp()\n",
    "    print(link, title, price)\n",
    "    return row"
   ]
  },
  {
   "cell_type": "code",
   "execution_count": 15,
   "metadata": {},
   "outputs": [
    {
     "data": {
      "text/html": [
       "<div>\n",
       "<style scoped>\n",
       "    .dataframe tbody tr th:only-of-type {\n",
       "        vertical-align: middle;\n",
       "    }\n",
       "\n",
       "    .dataframe tbody tr th {\n",
       "        vertical-align: top;\n",
       "    }\n",
       "\n",
       "    .dataframe thead th {\n",
       "        text-align: right;\n",
       "    }\n",
       "</style>\n",
       "<table border=\"1\" class=\"dataframe\">\n",
       "  <thead>\n",
       "    <tr style=\"text-align: right;\">\n",
       "      <th></th>\n",
       "      <th>url</th>\n",
       "      <th>product_id</th>\n",
       "      <th>category</th>\n",
       "    </tr>\n",
       "  </thead>\n",
       "  <tbody>\n",
       "    <tr>\n",
       "      <th>0</th>\n",
       "      <td>https://www.amazon.com/Melissa-Doug-Activity-C...</td>\n",
       "      <td>B00EJAEUBC</td>\n",
       "      <td>{'name': 'toys-and-games', 'url': 'https://www...</td>\n",
       "    </tr>\n",
       "    <tr>\n",
       "      <th>1</th>\n",
       "      <td>https://www.amazon.com/Munchkin-17040-Fishin-B...</td>\n",
       "      <td>B01N52DUNK</td>\n",
       "      <td>{'name': 'toys-and-games', 'url': 'https://www...</td>\n",
       "    </tr>\n",
       "    <tr>\n",
       "      <th>2</th>\n",
       "      <td>https://www.amazon.com/Play-Doh-Modeling-Compo...</td>\n",
       "      <td>B00JM5GZGW</td>\n",
       "      <td>{'name': 'toys-and-games', 'url': 'https://www...</td>\n",
       "    </tr>\n",
       "    <tr>\n",
       "      <th>3</th>\n",
       "      <td>https://www.amazon.com/Crayola-Washable-Specia...</td>\n",
       "      <td>B00PY47LHW</td>\n",
       "      <td>{'name': 'toys-and-games', 'url': 'https://www...</td>\n",
       "    </tr>\n",
       "    <tr>\n",
       "      <th>4</th>\n",
       "      <td>https://www.amazon.com/Bunch-Balloons-Pack-Ama...</td>\n",
       "      <td>B07GW2QQWN</td>\n",
       "      <td>{'name': 'toys-and-games', 'url': 'https://www...</td>\n",
       "    </tr>\n",
       "  </tbody>\n",
       "</table>\n",
       "</div>"
      ],
      "text/plain": [
       "                                                 url  product_id  \\\n",
       "0  https://www.amazon.com/Melissa-Doug-Activity-C...  B00EJAEUBC   \n",
       "1  https://www.amazon.com/Munchkin-17040-Fishin-B...  B01N52DUNK   \n",
       "2  https://www.amazon.com/Play-Doh-Modeling-Compo...  B00JM5GZGW   \n",
       "3  https://www.amazon.com/Crayola-Washable-Specia...  B00PY47LHW   \n",
       "4  https://www.amazon.com/Bunch-Balloons-Pack-Ama...  B07GW2QQWN   \n",
       "\n",
       "                                            category  \n",
       "0  {'name': 'toys-and-games', 'url': 'https://www...  \n",
       "1  {'name': 'toys-and-games', 'url': 'https://www...  \n",
       "2  {'name': 'toys-and-games', 'url': 'https://www...  \n",
       "3  {'name': 'toys-and-games', 'url': 'https://www...  \n",
       "4  {'name': 'toys-and-games', 'url': 'https://www...  "
      ]
     },
     "execution_count": 15,
     "metadata": {},
     "output_type": "execute_result"
    }
   ],
   "source": [
    "df = pd.read_csv(product_category_links_output)\n",
    "df.head()"
   ]
  },
  {
   "cell_type": "code",
   "execution_count": 16,
   "metadata": {},
   "outputs": [
    {
     "data": {
      "text/plain": [
       "(150, 3)"
      ]
     },
     "execution_count": 16,
     "metadata": {},
     "output_type": "execute_result"
    }
   ],
   "source": [
    "df.shape"
   ]
  },
  {
   "cell_type": "code",
   "execution_count": 17,
   "metadata": {},
   "outputs": [],
   "source": [
    "df_sub = df.copy() # df.head(n=10)"
   ]
  },
  {
   "cell_type": "code",
   "execution_count": 20,
   "metadata": {},
   "outputs": [
    {
     "name": "stdout",
     "output_type": "stream",
     "text": [
      "https://www.amazon.com/Melissa-Doug-Activity-Child-Safe-Scissors/dp/B00EJAEUBC/ref=zg_bs_toys-and-games_15/132-3105173-9301645?_encoding=UTF8&psc=1&refRID=BZ10YZJJ1T0QC9YT1AR2 Melissa & Doug Scissor Skills Activity Pad $4.99\n",
      "https://www.amazon.com/Melissa-Doug-Activity-Child-Safe-Scissors/dp/B00EJAEUBC/ref=zg_bs_toys-and-games_15/132-3105173-9301645?_encoding=UTF8&psc=1&refRID=BZ10YZJJ1T0QC9YT1AR2 Melissa & Doug Scissor Skills Activity Pad $4.99\n",
      "https://www.amazon.com/Munchkin-17040-Fishin-Bath-Toy/dp/B01N52DUNK/ref=zg_bs_toys-and-games_48/132-3105173-9301645?_encoding=UTF8&psc=1&refRID=BZ10YZJJ1T0QC9YT1AR2 Munchkin Fishin' Bath Toy $7.73\n",
      "https://www.amazon.com/Play-Doh-Modeling-Compound-Non-Toxic-Exclusive/dp/B00JM5GZGW/ref=zg_bs_toys-and-games_17/132-3105173-9301645?_encoding=UTF8&psc=1&refRID=BZ10YZJJ1T0QC9YT1AR2 Play-Doh Modeling Compound 36-Pack Case of Colors, Non-Toxic, Assorted Colors, 3-Ounce Cans (Amazon Exclusive) $24.99\n",
      "https://www.amazon.com/Crayola-Washable-Special-Sidewalk-Anti-Roll/dp/B00PY47LHW/ref=zg_bs_toys-and-games_42/132-3105173-9301645?_encoding=UTF8&psc=1&refRID=BZ10YZJJ1T0QC9YT1AR2 Crayola Washable Sidewalk Chalk, Neon Chalk $4.99\n",
      "https://www.amazon.com/Bunch-Balloons-Pack-Amazon-Exclusive/dp/B07GW2QQWN/ref=zg_bs_toys-and-games_28/132-3105173-9301645?_encoding=UTF8&psc=1&refRID=BZ10YZJJ1T0QC9YT1AR2 Bunch O Balloons - 350 Rapid-Fill Water Balloons (10 Pack) Amazon Exclusive $27.74\n",
      "https://www.amazon.com/Crayola-Twistables-Classrooms-Preschools-Self-Sharpening/dp/B00062J99K/ref=zg_bs_toys-and-games_8/132-3105173-9301645?_encoding=UTF8&psc=1&refRID=BZ10YZJJ1T0QC9YT1AR2 Crayola Twistables Crayons Coloring Set, Kids Indoor Activities at Home, 24 Count $4.49\n",
      "https://www.amazon.com/Melissa-Doug-Decorate-Your-Own-Butterfly-Magnets/dp/B00Y8YOVOA/ref=zg_bs_toys-and-games_12/132-3105173-9301645?_encoding=UTF8&psc=1&refRID=BZ10YZJJ1T0QC9YT1AR2 Melissa & Doug Created by Me! Butterfly Magnets - The Original (Kids Craft Kit, Supplies for 4 Projects, Great Gift for Girls and Boys – Best for 4, 5, 6, 7 and 8 Year Olds), Mix $4.99\n",
      "https://www.amazon.com/Step2-874600-Showers-Playset-Multi-Colored/dp/B01K1K0K6M/ref=zg_bs_toys-and-games_6/132-3105173-9301645?_encoding=UTF8&psc=1&refRID=BZ10YZJJ1T0QC9YT1AR2 None None\n",
      "https://www.amazon.com/Insect-Lore-Butterfly-Growing-Kit/dp/B00000ISC5/ref=zg_bs_toys-and-games_3/132-3105173-9301645?_encoding=UTF8&psc=1&refRID=BZ10YZJJ1T0QC9YT1AR2 Insect Lore Butterfly Growing Kit - With Voucher to Redeem Caterpillars Later $22.99\n",
      "https://www.amazon.com/Crayola-Outdoor-Glitter-Sidewalk-Summer/dp/B00PY47F8M/ref=zg_bs_toys-and-games_16/132-3105173-9301645?_encoding=UTF8&psc=1&refRID=BZ10YZJJ1T0QC9YT1AR2 Crayola Outdoor Chalk, Glitter Sidewalk Chalk, Summer Toys, 5 Count $8.73\n",
      "https://www.amazon.com/Learning-Resources-Spike-Hedgehog-Sensory/dp/B078WM314M/ref=zg_bs_toys-and-games_33/132-3105173-9301645?_encoding=UTF8&psc=1&refRID=BZ10YZJJ1T0QC9YT1AR2 Learning Resources Spike The Fine Motor Hedgehog, Sensory, Fine Motor Toy, Easter Basket Toy, Ages 18 months+ $10.99\n",
      "https://www.amazon.com/Battleship-Planes-Strategy-Amazon-Exclusive/dp/B06Y1N3PTX/ref=zg_bs_toys-and-games_22/132-3105173-9301645?_encoding=UTF8&psc=1&refRID=BZ10YZJJ1T0QC9YT1AR2 Battleship With Planes Strategy Board Game For Ages 7 and Up (Amazon Exclusive) $14.99\n",
      "https://www.amazon.com/Creativity-Kids-Grow-Glow-Terrarium/dp/B00I9KDFK0/ref=zg_bs_toys-and-games_9/132-3105173-9301645?_encoding=UTF8&psc=1&refRID=BZ10YZJJ1T0QC9YT1AR2 Creativity For Kids Grow 'N Glow Terrarium Science Kits for Kids - Create Your Own Mini Ecosystem, Educational Toys $12.99\n",
      "https://www.amazon.com/Jenga-A2120EU4-Classic-Game/dp/B00ABA0ZOA/ref=zg_bs_toys-and-games_1/132-3105173-9301645?_encoding=UTF8&psc=1&refRID=BZ10YZJJ1T0QC9YT1AR2 None None\n",
      "https://www.amazon.com/Play-Doh-A5417-Sparkle-Compound-Collection/dp/B00IGNWYNE/ref=zg_bs_toys-and-games_5/132-3105173-9301645?_encoding=UTF8&psc=1&refRID=BZ10YZJJ1T0QC9YT1AR2 Play-Doh Sparkle Compound Collection $4.94\n",
      "https://www.amazon.com/Melissa-Doug-Pretend-Frustration-Free-Packaging/dp/B07PBXRJ7G/ref=zg_bs_toys-and-games_43/132-3105173-9301645?_encoding=UTF8&psc=1&refRID=BZ10YZJJ1T0QC9YT1AR2 Melissa & Doug Dust! Sweep! Mop! (Frustration Free Packaging) $25.09\n",
      "https://www.amazon.com/Jenga-A2120EU4-Classic-Game/dp/B00ABA0ZOA/ref=zg_bs_toys-and-games_map_1/132-3105173-9301645?_encoding=UTF8&psc=1&refRID=BZ10YZJJ1T0QC9YT1AR2 None None\n",
      "https://www.amazon.com/Crayola-Washable-Glitter-Exclusive-Stocking/dp/B07BYWS5XW/ref=zg_bs_toys-and-games_32/132-3105173-9301645?_encoding=UTF8&psc=1&refRID=BZ10YZJJ1T0QC9YT1AR2 None None\n",
      "https://www.amazon.com/L-L-Surprise-Candylicious-Multicolor/dp/B07XSQ3BYJ/ref=zg_bs_toys-and-games_47/132-3105173-9301645?_encoding=UTF8&psc=1&refRID=BZ10YZJJ1T0QC9YT1AR2 L.O.L. Surprise! O.M.G. Candylicious Fashion Doll with 20 Surprises,Multicolor $26.88\n",
      "https://www.amazon.com/FoxPrint-Princess-conveniently-Carrying-Foldable/dp/B0120XRWLE/ref=zg_bs_toys-and-games_34/132-3105173-9301645?_encoding=UTF8&psc=1&refRID=BZ10YZJJ1T0QC9YT1AR2 None None\n",
      "https://www.amazon.com/Taco-Cat-Goat-Cheese-Pizza/dp/B077Z1R28P/ref=zg_bs_toys-and-games_30/132-3105173-9301645?_encoding=UTF8&psc=1&refRID=BZ10YZJJ1T0QC9YT1AR2 Taco Cat Goat Cheese Pizza $9.99\n",
      "https://www.amazon.com/Crayola-Crayons-Assorted-Toddler-16Count/dp/B07L6VQDSC/ref=zg_bs_toys-and-games_29/132-3105173-9301645?_encoding=UTF8&psc=1&refRID=BZ10YZJJ1T0QC9YT1AR2 Crayola Jumbo Crayons, Assorted Colors, Great Toddler Crayons, 16Count $6.25\n",
      "https://www.amazon.com/Crayola-Twistables-Colored-Exclusive-Stocking/dp/B07D4RN9NH/ref=zg_bs_toys-and-games_36/132-3105173-9301645?_encoding=UTF8&psc=1&refRID=BZ10YZJJ1T0QC9YT1AR2 Crayola Twistables Colored Pencils Coloring Set, Kids Indoor Activities At Home, Gift Age 3+ - 50 Count $12.99\n",
      "https://www.amazon.com/Nuby-Floating-Purple-Octopus-Interactive/dp/B083ZZSGLR/ref=zg_bs_toys-and-games_49/132-3105173-9301645?_encoding=UTF8&psc=1&refRID=BZ10YZJJ1T0QC9YT1AR2 Nuby Floating Purple Octopus with 3 Hoopla Rings Interactive Bath Toy $6.89\n",
      "https://www.amazon.com/LEGO-Classic-Medium-Creative-Brick/dp/B00NHQFA1I/ref=zg_bs_toys-and-games_19/132-3105173-9301645?_encoding=UTF8&psc=1&refRID=BZ10YZJJ1T0QC9YT1AR2 LEGO Classic Medium Creative Brick Box 10696 Building Toys for Creative Play; Kids Creative Kit (484 Pieces) $27.99\n",
      "https://www.amazon.com/Hasbro-A5640-Connect-4-Game/dp/B00D8STBHY/ref=zg_bs_toys-and-games_2/132-3105173-9301645?_encoding=UTF8&psc=1&refRID=BZ10YZJJ1T0QC9YT1AR2 Hasbro Connect 4 Game $12.99\n",
      "https://www.amazon.com/Aqua-Monterey-Multi-Purpose-Inflatable-Portable/dp/B073WMYP6M/ref=zg_bs_toys-and-games_26/132-3105173-9301645?_encoding=UTF8&psc=1&refRID=BZ10YZJJ1T0QC9YT1AR2 Aqua 4-in-1 Monterey Hammock Inflatable Pool Float, Multi-Purpose Pool Hammock (Saddle, Lounge Chair, Hammock, Drifter) Pool Chair, Portable Water Hammock, Navy/White Stripe $15.07\n",
      "https://www.amazon.com/SplashEZ-Sprinkler-Splash-Wading-Learning/dp/B07MNMT3M7/ref=zg_bs_toys-and-games_23/132-3105173-9301645?_encoding=UTF8&psc=1&refRID=BZ10YZJJ1T0QC9YT1AR2 None None\n",
      "https://www.amazon.com/Creative-Roots-Stepping-Horizon-Assorted/dp/B07HSJ5R7V/ref=zg_bs_toys-and-games_50/132-3105173-9301645?_encoding=UTF8&psc=1&refRID=BZ10YZJJ1T0QC9YT1AR2 CREATIVE ROOTS Paint Your Own Flower Stepping Stone by Horizon Group USA Toy, Assorted $7.99\n",
      "https://www.amazon.com/Postage-Stamps-envelopes-Wayne-Global/dp/B081J497K2/ref=zg_bs_toys-and-games_44/132-3105173-9301645?_encoding=UTF8&psc=1&refRID=BZ10YZJJ1T0QC9YT1AR2 20 Postage Stamps with 20 (#10) envelopes Bundle by Wayne Global- Stamp Design May Vary $16.90\n",
      "https://www.amazon.com/Kinetic-Sand-Beach-Kingdom-Playset/dp/B079P87RVB/ref=zg_bs_toys-and-games_41/132-3105173-9301645?_encoding=UTF8&psc=1&refRID=BZ10YZJJ1T0QC9YT1AR2 Kinetic Sand Beach Sand Kingdom Playset with 3lbs of Beach Sand, for Ages 3 and Up $19.97\n",
      "https://www.amazon.com/Hasbro-B0965-Monopoly-Deal-Card/dp/B00NQQTZCO/ref=zg_bs_toys-and-games_18/132-3105173-9301645?_encoding=UTF8&psc=1&refRID=BZ10YZJJ1T0QC9YT1AR2 Monopoly Deal Card Game $7.99\n",
      "https://www.amazon.com/LEGO-Classic-Green-Baseplate-Supplement/dp/B00NHQF65S/ref=zg_bs_toys-and-games_14/132-3105173-9301645?_encoding=UTF8&psc=1&refRID=BZ10YZJJ1T0QC9YT1AR2 LEGO Classic Green Baseplate 2304 Supplement for Building, Playing, and Displaying LEGO Creations, 10cm x 10cm, Large Building Base Accessory for Kids and Adults (1 Piece) $4.99\n"
     ]
    },
    {
     "name": "stdout",
     "output_type": "stream",
     "text": [
      "https://www.amazon.com/ThinkFun-Zingo-Winning-Pre-Readers-Readers/dp/B01DY818JG/ref=zg_bs_toys-and-games_46/132-3105173-9301645?_encoding=UTF8&psc=1&refRID=BZ10YZJJ1T0QC9YT1AR2 ThinkFun Zingo Bingo Award Winning Preschool Game for Pre-Readers and Early Readers Age 4 and Up - One of the Most Popular Board Games for Boys and Girls and their Parents, Amazon Exclusive Version $19.99\n",
      "https://www.amazon.com/Elmers-Liquid-Glitter-Washable-Assorted/dp/B008M56YZU/ref=zg_bs_toys-and-games_39/132-3105173-9301645?_encoding=UTF8&psc=1&refRID=BZ10YZJJ1T0QC9YT1AR2 Elmer's Liquid Glitter Glue, Great For Making Slime, Washable, Assorted Colors, 6 Ounces Each, 3 Count $11.95\n",
      "https://www.amazon.com/SunWorks-Construction-Paper-White-Sheets/dp/B0017OHG1O/ref=zg_bs_toys-and-games_35/132-3105173-9301645?_encoding=UTF8&psc=1&refRID=BZ10YZJJ1T0QC9YT1AR2 SunWorks Heavyweight Construction Paper, 9 x 12 Inches, White, 100 Sheets $3.69\n",
      "https://www.amazon.com/Cards-Against-Humanity-LLC-CAHUS/dp/B004S8F7QM/ref=zg_bs_toys-and-games_13/132-3105173-9301645?_encoding=UTF8&psc=1&refRID=BZ10YZJJ1T0QC9YT1AR2 Cards Against Humanity $25.00\n",
      "https://www.amazon.com/SunWorks-Construction-Assorted-Colors-Sheets/dp/B0017OJKLI/ref=zg_bs_toys-and-games_45/132-3105173-9301645?_encoding=UTF8&psc=1&refRID=BZ10YZJJ1T0QC9YT1AR2 SunWorks Construction Paper, 10 Assorted Colors, 9\" x 12\", 100 Sheets $8.29\n",
      "https://www.amazon.com/Regal-Games-Chalk-City-Washable/dp/B071CKSMS7/ref=zg_bs_toys-and-games_4/132-3105173-9301645?_encoding=UTF8&psc=1&refRID=BZ10YZJJ1T0QC9YT1AR2 Regal Games Chalk City - 20 Piece Jumbo Washable Sidewalk Chalk $12.99\n",
      "https://www.amazon.com/Chalk-Jumbo-Sidewalk-Count-colors/dp/B079WL9MXC/ref=zg_bs_toys-and-games_31/132-3105173-9301645?_encoding=UTF8&psc=1&refRID=BZ10YZJJ1T0QC9YT1AR2 Chalk Jumbo Sidewalk Chalk 20 Count- 5 colors $11.54\n",
      "https://www.amazon.com/L-L-Surprise-Sparkle-Multicolor/dp/B07PQVRPR1/ref=zg_bs_toys-and-games_11/132-3105173-9301645?_encoding=UTF8&psc=1&refRID=BZ10YZJJ1T0QC9YT1AR2 L.O.L. Surprise Dolls Sparkle Series A, Multicolor $10.88\n",
      "https://www.amazon.com/First-Years-Stack-Up-Cups/dp/B00005C5H4/ref=zg_bs_toys-and-games_27/132-3105173-9301645?_encoding=UTF8&psc=1&refRID=BZ10YZJJ1T0QC9YT1AR2 The First Years Stack Up Cup Toys $6.00\n",
      "https://www.amazon.com/L-L-Surprise-Surprises-Including/dp/B07XSPCBVP/ref=zg_bs_toys-and-games_24/132-3105173-9301645?_encoding=UTF8&psc=1&refRID=BZ10YZJJ1T0QC9YT1AR2 L.O.L. Surprise! Lights Glitter Doll with 8 Surprises Including Black Light Surprises $10.88\n",
      "https://www.amazon.com/Crayola-Washable-Sidewalk-Outdoor-Exclusive/dp/B00LH1WN4W/ref=zg_bs_toys-and-games_38/132-3105173-9301645?_encoding=UTF8&psc=1&refRID=BZ10YZJJ1T0QC9YT1AR2 None None\n",
      "https://www.amazon.com/Crayola-Erasable-Non-Toxic-Pre-Sharpened-Gradation/dp/B000PCWKBA/ref=zg_bs_toys-and-games_20/132-3105173-9301645?_encoding=UTF8&psc=1&refRID=BZ10YZJJ1T0QC9YT1AR2 Crayola Erasable Colored Pencils, Kids At Home Activities, 24 Count $5.97\n",
      "https://www.amazon.com/Crayola-Washable-Watercolors-8-ea/dp/B000HHKAE2/ref=zg_bs_toys-and-games_21/132-3105173-9301645?_encoding=UTF8&psc=1&refRID=BZ10YZJJ1T0QC9YT1AR2 Crayola Washable Watercolors, Paint Set For Kids, 8Count $1.99\n",
      "https://www.amazon.com/Crayola-Colored-Pre-sharpened-Coloring-Stocking/dp/B018HB2QFU/ref=zg_bs_toys-and-games_10/132-3105173-9301645?_encoding=UTF8&psc=1&refRID=BZ10YZJJ1T0QC9YT1AR2 Crayola Colored Pencils, Adult Coloring, Fun At Home Activities, 50 Count $19.38\n",
      "https://www.amazon.com/Little-Tikes-Spiralin-Waterpark-Table/dp/B004INDQWY/ref=zg_bs_toys-and-games_37/132-3105173-9301645?_encoding=UTF8&psc=1&refRID=BZ10YZJJ1T0QC9YT1AR2 Little Tikes Spiralin’ Seas Waterpark Water Table $44.99\n",
      "https://www.amazon.com/Darice-Solution-Top-Works-Machines-Birthdays/dp/B07RYBB4NZ/ref=zg_bs_toys-and-games_7/132-3105173-9301645?_encoding=UTF8&psc=1&refRID=BZ10YZJJ1T0QC9YT1AR2 Darice 64-Ounce Bubble Solution-Includes Wand and Easy Pour Funnel Top-Works with Bubble Machines-for Weddings, Birthdays and Outdoor Events $9.00\n",
      "https://www.amazon.com/Crayola-Markers-Assorted-Colors-Coloring/dp/B01C64BASI/ref=zg_bs_toys-and-games_40/132-3105173-9301645?_encoding=UTF8&psc=1&refRID=BZ10YZJJ1T0QC9YT1AR2 Crayola Fine Line Markers Adult Coloring Set, Gift Age 12+ - 40 Count $12.99\n",
      "https://www.amazon.com/Disney-Princess-Necklace-Activity-Set/dp/B0747ZGTTG/ref=zg_bs_toys-and-games_25/132-3105173-9301645?_encoding=UTF8&psc=1&refRID=BZ10YZJJ1T0QC9YT1AR2 Tara Toy Disney Princess Necklace Activity Set $12.79\n",
      "https://www.amazon.com/Wyze-Indoor-Wireless-Detection-Assistant/dp/B076H3SRXG/ref=zg_bs_electronics_16?_encoding=UTF8&psc=1&refRID=GGNJR9AXHDW7SAG05ZFQ Wyze Cam 1080p HD Indoor Wireless Smart Home Camera with Night Vision, 2-Way Audio, Works with Alexa & the Google Assistant, One Pack, White - WYZEC2 $25.98\n",
      "https://www.amazon.com/amFilm-Tempered-Screen-Protector-Nintendo-Switch/dp/B01N3ASPNV/ref=zg_bs_electronics_39?_encoding=UTF8&psc=1&refRID=GGNJR9AXHDW7SAG05ZFQ amFilm Tempered Glass Screen Protector for Nintendo Switch 2017 (2-Pack) $15.99\n",
      "https://www.amazon.com/Fire-HD-10/dp/B07K1RZWMC/ref=zg_bs_electronics_18?_encoding=UTF8&psc=1&refRID=GGNJR9AXHDW7SAG05ZFQ All-New Fire HD 10 Tablet (10.1\" 1080p full HD display, 32 GB) – Black $149.99\n",
      "https://www.amazon.com/all-new-Echo/dp/B07R1CXKN7/ref=zg_bs_electronics_42?_encoding=UTF8&psc=1&refRID=GGNJR9AXHDW7SAG05ZFQ Echo (3rd Gen) - Voice control your music with Alexa - Twilight Blue $59.99\n",
      "https://www.amazon.com/TCL-40S325-Inch-1080p-Smart/dp/B07GB61TQR/ref=zg_bs_electronics_28?_encoding=UTF8&psc=1&refRID=GGNJR9AXHDW7SAG05ZFQ TCL 40S325 40 Inch 1080p Smart LED Roku TV (2019) $189.99\n",
      "https://www.amazon.com/Fujifilm-INSTAX-Instant-Sheets-Cameras/dp/B06W5JYQX1/ref=zg_bs_electronics_47?_encoding=UTF8&psc=1&refRID=GGNJR9AXHDW7SAG05ZFQ Fujifilm INSTAX Mini Instant Film 2 Pack = 20 Sheets (White) for Fujifilm Mini 8 & Mini 9 Cameras, Model:4332059078 $14.98\n",
      "https://www.amazon.com/Roku-Streaming-Stick-HDR-Streaming-Long-range/dp/B075XLWML4/ref=zg_bs_electronics_6?_encoding=UTF8&psc=1&refRID=GGNJR9AXHDW7SAG05ZFQ Roku Streaming Stick+ | HD/4K/HDR Streaming Device with Long-range Wireless and Voice Remote with TV Controls (updated for 2019) $49.00\n",
      "https://www.amazon.com/TCL-55S425-inch-Smart-Roku/dp/B07JJZPZNS/ref=zg_bs_electronics_37?_encoding=UTF8&psc=1&refRID=GGNJR9AXHDW7SAG05ZFQ TCL 55S425 55 inch 4K Smart LED Roku TV (2019) $299.99\n",
      "https://www.amazon.com/Echo-Dot-3rd-Gen-speaker/dp/B07W95GZNH/ref=zg_bs_electronics_9?_encoding=UTF8&psc=1&refRID=GGNJR9AXHDW7SAG05ZFQ Echo Dot (3rd Gen) - Smart speaker with Alexa - Plum $29.99\n",
      "https://www.amazon.com/Fire-TV-Stick-4K-with-Alexa-Voice-Remote/dp/B079QHML21/ref=zg_bs_electronics_3?_encoding=UTF8&psc=1&refRID=GGNJR9AXHDW7SAG05ZFQ Fire TV Stick 4K streaming device with Alexa built in, Dolby Vision, includes Alexa Voice Remote, latest release $49.99\n",
      "https://www.amazon.com/Roku-Premiere-HDR-Streaming-Player-Premium/dp/B07HDBZN7Q/ref=zg_bs_electronics_12?_encoding=UTF8&psc=1&refRID=GGNJR9AXHDW7SAG05ZFQ Roku Premiere | HD/4K/HDR Streaming Media Player, Simple Remote and Premium HDMI Cable $38.99\n",
      "https://www.amazon.com/Introducing-Echo-Show-Compact-Charcoal/dp/B07HZLHPKP/ref=zg_bs_electronics_35?_encoding=UTF8&psc=1&refRID=GGNJR9AXHDW7SAG05ZFQ Echo Show 5 – stay connected and in touch with Alexa - Charcoal $69.99\n",
      "https://www.amazon.com/TR-Industrial-TR88302-Multi-Purpose-Cable/dp/B01018DC96/ref=zg_bs_electronics_33?_encoding=UTF8&psc=1&refRID=GGNJR9AXHDW7SAG05ZFQ TR Industrial Multi-Purpose UV Resistant Black Cable Ties, 8 inches, 100 Pack $7.99\n",
      "https://www.amazon.com/Fire-7-Kids-Edition-Tablet/dp/B07H8WS1FT/ref=zg_bs_electronics_38?_encoding=UTF8&psc=1&refRID=GGNJR9AXHDW7SAG05ZFQ Fire 7 Kids Edition Tablet, 7\" Display, 16 GB, Blue Kid-Proof Case $99.99\n",
      "https://www.amazon.com/TCL-50S425-inch-Smart-Roku/dp/B07JK98NNQ/ref=zg_bs_electronics_46?_encoding=UTF8&psc=1&refRID=GGNJR9AXHDW7SAG05ZFQ TCL 50S425 50 inch 4K Smart LED Roku TV (2019) $259.99\n",
      "https://www.amazon.com/Fire-TV-Stick-with-Alexa-Voice-Remote/dp/B0791TX5P5/ref=zg_bs_electronics_1?_encoding=UTF8&psc=1&refRID=GGNJR9AXHDW7SAG05ZFQ Fire TV Stick streaming media player with Alexa built in, includes Alexa Voice Remote, HD, easy set-up, released 2019 $39.99\n"
     ]
    },
    {
     "name": "stdout",
     "output_type": "stream",
     "text": [
      "https://www.amazon.com/All-new-Kindle-Paperwhite-Waterproof-Storage/dp/B07CXG6C9W/ref=zg_bs_electronics_30?_encoding=UTF8&psc=1&refRID=GGNJR9AXHDW7SAG05ZFQ Kindle Paperwhite – Now Waterproof with 2x the Storage – Includes Special Offers $129.99\n",
      "https://www.amazon.com/GE-Outlet-Protector-Extension-14092/dp/B00DOMYL24/ref=zg_bs_electronics_19?_encoding=UTF8&psc=1&refRID=GGNJR9AXHDW7SAG05ZFQ GE 6 Outlet Surge Protector, 10 Ft Extension Cord, Power Strip, 800 Joules, Flat Plug, Twist-to-Close Safety Covers, White, 14092 $12.02\n",
      "https://www.amazon.com/all-new-fire-tv-cube-with-alexa-voice-remote/dp/B07KGVB6D6/ref=zg_bs_electronics_44?_encoding=UTF8&psc=1&refRID=GGNJR9AXHDW7SAG05ZFQ All-new Fire TV Cube, hands-free with Alexa built in, 4K Ultra HD, streaming media player, released 2019 $119.99\n",
      "https://www.amazon.com/All-New-Tablet-Display-Canary-Yellow/dp/B07952VWF2/ref=zg_bs_electronics_13?_encoding=UTF8&psc=1&refRID=GGNJR9AXHDW7SAG05ZFQ Fire HD 8 Tablet (8\" HD Display, 16 GB) - Yellow $49.99\n",
      "https://www.amazon.com/Fire-7-Kids-Edition-Tablet/dp/B07H8ZCSL9/ref=zg_bs_electronics_48?_encoding=UTF8&psc=1&refRID=GGNJR9AXHDW7SAG05ZFQ Fire 7 Kids Edition Tablet, 7\" Display, 16 GB, Pink Kid-Proof Case $99.99\n",
      "https://www.amazon.com/Roku-Streaming-Player-Premium-Headphones/dp/B07WVF9SL5/ref=zg_bs_electronics_45?_encoding=UTF8&psc=1&refRID=GGNJR9AXHDW7SAG05ZFQ Roku Ultra | Streaming Media Player 4K/HD/HDR with Premium JBL Headphones 2019 $88.56\n",
      "https://www.amazon.com/Capacitive-Stylus-Pen-Multicolor-Touchscreen/dp/B07Y8Q1V1Z/ref=zg_bs_electronics_34?_encoding=UTF8&psc=1&refRID=GGNJR9AXHDW7SAG05ZFQ 12 Pack Universal Capacitive Stylus Pen Portable Multicolor Touchscreen Stylus Pens Compatible with Apple iPhone 5 /5S/ 5C /6/7/11 Plus iPad Galaxy Tablet Smartphone PDA $2.99\n",
      "https://www.amazon.com/SanDisk-MicroSDXC-Nintendo-Switch-SDSQXAO-128G-GNCZN/dp/B07KXQX3S3/ref=zg_bs_electronics_15?_encoding=UTF8&psc=1&refRID=GGNJR9AXHDW7SAG05ZFQ SanDisk 128GB MicroSDXC UHS-I Memory Card for Nintendo Switch - SDSQXAO-128G-GNCZN $25.99\n",
      "https://www.amazon.com/Wyze-Indoor-Wireless-Camera-Vision/dp/B07G2YR23M/ref=zg_bs_electronics_43?_encoding=UTF8&psc=1&refRID=GGNJR9AXHDW7SAG05ZFQ Wyze Cam 1080p HD Indoor Smart Home Camera with Night Vision, 2-Way Audio, Works with Alexa & the Google Assistant, White, 2-Pack $47.65\n",
      "https://www.amazon.com/Echo-Show-8/dp/B07PF1Y28C/ref=zg_bs_electronics_36?_encoding=UTF8&psc=1&refRID=GGNJR9AXHDW7SAG05ZFQ Echo Show 8 - HD 8\" smart display with Alexa - Charcoal $99.99\n",
      "https://www.amazon.com/Roku-Express-Streaming-Media-Player/dp/B07WVFCVJN/ref=zg_bs_electronics_4?_encoding=UTF8&psc=1&refRID=GGNJR9AXHDW7SAG05ZFQ Roku Express HD Streaming Media Player 2019 $29.00\n",
      "https://www.amazon.com/Sabrent-4-Port-Individual-Switches-HB-UMLS/dp/B00BWF5U0M/ref=zg_bs_electronics_24?_encoding=UTF8&psc=1&refRID=GGNJR9AXHDW7SAG05ZFQ None None\n",
      "https://www.amazon.com/Kindle-Paperwhite-Waterproof-Storage-Special/dp/B07PS737QQ/ref=zg_bs_electronics_41?_encoding=UTF8&psc=1&refRID=GGNJR9AXHDW7SAG05ZFQ Kindle Paperwhite – Now Waterproof with 2x the Storage – Includes Special Offers $129.99\n",
      "https://www.amazon.com/Echo-Dot/dp/B07PDHSLM6/ref=zg_bs_electronics_17?_encoding=UTF8&psc=1&refRID=GGNJR9AXHDW7SAG05ZFQ Echo Dot (3rd Gen) - Smart speaker with Alexa - Heather Gray $29.99\n",
      "https://www.amazon.com/Sceptre-E205W-16003R-Frameless-Speakers-Metallic/dp/B07743412C/ref=zg_bs_electronics_32?_encoding=UTF8&psc=1&refRID=GGNJR9AXHDW7SAG05ZFQ Sceptre E205W-16003R 20\" 1600x900 up to 75Hz Ultra Thin Frameless LED Monitor 2x HDMI VGA Built-in Speakers, Machine Black (Wide Viewing Angle 170° (Horizontal) / 160° (Vertical) ) $74.99\n",
      "https://www.amazon.com/Acer-SB220Q-Ultra-Thin-Frame-Monitor/dp/B07CVL2D2S/ref=zg_bs_electronics_14?_encoding=UTF8&psc=1&refRID=GGNJR9AXHDW7SAG05ZFQ None None\n",
      "https://www.amazon.com/Fire-Tablet-7/dp/B07FKR6KXF/ref=zg_bs_electronics_25?_encoding=UTF8&psc=1&refRID=GGNJR9AXHDW7SAG05ZFQ None None\n",
      "https://www.amazon.com/All-new-Blink-Outdoor-Security-included/dp/B07MMZF2BF/ref=zg_bs_electronics_49?_encoding=UTF8&psc=1&refRID=GGNJR9AXHDW7SAG05ZFQ None None\n",
      "https://www.amazon.com/Fitbit-Fitness-Smartwatch-Tracking-Included/dp/B07TWFVDWT/ref=zg_bs_electronics_22?_encoding=UTF8&psc=1&refRID=GGNJR9AXHDW7SAG05ZFQ None None\n",
      "https://www.amazon.com/Bototek-Protector-Charging-Extension-Smartphone/dp/B07MVZZV3G/ref=zg_bs_electronics_31?_encoding=UTF8&psc=1&refRID=GGNJR9AXHDW7SAG05ZFQ None None\n",
      "https://www.amazon.com/all-new-Echo/dp/B07NFTVP7P/ref=zg_bs_electronics_27?_encoding=UTF8&psc=1&refRID=GGNJR9AXHDW7SAG05ZFQ None None\n",
      "https://www.amazon.com/OHill-Organizer-Management-Organizing-Adhesive/dp/B071FXZBMV/ref=zg_bs_electronics_40?_encoding=UTF8&psc=1&refRID=GGNJR9AXHDW7SAG05ZFQ None None\n",
      "https://www.amazon.com/TP-Link-AC1750-Smart-WiFi-Router/dp/B079JD7F7G/ref=zg_bs_electronics_8?_encoding=UTF8&psc=1&refRID=GGNJR9AXHDW7SAG05ZFQ None None\n",
      "https://www.amazon.com/Echo-Dot-3rd-Gen-Sandstone/dp/B07PGL2N7J/ref=zg_bs_electronics_11?_encoding=UTF8&psc=1&refRID=GGNJR9AXHDW7SAG05ZFQ None None\n",
      "https://www.amazon.com/All-New-Fire-Tablet-Display-Marine/dp/B0794Y5P5C/ref=zg_bs_electronics_20?_encoding=UTF8&psc=1&refRID=GGNJR9AXHDW7SAG05ZFQ None None\n",
      "https://www.amazon.com/Sceptre-Curved-Monitor-Speakers-C248W-1920RN/dp/B07KXSR99Y/ref=zg_bs_electronics_10?_encoding=UTF8&psc=1&refRID=GGNJR9AXHDW7SAG05ZFQ None None\n",
      "https://www.amazon.com/Wyze-1080p-Indoor-Camera-Vision/dp/B07DGR98VQ/ref=zg_bs_electronics_21?_encoding=UTF8&psc=1&refRID=GGNJR9AXHDW7SAG05ZFQ None None\n",
      "https://www.amazon.com/Echo-Dot/dp/B07N8RPRF7/ref=zg_bs_electronics_7?_encoding=UTF8&psc=1&refRID=GGNJR9AXHDW7SAG05ZFQ None None\n",
      "https://www.amazon.com/Ring-8AB1S7-0EU0-Rechargeable-Battery-Pack/dp/B076JKHDQT/ref=zg_bs_electronics_26?_encoding=UTF8&psc=1&refRID=GGNJR9AXHDW7SAG05ZFQ None None\n",
      "https://www.amazon.com/Echo-Dot/dp/B07FZ8S74R/ref=zg_bs_electronics_2?_encoding=UTF8&psc=1&refRID=GGNJR9AXHDW7SAG05ZFQ None None\n",
      "https://www.amazon.com/Apple-iPad-10-2-Inch-Wi-Fi-32GB/dp/B07XL7G4H6/ref=zg_bs_electronics_5?_encoding=UTF8&psc=1&refRID=GGNJR9AXHDW7SAG05ZFQ None None\n",
      "https://www.amazon.com/Amazon-Smart-Plug-works-Alexa/dp/B01MZEEFNX/ref=zg_bs_electronics_50?_encoding=UTF8&psc=1&refRID=GGNJR9AXHDW7SAG05ZFQ None None\n",
      "https://www.amazon.com/All-New-Fire-Tablet-Display-Punch/dp/B078HNTH41/ref=zg_bs_electronics_29?_encoding=UTF8&psc=1&refRID=GGNJR9AXHDW7SAG05ZFQ None None\n",
      "https://www.amazon.com/Hanes-Beefy-T-Adult-Short-Sleeve-T-Shirt/dp/B004COBWOI/ref=zg_bs_fashion_34?_encoding=UTF8&psc=1&refRID=M4P7EFK0DWPMB3G1P3S6 None None\n",
      "https://www.amazon.com/Hanes-Ecosmart-Fleece-Sweatshirt-Forest/dp/B01L8JJ7XW/ref=zg_bs_fashion_6?_encoding=UTF8&psc=1&refRID=M4P7EFK0DWPMB3G1P3S6 None None\n",
      "https://www.amazon.com/Levis-Regular-Fit-Jeans-Medium-Stonewash/dp/B0018QS7CI/ref=zg_bs_fashion_29?_encoding=UTF8&psc=1&refRID=M4P7EFK0DWPMB3G1P3S6 None None\n",
      "https://www.amazon.com/Novelty-Bandanas-Paisley-Cotton-Brown/dp/B00II9UNAM/ref=zg_bs_fashion_16?_encoding=UTF8&psc=1&refRID=M4P7EFK0DWPMB3G1P3S6 None None\n",
      "https://www.amazon.com/Fruit-Loom-CoolZone-Briefs-Argyle/dp/B07P7KP1SV/ref=zg_bs_fashion_11?_encoding=UTF8&psc=1&refRID=M4P7EFK0DWPMB3G1P3S6 None None\n",
      "https://www.amazon.com/Levis-Bandanas-100-Cotton-Headband/dp/B009YQX1SO/ref=zg_bs_fashion_10?_encoding=UTF8&psc=1&refRID=M4P7EFK0DWPMB3G1P3S6 None None\n",
      "https://www.amazon.com/Hanes-Womens-Middle-Sweatpant-Heather/dp/B0169P8OZC/ref=zg_bs_fashion_44?_encoding=UTF8&psc=1&refRID=M4P7EFK0DWPMB3G1P3S6 None None\n",
      "https://www.amazon.com/Gildan-Mens-T-Shirt-Assortment-Small/dp/B077ZKF9ZN/ref=zg_bs_fashion_8?_encoding=UTF8&psc=1&refRID=M4P7EFK0DWPMB3G1P3S6 None None\n",
      "https://www.amazon.com/Champion-Short-Pockets-Black-Small/dp/B0036OS6KS/ref=zg_bs_fashion_41?_encoding=UTF8&psc=1&refRID=M4P7EFK0DWPMB3G1P3S6 None None\n",
      "https://www.amazon.com/Amazon-Essentials-Classic-Fit-Short-Sleeve-T-Shirt/dp/B07752LYFW/ref=zg_bs_fashion_17?_encoding=UTF8&psc=1&refRID=M4P7EFK0DWPMB3G1P3S6 None None\n",
      "https://www.amazon.com/Crocs-Baby-Littles-Clog-Infant-Lavender/dp/B07HHSX6B7/ref=zg_bs_fashion_15?_encoding=UTF8&psc=1&refRID=M4P7EFK0DWPMB3G1P3S6 None None\n",
      "https://www.amazon.com/Baleaf-Womens-Workout-Control-Pockets/dp/B07LF27WBQ/ref=zg_bs_fashion_28?_encoding=UTF8&psc=1&refRID=M4P7EFK0DWPMB3G1P3S6 None None\n",
      "https://www.amazon.com/UHEREBUY-Gaiter-Scarf-Protection-Headwear/dp/B07XYNQ2ST/ref=zg_bs_fashion_14?_encoding=UTF8&psc=1&refRID=M4P7EFK0DWPMB3G1P3S6 None None\n",
      "https://www.amazon.com/Hanes-Womens-Jersey-Short-Black/dp/B016YKIBHS/ref=zg_bs_fashion_12?_encoding=UTF8&psc=1&refRID=M4P7EFK0DWPMB3G1P3S6 None None\n",
      "https://www.amazon.com/Gerber-5-Pack-Onesies-Bodysuits-Newborn/dp/B007CRR7YQ/ref=zg_bs_fashion_32?_encoding=UTF8&psc=1&refRID=M4P7EFK0DWPMB3G1P3S6 None None\n",
      "https://www.amazon.com/Konikit-Seamless-Headband-Bandanas-Balaclavas/dp/B086X239YW/ref=zg_bs_fashion_18?_encoding=UTF8&psc=1&refRID=M4P7EFK0DWPMB3G1P3S6 None None\n",
      "https://www.amazon.com/Amazon-Essentials-Short-Sleeve-Crewneck-T-Shirt/dp/B07756KYJJ/ref=zg_bs_fashion_39?_encoding=UTF8&psc=1&refRID=M4P7EFK0DWPMB3G1P3S6 None None\n"
     ]
    },
    {
     "name": "stdout",
     "output_type": "stream",
     "text": [
      "https://www.amazon.com/Hanes-ComfortSoft-Cotton-T-Shirt-Black-Steel-S-2PK/dp/B018MS63B6/ref=zg_bs_fashion_47?_encoding=UTF8&psc=1&refRID=M4P7EFK0DWPMB3G1P3S6 None None\n",
      "https://www.amazon.com/Rebirth-Shop-Anti-Haze-Breathable-Lightweight/dp/B08767JLB8/ref=zg_bs_fashion_36?_encoding=UTF8&psc=1&refRID=M4P7EFK0DWPMB3G1P3S6 None None\n",
      "https://www.amazon.com/Fruit-Loom-womens-Cotton-Pullover/dp/B07K9C8NRT/ref=zg_bs_fashion_45?_encoding=UTF8&psc=1&refRID=M4P7EFK0DWPMB3G1P3S6 None None\n",
      "https://www.amazon.com/Fruit-Loom-Womens-Built-Up-Sports/dp/B07KL1WLG6/ref=zg_bs_fashion_26?_encoding=UTF8&psc=1&refRID=M4P7EFK0DWPMB3G1P3S6 None None\n",
      "https://www.amazon.com/Carhartt-Workwear-Pocket-Short-Sleeve-T-Shirt/dp/B0007XB2Y8/ref=zg_bs_fashion_1?_encoding=UTF8&psc=1&refRID=M4P7EFK0DWPMB3G1P3S6 None None\n",
      "https://www.amazon.com/Bali-Designs-Womens-Comfort-Revolution/dp/B06X1BWH4S/ref=zg_bs_fashion_21?_encoding=UTF8&psc=1&refRID=M4P7EFK0DWPMB3G1P3S6 None None\n",
      "https://www.amazon.com/Amazon-Essentials-2-Pack-Loose-Fit-Performance/dp/B0719SF8JT/ref=zg_bs_fashion_46?_encoding=UTF8&psc=1&refRID=M4P7EFK0DWPMB3G1P3S6 None None\n",
      "https://www.amazon.com/Balaclava-Protection-Women-Gaiters-Bandana/dp/B086X8X7BR/ref=zg_bs_fashion_48?_encoding=UTF8&psc=1&refRID=M4P7EFK0DWPMB3G1P3S6 None None\n",
      "https://www.amazon.com/Gildan-Fleece-Crewneck-Sweatshirt-3X-Large/dp/B07MKKRM7L/ref=zg_bs_fashion_31?_encoding=UTF8&psc=1&refRID=M4P7EFK0DWPMB3G1P3S6 None None\n",
      "https://www.amazon.com/crocs-Unisex-Classic-White-Women/dp/B00152AGEW/ref=zg_bs_fashion_4?_encoding=UTF8&psc=1&refRID=M4P7EFK0DWPMB3G1P3S6 None None\n",
      "https://www.amazon.com/Gildan-Cotton-Sleeve-T-Shirt-2-Pack/dp/B076831CCJ/ref=zg_bs_fashion_43?_encoding=UTF8&psc=1&refRID=M4P7EFK0DWPMB3G1P3S6 None None\n",
      "https://www.amazon.com/TIJN-Blocking-Glasses-Vintage-Eyeglasses/dp/B07JVCSB29/ref=zg_bs_fashion_23?_encoding=UTF8&psc=1&refRID=M4P7EFK0DWPMB3G1P3S6 None None\n",
      "https://www.amazon.com/iHeartRaves-Skeleton-Multi-functional-Seamless-Bandana/dp/B015YGSG0U/ref=zg_bs_fashion_3?_encoding=UTF8&psc=1&refRID=M4P7EFK0DWPMB3G1P3S6 None None\n",
      "https://www.amazon.com/Hudson-Baby-Sleeveless-Bodysuits-Baseball/dp/B07DPWTB9L/ref=zg_bs_fashion_42?_encoding=UTF8&psc=1&refRID=M4P7EFK0DWPMB3G1P3S6 None None\n",
      "https://www.amazon.com/YIANNA-Underbust-Trainer-Corsets-Hourglass/dp/B0101BQV2I/ref=zg_bs_fashion_33?_encoding=UTF8&psc=1&refRID=M4P7EFK0DWPMB3G1P3S6 None None\n",
      "https://www.amazon.com/Amazon-Essentials-Stretch-10-Pack-X-Small/dp/B07CJWMX3C/ref=zg_bs_fashion_7?_encoding=UTF8&psc=1&refRID=M4P7EFK0DWPMB3G1P3S6 None None\n",
      "https://www.amazon.com/Warners-Blissful-Benefits-Hipster-Flamingo/dp/B076DW34RL/ref=zg_bs_fashion_5?_encoding=UTF8&psc=1&refRID=M4P7EFK0DWPMB3G1P3S6 None None\n",
      "https://www.amazon.com/Hanes-Pullover-EcoSmart-Fleece-Sweatshirt/dp/B072LZTRVC/ref=zg_bs_fashion_13?_encoding=UTF8&psc=1&refRID=M4P7EFK0DWPMB3G1P3S6 None None\n",
      "https://www.amazon.com/Crocs-Classic-Graphic-Multi-Women/dp/B07GTBP825/ref=zg_bs_fashion_35?_encoding=UTF8&psc=1&refRID=M4P7EFK0DWPMB3G1P3S6 None None\n",
      "https://www.amazon.com/adidas-Adilette-Shower-Slide-Sandal/dp/B07SBR3TLB/ref=zg_bs_fashion_38?_encoding=UTF8&psc=1&refRID=M4P7EFK0DWPMB3G1P3S6 None None\n",
      "https://www.amazon.com/INTO-AM-Paint-Splatter-Seamless/dp/B07B69CFJF/ref=zg_bs_fashion_2?_encoding=UTF8&psc=1&refRID=M4P7EFK0DWPMB3G1P3S6 None None\n",
      "https://www.amazon.com/Dickies-Multi-Pack-Dri-Tech-Moisture-Control/dp/B01N6YAVNM/ref=zg_bs_fashion_19?_encoding=UTF8&psc=1&refRID=M4P7EFK0DWPMB3G1P3S6 None None\n",
      "https://www.amazon.com/Gildan-Fleece-Sweatshirt-G18500-3X-Large/dp/B07MGYGYY8/ref=zg_bs_fashion_50?_encoding=UTF8&psc=1&refRID=M4P7EFK0DWPMB3G1P3S6 None None\n",
      "https://www.amazon.com/BEAUTEVER-Washable-Reusable-Fishing-Women-Black/dp/B087GKBGBL/ref=zg_bs_fashion_49?_encoding=UTF8&psc=1&refRID=M4P7EFK0DWPMB3G1P3S6 None None\n",
      "https://www.amazon.com/Native-baby-girls-Jefferson-Shoes-Hollywood/dp/B074H87DL9/ref=zg_bs_fashion_40?_encoding=UTF8&psc=1&refRID=M4P7EFK0DWPMB3G1P3S6 None None\n",
      "https://www.amazon.com/Womens-Walking-Shoes-Sock-Sneakers/dp/B07R6R7JV5/ref=zg_bs_fashion_20?_encoding=UTF8&psc=1&refRID=M4P7EFK0DWPMB3G1P3S6 None None\n",
      "https://www.amazon.com/Gildan-Ultra-Cotton-Black-Small/dp/B01LZ2WFDA/ref=zg_bs_fashion_24?_encoding=UTF8&psc=1&refRID=M4P7EFK0DWPMB3G1P3S6 None None\n",
      "https://www.amazon.com/VENUZOR-Waist-Trainer-Belt-Women/dp/B0782TSJRT/ref=zg_bs_fashion_25?_encoding=UTF8&psc=1&refRID=M4P7EFK0DWPMB3G1P3S6 None None\n",
      "https://www.amazon.com/AMiERY-Pajamas-Womens-Drawstring-Palazzo/dp/B073P8H9QG/ref=zg_bs_fashion_37?_encoding=UTF8&psc=1&refRID=M4P7EFK0DWPMB3G1P3S6 None None\n",
      "https://www.amazon.com/Seamless-Protection-Headwear-Festival-Motorcycle/dp/B0875KCPC5/ref=zg_bs_fashion_27?_encoding=UTF8&psc=1&refRID=M4P7EFK0DWPMB3G1P3S6 None None\n",
      "https://www.amazon.com/Crocs-Kids-Crocband-Smoke-Toddler/dp/B01HEXGDII/ref=zg_bs_fashion_30?_encoding=UTF8&psc=1&refRID=M4P7EFK0DWPMB3G1P3S6 None None\n",
      "https://www.amazon.com/Hanes-Womens-T-Shirt-Small-Black/dp/B00KRYLG7U/ref=zg_bs_fashion_22?_encoding=UTF8&psc=1&refRID=M4P7EFK0DWPMB3G1P3S6 None None\n",
      "https://www.amazon.com/Achiou-Mask-Dust-Protection-Lightweight-Breathable/dp/B07T2MD442/ref=zg_bs_fashion_9?_encoding=UTF8&psc=1&refRID=M4P7EFK0DWPMB3G1P3S6 None None\n"
     ]
    }
   ],
   "source": [
    "df_sub = df_sub.apply(row_scrape_event, axis=1)"
   ]
  },
  {
   "cell_type": "code",
   "execution_count": null,
   "metadata": {},
   "outputs": [],
   "source": [
    "# df.to_csv(product_output, index=False)"
   ]
  },
  {
   "cell_type": "code",
   "execution_count": 19,
   "metadata": {},
   "outputs": [],
   "source": [
    "products_df = pd.read_csv(product_output)"
   ]
  },
  {
   "cell_type": "code",
   "execution_count": 21,
   "metadata": {},
   "outputs": [],
   "source": [
    "final_df = pd.concat([products_df, df_sub])\n",
    "final_df.to_csv(product_output, index=False)"
   ]
  },
  {
   "cell_type": "code",
   "execution_count": 24,
   "metadata": {},
   "outputs": [
    {
     "data": {
      "text/html": [
       "<div>\n",
       "<style scoped>\n",
       "    .dataframe tbody tr th:only-of-type {\n",
       "        vertical-align: middle;\n",
       "    }\n",
       "\n",
       "    .dataframe tbody tr th {\n",
       "        vertical-align: top;\n",
       "    }\n",
       "\n",
       "    .dataframe thead th {\n",
       "        text-align: right;\n",
       "    }\n",
       "</style>\n",
       "<table border=\"1\" class=\"dataframe\">\n",
       "  <thead>\n",
       "    <tr style=\"text-align: right;\">\n",
       "      <th></th>\n",
       "      <th>url</th>\n",
       "      <th>product_id</th>\n",
       "      <th>title</th>\n",
       "      <th>price</th>\n",
       "      <th>timestamp</th>\n",
       "      <th>category</th>\n",
       "      <th>scraped</th>\n",
       "    </tr>\n",
       "  </thead>\n",
       "  <tbody>\n",
       "    <tr>\n",
       "      <th>0</th>\n",
       "      <td>https://www.amazon.com/First-Years-Stack-Up-Cu...</td>\n",
       "      <td>B00005C5H4</td>\n",
       "      <td>NaN</td>\n",
       "      <td>NaN</td>\n",
       "      <td>NaN</td>\n",
       "      <td>NaN</td>\n",
       "      <td>NaN</td>\n",
       "    </tr>\n",
       "    <tr>\n",
       "      <th>1</th>\n",
       "      <td>https://www.amazon.com/Crayola-Markers-Assorte...</td>\n",
       "      <td>B01C64BASI</td>\n",
       "      <td>Crayola Fine Line Markers Adult Coloring Set, ...</td>\n",
       "      <td>$12.99</td>\n",
       "      <td>1.587710e+09</td>\n",
       "      <td>{'name': 'toys-and-games', 'url': 'https://www...</td>\n",
       "      <td>1.0</td>\n",
       "    </tr>\n",
       "    <tr>\n",
       "      <th>2</th>\n",
       "      <td>https://www.amazon.com/Crayola-Washable-Sidewa...</td>\n",
       "      <td>B00LH1WN4W</td>\n",
       "      <td>NaN</td>\n",
       "      <td>NaN</td>\n",
       "      <td>1.587710e+09</td>\n",
       "      <td>{'name': 'toys-and-games', 'url': 'https://www...</td>\n",
       "      <td>1.0</td>\n",
       "    </tr>\n",
       "    <tr>\n",
       "      <th>3</th>\n",
       "      <td>https://www.amazon.com/Crayola-Colored-Pre-sha...</td>\n",
       "      <td>B018HB2QFU</td>\n",
       "      <td>Crayola Colored Pencils, Adult Coloring, Fun A...</td>\n",
       "      <td>$19.38</td>\n",
       "      <td>1.587710e+09</td>\n",
       "      <td>{'name': 'toys-and-games', 'url': 'https://www...</td>\n",
       "      <td>1.0</td>\n",
       "    </tr>\n",
       "    <tr>\n",
       "      <th>4</th>\n",
       "      <td>https://www.amazon.com/L-L-Surprise-Candylicio...</td>\n",
       "      <td>B07XSQ3BYJ</td>\n",
       "      <td>L.O.L. Surprise! O.M.G. Candylicious Fashion D...</td>\n",
       "      <td>$26.88</td>\n",
       "      <td>1.587710e+09</td>\n",
       "      <td>{'name': 'toys-and-games', 'url': 'https://www...</td>\n",
       "      <td>1.0</td>\n",
       "    </tr>\n",
       "  </tbody>\n",
       "</table>\n",
       "</div>"
      ],
      "text/plain": [
       "                                                 url  product_id  \\\n",
       "0  https://www.amazon.com/First-Years-Stack-Up-Cu...  B00005C5H4   \n",
       "1  https://www.amazon.com/Crayola-Markers-Assorte...  B01C64BASI   \n",
       "2  https://www.amazon.com/Crayola-Washable-Sidewa...  B00LH1WN4W   \n",
       "3  https://www.amazon.com/Crayola-Colored-Pre-sha...  B018HB2QFU   \n",
       "4  https://www.amazon.com/L-L-Surprise-Candylicio...  B07XSQ3BYJ   \n",
       "\n",
       "                                               title   price     timestamp  \\\n",
       "0                                                NaN     NaN           NaN   \n",
       "1  Crayola Fine Line Markers Adult Coloring Set, ...  $12.99  1.587710e+09   \n",
       "2                                                NaN     NaN  1.587710e+09   \n",
       "3  Crayola Colored Pencils, Adult Coloring, Fun A...  $19.38  1.587710e+09   \n",
       "4  L.O.L. Surprise! O.M.G. Candylicious Fashion D...  $26.88  1.587710e+09   \n",
       "\n",
       "                                            category  scraped  \n",
       "0                                                NaN      NaN  \n",
       "1  {'name': 'toys-and-games', 'url': 'https://www...      1.0  \n",
       "2  {'name': 'toys-and-games', 'url': 'https://www...      1.0  \n",
       "3  {'name': 'toys-and-games', 'url': 'https://www...      1.0  \n",
       "4  {'name': 'toys-and-games', 'url': 'https://www...      1.0  "
      ]
     },
     "execution_count": 24,
     "metadata": {},
     "output_type": "execute_result"
    }
   ],
   "source": [
    "final_df.head()"
   ]
  },
  {
   "cell_type": "code",
   "execution_count": null,
   "metadata": {},
   "outputs": [],
   "source": []
  }
 ],
 "metadata": {
  "kernelspec": {
   "display_name": "Python 3",
   "language": "python",
   "name": "python3"
  },
  "language_info": {
   "codemirror_mode": {
    "name": "ipython",
    "version": 3
   },
   "file_extension": ".py",
   "mimetype": "text/x-python",
   "name": "python",
   "nbconvert_exporter": "python",
   "pygments_lexer": "ipython3",
   "version": "3.8.2"
  }
 },
 "nbformat": 4,
 "nbformat_minor": 4
}
