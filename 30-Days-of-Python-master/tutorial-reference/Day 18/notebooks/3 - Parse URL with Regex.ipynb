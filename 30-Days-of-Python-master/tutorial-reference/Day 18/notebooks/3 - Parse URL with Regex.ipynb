{
 "cells": [
  {
   "cell_type": "code",
   "execution_count": 1,
   "metadata": {},
   "outputs": [],
   "source": [
    "import re\n",
    "import requests\n",
    "import time\n",
    "from requests_html import HTML\n",
    "from selenium import webdriver\n",
    "from selenium.webdriver.chrome.options import Options"
   ]
  },
  {
   "cell_type": "code",
   "execution_count": 2,
   "metadata": {},
   "outputs": [],
   "source": [
    "options = Options()\n",
    "options.add_argument(\"--headless\")\n",
    "\n",
    "driver = webdriver.Chrome(options=options)"
   ]
  },
  {
   "cell_type": "code",
   "execution_count": 3,
   "metadata": {},
   "outputs": [],
   "source": [
    "categories = [\n",
    "    \"https://www.amazon.com/Best-Sellers-Toys-Games/zgbs/toys-and-games/\",\n",
    "    \"https://www.amazon.com/Best-Sellers-Electronics/zgbs/electronics/\",\n",
    "    \"https://www.amazon.com/Best-Sellers/zgbs/fashion/\"\n",
    "]"
   ]
  },
  {
   "cell_type": "code",
   "execution_count": 4,
   "metadata": {},
   "outputs": [],
   "source": [
    "# categories"
   ]
  },
  {
   "cell_type": "code",
   "execution_count": 5,
   "metadata": {},
   "outputs": [],
   "source": [
    "first_url = categories[0]"
   ]
  },
  {
   "cell_type": "code",
   "execution_count": 6,
   "metadata": {},
   "outputs": [],
   "source": [
    "driver.get(first_url)"
   ]
  },
  {
   "cell_type": "code",
   "execution_count": 7,
   "metadata": {},
   "outputs": [],
   "source": [
    "body_el = driver.find_element_by_css_selector(\"body\")\n",
    "html_str = body_el.get_attribute(\"innerHTML\")"
   ]
  },
  {
   "cell_type": "code",
   "execution_count": 8,
   "metadata": {},
   "outputs": [],
   "source": [
    "html_obj = HTML(html=html_str)"
   ]
  },
  {
   "cell_type": "code",
   "execution_count": 9,
   "metadata": {},
   "outputs": [],
   "source": [
    "page_links = [f\"https://www.amazon.com{x}\" for x in html_obj.links if x.startswith(\"/\")]\n",
    "# new_links = [x for x in new_links if \"product-reviews/\" not in x]"
   ]
  },
  {
   "cell_type": "code",
   "execution_count": 10,
   "metadata": {},
   "outputs": [],
   "source": [
    "# page_links"
   ]
  },
  {
   "cell_type": "code",
   "execution_count": 11,
   "metadata": {},
   "outputs": [],
   "source": [
    "def scrape_product_page(url, title_lookup = \"#productTitle\", price_lookup = \"#priceblock_ourprice\"):\n",
    "    driver.get(url)\n",
    "    time.sleep(0.5)\n",
    "    body_el = driver.find_element_by_css_selector(\"body\")\n",
    "    html_str = body_el.get_attribute(\"innerHTML\")\n",
    "    html_obj = HTML(html=html_str)\n",
    "    product_title = html_obj.find(title_lookup, first=True).text\n",
    "    product_price = html_obj.find(price_lookup, first=True).text\n",
    "    return product_title, product_price"
   ]
  },
  {
   "cell_type": "code",
   "execution_count": null,
   "metadata": {},
   "outputs": [],
   "source": []
  },
  {
   "cell_type": "code",
   "execution_count": null,
   "metadata": {},
   "outputs": [],
   "source": []
  },
  {
   "cell_type": "code",
   "execution_count": 12,
   "metadata": {},
   "outputs": [],
   "source": [
    "# https://www.amazon.com/LEGO-Classic-Medium-Creative-Brick/dp/B00NHQFA1I/\n",
    "# https://www.amazon.com/Crayola-Washable-Watercolors-8-ea/dp/B000HHKAE2/\n",
    "\n",
    "# <base-url>/<slug>/dp/<product_id>/"
   ]
  },
  {
   "cell_type": "code",
   "execution_count": 13,
   "metadata": {},
   "outputs": [],
   "source": [
    "# my_regex_pattern = r\"https://www.amazon.com/(?P<slug>[\\w-]+)/dp/(?P<product_id>[\\w-]+)/\"\n",
    "# my_url = 'https://www.amazon.com/Crayola-Washable-Watercolors-8-ea/dp/B000HHKAE2/'"
   ]
  },
  {
   "cell_type": "code",
   "execution_count": 14,
   "metadata": {},
   "outputs": [],
   "source": [
    "# regex = re.compile(my_regex_pattern)"
   ]
  },
  {
   "cell_type": "code",
   "execution_count": 15,
   "metadata": {},
   "outputs": [],
   "source": [
    "# my_match = regex.match(my_url)\n",
    "# print(my_match)\n",
    "# my_match['product_id']"
   ]
  },
  {
   "cell_type": "code",
   "execution_count": 16,
   "metadata": {},
   "outputs": [],
   "source": [
    "# my_match['slug']"
   ]
  },
  {
   "cell_type": "code",
   "execution_count": 17,
   "metadata": {},
   "outputs": [],
   "source": [
    "regex_options = [\n",
    "    r\"https://www.amazon.com/gp/product/(?P<product_id>[\\w-]+)/\",\n",
    "    r\"https://www.amazon.com/dp/(?P<product_id>[\\w-]+)/\",\n",
    "    r\"https://www.amazon.com/(?P<slug>[\\w-]+)/dp/(?P<product_id>[\\w-]+)/\",\n",
    "]\n",
    "\n",
    "def extract_product_id_from_url(url):\n",
    "    product_id = None\n",
    "    for regex_str in regex_options:\n",
    "        regex = re.compile(regex_str)\n",
    "        match = regex.match(url)\n",
    "        if match != None:\n",
    "            try:\n",
    "                product_id = match['product_id']\n",
    "            except:\n",
    "                pass\n",
    "    return product_id"
   ]
  },
  {
   "cell_type": "code",
   "execution_count": 18,
   "metadata": {},
   "outputs": [],
   "source": [
    "\n",
    "# page_links = [x for x in page_links if extract_product_id_from_url(x) != None]\n",
    "def clean_page_links(page_links=[]):\n",
    "    final_page_links = []\n",
    "    for url in page_links:\n",
    "        product_id = extract_product_id_from_url(url)\n",
    "        if product_id != None:\n",
    "            final_page_links.append({\"url\": url, \"product_id\": product_id})\n",
    "    return final_page_links\n",
    "\n",
    "cleaned_links = clean_page_links(page_links)"
   ]
  },
  {
   "cell_type": "code",
   "execution_count": 19,
   "metadata": {},
   "outputs": [
    {
     "data": {
      "text/plain": [
       "205"
      ]
     },
     "execution_count": 19,
     "metadata": {},
     "output_type": "execute_result"
    }
   ],
   "source": [
    "len(page_links) # == len(cleaned_links)"
   ]
  },
  {
   "cell_type": "code",
   "execution_count": 20,
   "metadata": {},
   "outputs": [
    {
     "data": {
      "text/plain": [
       "51"
      ]
     },
     "execution_count": 20,
     "metadata": {},
     "output_type": "execute_result"
    }
   ],
   "source": [
    "len(cleaned_links)"
   ]
  },
  {
   "cell_type": "code",
   "execution_count": 21,
   "metadata": {},
   "outputs": [],
   "source": [
    "def perform_scrape(cleaned_items=[]):\n",
    "    data_extracted = []\n",
    "    for obj in cleaned_items:\n",
    "        link = obj['url']\n",
    "        product_id = obj['product_id']\n",
    "        title, price = (None, None)\n",
    "        try:\n",
    "            title, price = scrape_product_page(link)\n",
    "        except:\n",
    "            pass\n",
    "        if title != None and price != None:\n",
    "            print(link, title, price)\n",
    "        product_data = {\n",
    "            \"url\": link,\n",
    "            \"product_id\": product_id,\n",
    "            \"title\": title,\n",
    "            \"price\": price\n",
    "        }\n",
    "        data_extracted.append(product_data)\n",
    "    return data_extracted"
   ]
  },
  {
   "cell_type": "code",
   "execution_count": 22,
   "metadata": {},
   "outputs": [
    {
     "name": "stdout",
     "output_type": "stream",
     "text": [
      "https://www.amazon.com/Crayola-Colored-Pre-sharpened-Coloring-Stocking/dp/B018HB2QFU/ref=zg_bs_toys-and-games_10/138-0291413-2906220?_encoding=UTF8&psc=1&refRID=PZN4KF19MNZDRXDYK2WD Crayola Colored Pencils, Adult Coloring, Fun At Home Activities, 50 Count $19.38\n",
      "https://www.amazon.com/Little-Tikes-Spiralin-Waterpark-Table/dp/B004INDQWY/ref=zg_bs_toys-and-games_37/138-0291413-2906220?_encoding=UTF8&psc=1&refRID=PZN4KF19MNZDRXDYK2WD Little Tikes Spiralin’ Seas Waterpark Water Table $44.99\n",
      "https://www.amazon.com/Crayola-Washable-Watercolors-8-ea/dp/B000HHKAE2/ref=zg_bs_toys-and-games_21/138-0291413-2906220?_encoding=UTF8&psc=1&refRID=PZN4KF19MNZDRXDYK2WD Crayola Washable Watercolors, Paint Set For Kids, 8Count $1.99\n",
      "https://www.amazon.com/Munchkin-17040-Fishin-Bath-Toy/dp/B01N52DUNK/ref=zg_bs_toys-and-games_48/138-0291413-2906220?_encoding=UTF8&psc=1&refRID=PZN4KF19MNZDRXDYK2WD Munchkin Fishin' Bath Toy $7.73\n",
      "https://www.amazon.com/Hasbro-B0965-Monopoly-Deal-Card/dp/B00NQQTZCO/ref=zg_bs_toys-and-games_18/138-0291413-2906220?_encoding=UTF8&psc=1&refRID=PZN4KF19MNZDRXDYK2WD Monopoly Deal Card Game $7.99\n",
      "https://www.amazon.com/LEGO-Classic-Medium-Creative-Brick/dp/B00NHQFA1I/ref=zg_bs_toys-and-games_19/138-0291413-2906220?_encoding=UTF8&psc=1&refRID=PZN4KF19MNZDRXDYK2WD LEGO Classic Medium Creative Brick Box 10696 Building Toys for Creative Play; Kids Creative Kit (484 Pieces) $27.99\n",
      "https://www.amazon.com/Taco-Cat-Goat-Cheese-Pizza/dp/B077Z1R28P/ref=zg_bs_toys-and-games_30/138-0291413-2906220?_encoding=UTF8&psc=1&refRID=PZN4KF19MNZDRXDYK2WD Taco Cat Goat Cheese Pizza $9.99\n",
      "https://www.amazon.com/Crayola-Twistables-Colored-Exclusive-Stocking/dp/B07D4RN9NH/ref=zg_bs_toys-and-games_36/138-0291413-2906220?_encoding=UTF8&psc=1&refRID=PZN4KF19MNZDRXDYK2WD Crayola Twistables Colored Pencils Coloring Set, Kids Indoor Activities At Home, Gift Age 3+ - 50 Count $12.99\n",
      "https://www.amazon.com/SunWorks-Construction-Assorted-Colors-Sheets/dp/B0017OJKLI/ref=zg_bs_toys-and-games_45/138-0291413-2906220?_encoding=UTF8&psc=1&refRID=PZN4KF19MNZDRXDYK2WD SunWorks Construction Paper, 10 Assorted Colors, 9\" x 12\", 100 Sheets $8.29\n",
      "https://www.amazon.com/Crayola-Erasable-Non-Toxic-Pre-Sharpened-Gradation/dp/B000PCWKBA/ref=zg_bs_toys-and-games_20/138-0291413-2906220?_encoding=UTF8&psc=1&refRID=PZN4KF19MNZDRXDYK2WD Crayola Erasable Colored Pencils, Kids At Home Activities, 24 Count $5.97\n",
      "https://www.amazon.com/Play-Doh-A5417-Sparkle-Compound-Collection/dp/B00IGNWYNE/ref=zg_bs_toys-and-games_5/138-0291413-2906220?_encoding=UTF8&psc=1&refRID=PZN4KF19MNZDRXDYK2WD Play-Doh Sparkle Compound Collection $4.94\n",
      "https://www.amazon.com/Hasbro-A5640-Connect-4-Game/dp/B00D8STBHY/ref=zg_bs_toys-and-games_2/138-0291413-2906220?_encoding=UTF8&psc=1&refRID=PZN4KF19MNZDRXDYK2WD Hasbro Connect 4 Game $12.99\n",
      "https://www.amazon.com/Crayola-Crayons-Assorted-Toddler-16Count/dp/B07L6VQDSC/ref=zg_bs_toys-and-games_29/138-0291413-2906220?_encoding=UTF8&psc=1&refRID=PZN4KF19MNZDRXDYK2WD Crayola Jumbo Crayons, Assorted Colors, Great Toddler Crayons, 16Count $6.25\n",
      "https://www.amazon.com/Postage-Stamps-envelopes-Wayne-Global/dp/B081J497K2/ref=zg_bs_toys-and-games_44/138-0291413-2906220?_encoding=UTF8&psc=1&refRID=PZN4KF19MNZDRXDYK2WD 20 Postage Stamps with 20 (#10) envelopes Bundle by Wayne Global- Stamp Design May Vary $16.90\n",
      "https://www.amazon.com/ThinkFun-Zingo-Winning-Pre-Readers-Readers/dp/B01DY818JG/ref=zg_bs_toys-and-games_46/138-0291413-2906220?_encoding=UTF8&psc=1&refRID=PZN4KF19MNZDRXDYK2WD ThinkFun Zingo Bingo Award Winning Preschool Game for Pre-Readers and Early Readers Age 4 and Up - One of the Most Popular Board Games for Boys and Girls and their Parents, Amazon Exclusive Version $19.99\n",
      "https://www.amazon.com/Disney-Princess-Necklace-Activity-Set/dp/B0747ZGTTG/ref=zg_bs_toys-and-games_25/138-0291413-2906220?_encoding=UTF8&psc=1&refRID=PZN4KF19MNZDRXDYK2WD Tara Toy Disney Princess Necklace Activity Set $12.79\n",
      "https://www.amazon.com/Learning-Resources-Spike-Hedgehog-Sensory/dp/B078WM314M/ref=zg_bs_toys-and-games_33/138-0291413-2906220?_encoding=UTF8&psc=1&refRID=PZN4KF19MNZDRXDYK2WD Learning Resources Spike The Fine Motor Hedgehog, Sensory, Fine Motor Toy, Easter Basket Toy, Ages 18 months+ $10.99\n",
      "https://www.amazon.com/Cards-Against-Humanity-LLC-CAHUS/dp/B004S8F7QM/ref=zg_bs_toys-and-games_13/138-0291413-2906220?_encoding=UTF8&psc=1&refRID=PZN4KF19MNZDRXDYK2WD Cards Against Humanity $25.00\n",
      "https://www.amazon.com/L-L-Surprise-Surprises-Including/dp/B07XSPCBVP/ref=zg_bs_toys-and-games_24/138-0291413-2906220?_encoding=UTF8&psc=1&refRID=PZN4KF19MNZDRXDYK2WD L.O.L. Surprise! Lights Glitter Doll with 8 Surprises Including Black Light Surprises $10.88\n",
      "https://www.amazon.com/Crayola-Washable-Special-Sidewalk-Anti-Roll/dp/B00PY47LHW/ref=zg_bs_toys-and-games_42/138-0291413-2906220?_encoding=UTF8&psc=1&refRID=PZN4KF19MNZDRXDYK2WD Crayola Washable Sidewalk Chalk, Neon Chalk $4.99\n",
      "https://www.amazon.com/L-L-Surprise-Candylicious-Multicolor/dp/B07XSQ3BYJ/ref=zg_bs_toys-and-games_47/138-0291413-2906220?_encoding=UTF8&psc=1&refRID=PZN4KF19MNZDRXDYK2WD L.O.L. Surprise! O.M.G. Candylicious Fashion Doll with 20 Surprises,Multicolor $26.88\n",
      "https://www.amazon.com/Elmers-Liquid-Glitter-Washable-Assorted/dp/B008M56YZU/ref=zg_bs_toys-and-games_39/138-0291413-2906220?_encoding=UTF8&psc=1&refRID=PZN4KF19MNZDRXDYK2WD Elmer's Liquid Glitter Glue, Great For Making Slime, Washable, Assorted Colors, 6 Ounces Each, 3 Count $11.95\n",
      "https://www.amazon.com/Melissa-Doug-Pretend-Frustration-Free-Packaging/dp/B07PBXRJ7G/ref=zg_bs_toys-and-games_43/138-0291413-2906220?_encoding=UTF8&psc=1&refRID=PZN4KF19MNZDRXDYK2WD Melissa & Doug Dust! Sweep! Mop! (Frustration Free Packaging) $25.09\n",
      "https://www.amazon.com/Chalk-Jumbo-Sidewalk-Count-colors/dp/B079WL9MXC/ref=zg_bs_toys-and-games_31/138-0291413-2906220?_encoding=UTF8&psc=1&refRID=PZN4KF19MNZDRXDYK2WD Chalk Jumbo Sidewalk Chalk 20 Count- 5 colors $11.54\n",
      "https://www.amazon.com/Melissa-Doug-Activity-Child-Safe-Scissors/dp/B00EJAEUBC/ref=zg_bs_toys-and-games_15/138-0291413-2906220?_encoding=UTF8&psc=1&refRID=PZN4KF19MNZDRXDYK2WD Melissa & Doug Scissor Skills Activity Pad $4.99\n",
      "https://www.amazon.com/Nuby-Floating-Purple-Octopus-Interactive/dp/B083ZZSGLR/ref=zg_bs_toys-and-games_49/138-0291413-2906220?_encoding=UTF8&psc=1&refRID=PZN4KF19MNZDRXDYK2WD Nuby Floating Purple Octopus with 3 Hoopla Rings Interactive Bath Toy $6.89\n",
      "https://www.amazon.com/Crayola-Twistables-Classrooms-Preschools-Self-Sharpening/dp/B00062J99K/ref=zg_bs_toys-and-games_8/138-0291413-2906220?_encoding=UTF8&psc=1&refRID=PZN4KF19MNZDRXDYK2WD Crayola Twistables Crayons Coloring Set, Kids Indoor Activities at Home, 24 Count $4.49\n",
      "https://www.amazon.com/Creativity-Kids-Grow-Glow-Terrarium/dp/B00I9KDFK0/ref=zg_bs_toys-and-games_9/138-0291413-2906220?_encoding=UTF8&psc=1&refRID=PZN4KF19MNZDRXDYK2WD Creativity For Kids Grow 'N Glow Terrarium Science Kits for Kids - Create Your Own Mini Ecosystem, Educational Toys $12.99\n",
      "https://www.amazon.com/Regal-Games-Chalk-City-Washable/dp/B071CKSMS7/ref=zg_bs_toys-and-games_4/138-0291413-2906220?_encoding=UTF8&psc=1&refRID=PZN4KF19MNZDRXDYK2WD Regal Games Chalk City - 20 Piece Jumbo Washable Sidewalk Chalk $12.99\n",
      "https://www.amazon.com/First-Years-Stack-Up-Cups/dp/B00005C5H4/ref=zg_bs_toys-and-games_27/138-0291413-2906220?_encoding=UTF8&psc=1&refRID=PZN4KF19MNZDRXDYK2WD The First Years Stack Up Cup Toys $6.00\n",
      "https://www.amazon.com/Melissa-Doug-Decorate-Your-Own-Butterfly-Magnets/dp/B00Y8YOVOA/ref=zg_bs_toys-and-games_12/138-0291413-2906220?_encoding=UTF8&psc=1&refRID=PZN4KF19MNZDRXDYK2WD Melissa & Doug Created by Me! Butterfly Magnets - The Original (Kids Craft Kit, Supplies for 4 Projects, Great Gift for Girls and Boys – Best for 4, 5, 6, 7 and 8 Year Olds), Mix $4.99\n",
      "https://www.amazon.com/Insect-Lore-Butterfly-Growing-Kit/dp/B00000ISC5/ref=zg_bs_toys-and-games_3/138-0291413-2906220?_encoding=UTF8&psc=1&refRID=PZN4KF19MNZDRXDYK2WD Insect Lore Butterfly Growing Kit - With Voucher to Redeem Caterpillars Later $22.99\n",
      "https://www.amazon.com/L-L-Surprise-Sparkle-Multicolor/dp/B07PQVRPR1/ref=zg_bs_toys-and-games_11/138-0291413-2906220?_encoding=UTF8&psc=1&refRID=PZN4KF19MNZDRXDYK2WD L.O.L. Surprise Dolls Sparkle Series A, Multicolor $10.88\n"
     ]
    },
    {
     "name": "stdout",
     "output_type": "stream",
     "text": [
      "https://www.amazon.com/Crayola-Outdoor-Glitter-Sidewalk-Summer/dp/B00PY47F8M/ref=zg_bs_toys-and-games_16/138-0291413-2906220?_encoding=UTF8&psc=1&refRID=PZN4KF19MNZDRXDYK2WD Crayola Outdoor Chalk, Glitter Sidewalk Chalk, Summer Toys, 5 Count $8.73\n",
      "https://www.amazon.com/Creative-Roots-Stepping-Horizon-Assorted/dp/B07HSJ5R7V/ref=zg_bs_toys-and-games_50/138-0291413-2906220?_encoding=UTF8&psc=1&refRID=PZN4KF19MNZDRXDYK2WD CREATIVE ROOTS Paint Your Own Flower Stepping Stone by Horizon Group USA Toy, Assorted $7.99\n",
      "https://www.amazon.com/Kinetic-Sand-Beach-Kingdom-Playset/dp/B079P87RVB/ref=zg_bs_toys-and-games_41/138-0291413-2906220?_encoding=UTF8&psc=1&refRID=PZN4KF19MNZDRXDYK2WD Kinetic Sand Beach Sand Kingdom Playset with 3lbs of Beach Sand, for Ages 3 and Up $19.97\n",
      "https://www.amazon.com/Bunch-Balloons-Pack-Amazon-Exclusive/dp/B07GW2QQWN/ref=zg_bs_toys-and-games_28/138-0291413-2906220?_encoding=UTF8&psc=1&refRID=PZN4KF19MNZDRXDYK2WD Bunch O Balloons - 350 Rapid-Fill Water Balloons (10 Pack) Amazon Exclusive $27.74\n",
      "https://www.amazon.com/Crayola-Markers-Assorted-Colors-Coloring/dp/B01C64BASI/ref=zg_bs_toys-and-games_40/138-0291413-2906220?_encoding=UTF8&psc=1&refRID=PZN4KF19MNZDRXDYK2WD Crayola Fine Line Markers Adult Coloring Set, Gift Age 12+ - 40 Count $12.99\n",
      "https://www.amazon.com/LEGO-Classic-Green-Baseplate-Supplement/dp/B00NHQF65S/ref=zg_bs_toys-and-games_14/138-0291413-2906220?_encoding=UTF8&psc=1&refRID=PZN4KF19MNZDRXDYK2WD LEGO Classic Green Baseplate 2304 Supplement for Building, Playing, and Displaying LEGO Creations, 10cm x 10cm, Large Building Base Accessory for Kids and Adults (1 Piece) $4.99\n",
      "https://www.amazon.com/Aqua-Monterey-Multi-Purpose-Inflatable-Portable/dp/B073WMYP6M/ref=zg_bs_toys-and-games_26/138-0291413-2906220?_encoding=UTF8&psc=1&refRID=PZN4KF19MNZDRXDYK2WD Aqua 4-in-1 Monterey Hammock Inflatable Pool Float, Multi-Purpose Pool Hammock (Saddle, Lounge Chair, Hammock, Drifter) Pool Chair, Portable Water Hammock, Navy/White Stripe $15.07\n",
      "https://www.amazon.com/Play-Doh-Modeling-Compound-Non-Toxic-Exclusive/dp/B00JM5GZGW/ref=zg_bs_toys-and-games_17/138-0291413-2906220?_encoding=UTF8&psc=1&refRID=PZN4KF19MNZDRXDYK2WD Play-Doh Modeling Compound 36-Pack Case of Colors, Non-Toxic, Assorted Colors, 3-Ounce Cans (Amazon Exclusive) $24.99\n",
      "https://www.amazon.com/Darice-Solution-Top-Works-Machines-Birthdays/dp/B07RYBB4NZ/ref=zg_bs_toys-and-games_7/138-0291413-2906220?_encoding=UTF8&psc=1&refRID=PZN4KF19MNZDRXDYK2WD Darice 64-Ounce Bubble Solution-Includes Wand and Easy Pour Funnel Top-Works with Bubble Machines-for Weddings, Birthdays and Outdoor Events $9.00\n",
      "https://www.amazon.com/SunWorks-Construction-Paper-White-Sheets/dp/B0017OHG1O/ref=zg_bs_toys-and-games_35/138-0291413-2906220?_encoding=UTF8&psc=1&refRID=PZN4KF19MNZDRXDYK2WD SunWorks Heavyweight Construction Paper, 9 x 12 Inches, White, 100 Sheets $3.69\n",
      "https://www.amazon.com/Battleship-Planes-Strategy-Amazon-Exclusive/dp/B06Y1N3PTX/ref=zg_bs_toys-and-games_22/138-0291413-2906220?_encoding=UTF8&psc=1&refRID=PZN4KF19MNZDRXDYK2WD Battleship With Planes Strategy Board Game For Ages 7 and Up (Amazon Exclusive) $14.99\n"
     ]
    }
   ],
   "source": [
    "extracted_data = perform_scrape(cleaned_items=cleaned_links)"
   ]
  },
  {
   "cell_type": "code",
   "execution_count": 23,
   "metadata": {},
   "outputs": [
    {
     "name": "stdout",
     "output_type": "stream",
     "text": [
      "[{'url': 'https://www.amazon.com/Crayola-Colored-Pre-sharpened-Coloring-Stocking/dp/B018HB2QFU/ref=zg_bs_toys-and-games_10/138-0291413-2906220?_encoding=UTF8&psc=1&refRID=PZN4KF19MNZDRXDYK2WD', 'product_id': 'B018HB2QFU', 'title': 'Crayola Colored Pencils, Adult Coloring, Fun At Home Activities, 50 Count', 'price': '$19.38'}, {'url': 'https://www.amazon.com/Little-Tikes-Spiralin-Waterpark-Table/dp/B004INDQWY/ref=zg_bs_toys-and-games_37/138-0291413-2906220?_encoding=UTF8&psc=1&refRID=PZN4KF19MNZDRXDYK2WD', 'product_id': 'B004INDQWY', 'title': 'Little Tikes Spiralin’ Seas Waterpark Water Table', 'price': '$44.99'}, {'url': 'https://www.amazon.com/Crayola-Washable-Watercolors-8-ea/dp/B000HHKAE2/ref=zg_bs_toys-and-games_21/138-0291413-2906220?_encoding=UTF8&psc=1&refRID=PZN4KF19MNZDRXDYK2WD', 'product_id': 'B000HHKAE2', 'title': 'Crayola Washable Watercolors, Paint Set For Kids, 8Count', 'price': '$1.99'}, {'url': 'https://www.amazon.com/Munchkin-17040-Fishin-Bath-Toy/dp/B01N52DUNK/ref=zg_bs_toys-and-games_48/138-0291413-2906220?_encoding=UTF8&psc=1&refRID=PZN4KF19MNZDRXDYK2WD', 'product_id': 'B01N52DUNK', 'title': \"Munchkin Fishin' Bath Toy\", 'price': '$7.73'}, {'url': 'https://www.amazon.com/Hasbro-B0965-Monopoly-Deal-Card/dp/B00NQQTZCO/ref=zg_bs_toys-and-games_18/138-0291413-2906220?_encoding=UTF8&psc=1&refRID=PZN4KF19MNZDRXDYK2WD', 'product_id': 'B00NQQTZCO', 'title': 'Monopoly Deal Card Game', 'price': '$7.99'}, {'url': 'https://www.amazon.com/LEGO-Classic-Medium-Creative-Brick/dp/B00NHQFA1I/ref=zg_bs_toys-and-games_19/138-0291413-2906220?_encoding=UTF8&psc=1&refRID=PZN4KF19MNZDRXDYK2WD', 'product_id': 'B00NHQFA1I', 'title': 'LEGO Classic Medium Creative Brick Box 10696 Building Toys for Creative Play; Kids Creative Kit (484 Pieces)', 'price': '$27.99'}, {'url': 'https://www.amazon.com/Taco-Cat-Goat-Cheese-Pizza/dp/B077Z1R28P/ref=zg_bs_toys-and-games_30/138-0291413-2906220?_encoding=UTF8&psc=1&refRID=PZN4KF19MNZDRXDYK2WD', 'product_id': 'B077Z1R28P', 'title': 'Taco Cat Goat Cheese Pizza', 'price': '$9.99'}, {'url': 'https://www.amazon.com/Crayola-Twistables-Colored-Exclusive-Stocking/dp/B07D4RN9NH/ref=zg_bs_toys-and-games_36/138-0291413-2906220?_encoding=UTF8&psc=1&refRID=PZN4KF19MNZDRXDYK2WD', 'product_id': 'B07D4RN9NH', 'title': 'Crayola Twistables Colored Pencils Coloring Set, Kids Indoor Activities At Home, Gift Age 3+ - 50 Count', 'price': '$12.99'}, {'url': 'https://www.amazon.com/SunWorks-Construction-Assorted-Colors-Sheets/dp/B0017OJKLI/ref=zg_bs_toys-and-games_45/138-0291413-2906220?_encoding=UTF8&psc=1&refRID=PZN4KF19MNZDRXDYK2WD', 'product_id': 'B0017OJKLI', 'title': 'SunWorks Construction Paper, 10 Assorted Colors, 9\" x 12\", 100 Sheets', 'price': '$8.29'}, {'url': 'https://www.amazon.com/Crayola-Erasable-Non-Toxic-Pre-Sharpened-Gradation/dp/B000PCWKBA/ref=zg_bs_toys-and-games_20/138-0291413-2906220?_encoding=UTF8&psc=1&refRID=PZN4KF19MNZDRXDYK2WD', 'product_id': 'B000PCWKBA', 'title': 'Crayola Erasable Colored Pencils, Kids At Home Activities, 24 Count', 'price': '$5.97'}, {'url': 'https://www.amazon.com/Play-Doh-A5417-Sparkle-Compound-Collection/dp/B00IGNWYNE/ref=zg_bs_toys-and-games_5/138-0291413-2906220?_encoding=UTF8&psc=1&refRID=PZN4KF19MNZDRXDYK2WD', 'product_id': 'B00IGNWYNE', 'title': 'Play-Doh Sparkle Compound Collection', 'price': '$4.94'}, {'url': 'https://www.amazon.com/Hasbro-A5640-Connect-4-Game/dp/B00D8STBHY/ref=zg_bs_toys-and-games_2/138-0291413-2906220?_encoding=UTF8&psc=1&refRID=PZN4KF19MNZDRXDYK2WD', 'product_id': 'B00D8STBHY', 'title': 'Hasbro Connect 4 Game', 'price': '$12.99'}, {'url': 'https://www.amazon.com/Crayola-Crayons-Assorted-Toddler-16Count/dp/B07L6VQDSC/ref=zg_bs_toys-and-games_29/138-0291413-2906220?_encoding=UTF8&psc=1&refRID=PZN4KF19MNZDRXDYK2WD', 'product_id': 'B07L6VQDSC', 'title': 'Crayola Jumbo Crayons, Assorted Colors, Great Toddler Crayons, 16Count', 'price': '$6.25'}, {'url': 'https://www.amazon.com/Postage-Stamps-envelopes-Wayne-Global/dp/B081J497K2/ref=zg_bs_toys-and-games_44/138-0291413-2906220?_encoding=UTF8&psc=1&refRID=PZN4KF19MNZDRXDYK2WD', 'product_id': 'B081J497K2', 'title': '20 Postage Stamps with 20 (#10) envelopes Bundle by Wayne Global- Stamp Design May Vary', 'price': '$16.90'}, {'url': 'https://www.amazon.com/ThinkFun-Zingo-Winning-Pre-Readers-Readers/dp/B01DY818JG/ref=zg_bs_toys-and-games_46/138-0291413-2906220?_encoding=UTF8&psc=1&refRID=PZN4KF19MNZDRXDYK2WD', 'product_id': 'B01DY818JG', 'title': 'ThinkFun Zingo Bingo Award Winning Preschool Game for Pre-Readers and Early Readers Age 4 and Up - One of the Most Popular Board Games for Boys and Girls and their Parents, Amazon Exclusive Version', 'price': '$19.99'}, {'url': 'https://www.amazon.com/Disney-Princess-Necklace-Activity-Set/dp/B0747ZGTTG/ref=zg_bs_toys-and-games_25/138-0291413-2906220?_encoding=UTF8&psc=1&refRID=PZN4KF19MNZDRXDYK2WD', 'product_id': 'B0747ZGTTG', 'title': 'Tara Toy Disney Princess Necklace Activity Set', 'price': '$12.79'}, {'url': 'https://www.amazon.com/Learning-Resources-Spike-Hedgehog-Sensory/dp/B078WM314M/ref=zg_bs_toys-and-games_33/138-0291413-2906220?_encoding=UTF8&psc=1&refRID=PZN4KF19MNZDRXDYK2WD', 'product_id': 'B078WM314M', 'title': 'Learning Resources Spike The Fine Motor Hedgehog, Sensory, Fine Motor Toy, Easter Basket Toy, Ages 18 months+', 'price': '$10.99'}, {'url': 'https://www.amazon.com/Cards-Against-Humanity-LLC-CAHUS/dp/B004S8F7QM/ref=zg_bs_toys-and-games_13/138-0291413-2906220?_encoding=UTF8&psc=1&refRID=PZN4KF19MNZDRXDYK2WD', 'product_id': 'B004S8F7QM', 'title': 'Cards Against Humanity', 'price': '$25.00'}, {'url': 'https://www.amazon.com/L-L-Surprise-Surprises-Including/dp/B07XSPCBVP/ref=zg_bs_toys-and-games_24/138-0291413-2906220?_encoding=UTF8&psc=1&refRID=PZN4KF19MNZDRXDYK2WD', 'product_id': 'B07XSPCBVP', 'title': 'L.O.L. Surprise! Lights Glitter Doll with 8 Surprises Including Black Light Surprises', 'price': '$10.88'}, {'url': 'https://www.amazon.com/Crayola-Washable-Special-Sidewalk-Anti-Roll/dp/B00PY47LHW/ref=zg_bs_toys-and-games_42/138-0291413-2906220?_encoding=UTF8&psc=1&refRID=PZN4KF19MNZDRXDYK2WD', 'product_id': 'B00PY47LHW', 'title': 'Crayola Washable Sidewalk Chalk, Neon Chalk', 'price': '$4.99'}, {'url': 'https://www.amazon.com/L-L-Surprise-Candylicious-Multicolor/dp/B07XSQ3BYJ/ref=zg_bs_toys-and-games_47/138-0291413-2906220?_encoding=UTF8&psc=1&refRID=PZN4KF19MNZDRXDYK2WD', 'product_id': 'B07XSQ3BYJ', 'title': 'L.O.L. Surprise! O.M.G. Candylicious Fashion Doll with 20 Surprises,Multicolor', 'price': '$26.88'}, {'url': 'https://www.amazon.com/SplashEZ-Sprinkler-Splash-Wading-Learning/dp/B07MNMT3M7/ref=zg_bs_toys-and-games_23/138-0291413-2906220?_encoding=UTF8&psc=1&refRID=PZN4KF19MNZDRXDYK2WD', 'product_id': 'B07MNMT3M7', 'title': None, 'price': None}, {'url': 'https://www.amazon.com/Elmers-Liquid-Glitter-Washable-Assorted/dp/B008M56YZU/ref=zg_bs_toys-and-games_39/138-0291413-2906220?_encoding=UTF8&psc=1&refRID=PZN4KF19MNZDRXDYK2WD', 'product_id': 'B008M56YZU', 'title': \"Elmer's Liquid Glitter Glue, Great For Making Slime, Washable, Assorted Colors, 6 Ounces Each, 3 Count\", 'price': '$11.95'}, {'url': 'https://www.amazon.com/Crayola-Washable-Sidewalk-Outdoor-Exclusive/dp/B00LH1WN4W/ref=zg_bs_toys-and-games_38/138-0291413-2906220?_encoding=UTF8&psc=1&refRID=PZN4KF19MNZDRXDYK2WD', 'product_id': 'B00LH1WN4W', 'title': None, 'price': None}, {'url': 'https://www.amazon.com/Melissa-Doug-Pretend-Frustration-Free-Packaging/dp/B07PBXRJ7G/ref=zg_bs_toys-and-games_43/138-0291413-2906220?_encoding=UTF8&psc=1&refRID=PZN4KF19MNZDRXDYK2WD', 'product_id': 'B07PBXRJ7G', 'title': 'Melissa & Doug Dust! Sweep! Mop! (Frustration Free Packaging)', 'price': '$25.09'}, {'url': 'https://www.amazon.com/Chalk-Jumbo-Sidewalk-Count-colors/dp/B079WL9MXC/ref=zg_bs_toys-and-games_31/138-0291413-2906220?_encoding=UTF8&psc=1&refRID=PZN4KF19MNZDRXDYK2WD', 'product_id': 'B079WL9MXC', 'title': 'Chalk Jumbo Sidewalk Chalk 20 Count- 5 colors', 'price': '$11.54'}, {'url': 'https://www.amazon.com/Melissa-Doug-Activity-Child-Safe-Scissors/dp/B00EJAEUBC/ref=zg_bs_toys-and-games_15/138-0291413-2906220?_encoding=UTF8&psc=1&refRID=PZN4KF19MNZDRXDYK2WD', 'product_id': 'B00EJAEUBC', 'title': 'Melissa & Doug Scissor Skills Activity Pad', 'price': '$4.99'}, {'url': 'https://www.amazon.com/Jenga-A2120EU4-Classic-Game/dp/B00ABA0ZOA/ref=zg_bs_toys-and-games_1/138-0291413-2906220?_encoding=UTF8&psc=1&refRID=PZN4KF19MNZDRXDYK2WD', 'product_id': 'B00ABA0ZOA', 'title': None, 'price': None}, {'url': 'https://www.amazon.com/Nuby-Floating-Purple-Octopus-Interactive/dp/B083ZZSGLR/ref=zg_bs_toys-and-games_49/138-0291413-2906220?_encoding=UTF8&psc=1&refRID=PZN4KF19MNZDRXDYK2WD', 'product_id': 'B083ZZSGLR', 'title': 'Nuby Floating Purple Octopus with 3 Hoopla Rings Interactive Bath Toy', 'price': '$6.89'}, {'url': 'https://www.amazon.com/Crayola-Twistables-Classrooms-Preschools-Self-Sharpening/dp/B00062J99K/ref=zg_bs_toys-and-games_8/138-0291413-2906220?_encoding=UTF8&psc=1&refRID=PZN4KF19MNZDRXDYK2WD', 'product_id': 'B00062J99K', 'title': 'Crayola Twistables Crayons Coloring Set, Kids Indoor Activities at Home, 24 Count', 'price': '$4.49'}, {'url': 'https://www.amazon.com/Creativity-Kids-Grow-Glow-Terrarium/dp/B00I9KDFK0/ref=zg_bs_toys-and-games_9/138-0291413-2906220?_encoding=UTF8&psc=1&refRID=PZN4KF19MNZDRXDYK2WD', 'product_id': 'B00I9KDFK0', 'title': \"Creativity For Kids Grow 'N Glow Terrarium Science Kits for Kids - Create Your Own Mini Ecosystem, Educational Toys\", 'price': '$12.99'}, {'url': 'https://www.amazon.com/Regal-Games-Chalk-City-Washable/dp/B071CKSMS7/ref=zg_bs_toys-and-games_4/138-0291413-2906220?_encoding=UTF8&psc=1&refRID=PZN4KF19MNZDRXDYK2WD', 'product_id': 'B071CKSMS7', 'title': 'Regal Games Chalk City - 20 Piece Jumbo Washable Sidewalk Chalk', 'price': '$12.99'}, {'url': 'https://www.amazon.com/Step2-874600-Showers-Playset-Multi-Colored/dp/B01K1K0K6M/ref=zg_bs_toys-and-games_6/138-0291413-2906220?_encoding=UTF8&psc=1&refRID=PZN4KF19MNZDRXDYK2WD', 'product_id': 'B01K1K0K6M', 'title': None, 'price': None}, {'url': 'https://www.amazon.com/First-Years-Stack-Up-Cups/dp/B00005C5H4/ref=zg_bs_toys-and-games_27/138-0291413-2906220?_encoding=UTF8&psc=1&refRID=PZN4KF19MNZDRXDYK2WD', 'product_id': 'B00005C5H4', 'title': 'The First Years Stack Up Cup Toys', 'price': '$6.00'}, {'url': 'https://www.amazon.com/Crayola-Washable-Glitter-Exclusive-Stocking/dp/B07BYWS5XW/ref=zg_bs_toys-and-games_32/138-0291413-2906220?_encoding=UTF8&psc=1&refRID=PZN4KF19MNZDRXDYK2WD', 'product_id': 'B07BYWS5XW', 'title': None, 'price': None}, {'url': 'https://www.amazon.com/Melissa-Doug-Decorate-Your-Own-Butterfly-Magnets/dp/B00Y8YOVOA/ref=zg_bs_toys-and-games_12/138-0291413-2906220?_encoding=UTF8&psc=1&refRID=PZN4KF19MNZDRXDYK2WD', 'product_id': 'B00Y8YOVOA', 'title': 'Melissa & Doug Created by Me! Butterfly Magnets - The Original (Kids Craft Kit, Supplies for 4 Projects, Great Gift for Girls and Boys – Best for 4, 5, 6, 7 and 8 Year Olds), Mix', 'price': '$4.99'}, {'url': 'https://www.amazon.com/Insect-Lore-Butterfly-Growing-Kit/dp/B00000ISC5/ref=zg_bs_toys-and-games_3/138-0291413-2906220?_encoding=UTF8&psc=1&refRID=PZN4KF19MNZDRXDYK2WD', 'product_id': 'B00000ISC5', 'title': 'Insect Lore Butterfly Growing Kit - With Voucher to Redeem Caterpillars Later', 'price': '$22.99'}, {'url': 'https://www.amazon.com/L-L-Surprise-Sparkle-Multicolor/dp/B07PQVRPR1/ref=zg_bs_toys-and-games_11/138-0291413-2906220?_encoding=UTF8&psc=1&refRID=PZN4KF19MNZDRXDYK2WD', 'product_id': 'B07PQVRPR1', 'title': 'L.O.L. Surprise Dolls Sparkle Series A, Multicolor', 'price': '$10.88'}, {'url': 'https://www.amazon.com/Crayola-Outdoor-Glitter-Sidewalk-Summer/dp/B00PY47F8M/ref=zg_bs_toys-and-games_16/138-0291413-2906220?_encoding=UTF8&psc=1&refRID=PZN4KF19MNZDRXDYK2WD', 'product_id': 'B00PY47F8M', 'title': 'Crayola Outdoor Chalk, Glitter Sidewalk Chalk, Summer Toys, 5 Count', 'price': '$8.73'}, {'url': 'https://www.amazon.com/Jenga-A2120EU4-Classic-Game/dp/B00ABA0ZOA/ref=zg_bs_toys-and-games_map_1/138-0291413-2906220?_encoding=UTF8&psc=1&refRID=PZN4KF19MNZDRXDYK2WD', 'product_id': 'B00ABA0ZOA', 'title': None, 'price': None}, {'url': 'https://www.amazon.com/Creative-Roots-Stepping-Horizon-Assorted/dp/B07HSJ5R7V/ref=zg_bs_toys-and-games_50/138-0291413-2906220?_encoding=UTF8&psc=1&refRID=PZN4KF19MNZDRXDYK2WD', 'product_id': 'B07HSJ5R7V', 'title': 'CREATIVE ROOTS Paint Your Own Flower Stepping Stone by Horizon Group USA Toy, Assorted', 'price': '$7.99'}, {'url': 'https://www.amazon.com/Kinetic-Sand-Beach-Kingdom-Playset/dp/B079P87RVB/ref=zg_bs_toys-and-games_41/138-0291413-2906220?_encoding=UTF8&psc=1&refRID=PZN4KF19MNZDRXDYK2WD', 'product_id': 'B079P87RVB', 'title': 'Kinetic Sand Beach Sand Kingdom Playset with 3lbs of Beach Sand, for Ages 3 and Up', 'price': '$19.97'}, {'url': 'https://www.amazon.com/Bunch-Balloons-Pack-Amazon-Exclusive/dp/B07GW2QQWN/ref=zg_bs_toys-and-games_28/138-0291413-2906220?_encoding=UTF8&psc=1&refRID=PZN4KF19MNZDRXDYK2WD', 'product_id': 'B07GW2QQWN', 'title': 'Bunch O Balloons - 350 Rapid-Fill Water Balloons (10 Pack) Amazon Exclusive', 'price': '$27.74'}, {'url': 'https://www.amazon.com/Crayola-Markers-Assorted-Colors-Coloring/dp/B01C64BASI/ref=zg_bs_toys-and-games_40/138-0291413-2906220?_encoding=UTF8&psc=1&refRID=PZN4KF19MNZDRXDYK2WD', 'product_id': 'B01C64BASI', 'title': 'Crayola Fine Line Markers Adult Coloring Set, Gift Age 12+ - 40 Count', 'price': '$12.99'}, {'url': 'https://www.amazon.com/LEGO-Classic-Green-Baseplate-Supplement/dp/B00NHQF65S/ref=zg_bs_toys-and-games_14/138-0291413-2906220?_encoding=UTF8&psc=1&refRID=PZN4KF19MNZDRXDYK2WD', 'product_id': 'B00NHQF65S', 'title': 'LEGO Classic Green Baseplate 2304 Supplement for Building, Playing, and Displaying LEGO Creations, 10cm x 10cm, Large Building Base Accessory for Kids and Adults (1 Piece)', 'price': '$4.99'}, {'url': 'https://www.amazon.com/Aqua-Monterey-Multi-Purpose-Inflatable-Portable/dp/B073WMYP6M/ref=zg_bs_toys-and-games_26/138-0291413-2906220?_encoding=UTF8&psc=1&refRID=PZN4KF19MNZDRXDYK2WD', 'product_id': 'B073WMYP6M', 'title': 'Aqua 4-in-1 Monterey Hammock Inflatable Pool Float, Multi-Purpose Pool Hammock (Saddle, Lounge Chair, Hammock, Drifter) Pool Chair, Portable Water Hammock, Navy/White Stripe', 'price': '$15.07'}, {'url': 'https://www.amazon.com/Play-Doh-Modeling-Compound-Non-Toxic-Exclusive/dp/B00JM5GZGW/ref=zg_bs_toys-and-games_17/138-0291413-2906220?_encoding=UTF8&psc=1&refRID=PZN4KF19MNZDRXDYK2WD', 'product_id': 'B00JM5GZGW', 'title': 'Play-Doh Modeling Compound 36-Pack Case of Colors, Non-Toxic, Assorted Colors, 3-Ounce Cans (Amazon Exclusive)', 'price': '$24.99'}, {'url': 'https://www.amazon.com/Darice-Solution-Top-Works-Machines-Birthdays/dp/B07RYBB4NZ/ref=zg_bs_toys-and-games_7/138-0291413-2906220?_encoding=UTF8&psc=1&refRID=PZN4KF19MNZDRXDYK2WD', 'product_id': 'B07RYBB4NZ', 'title': 'Darice 64-Ounce Bubble Solution-Includes Wand and Easy Pour Funnel Top-Works with Bubble Machines-for Weddings, Birthdays and Outdoor Events', 'price': '$9.00'}, {'url': 'https://www.amazon.com/FoxPrint-Princess-conveniently-Carrying-Foldable/dp/B0120XRWLE/ref=zg_bs_toys-and-games_34/138-0291413-2906220?_encoding=UTF8&psc=1&refRID=PZN4KF19MNZDRXDYK2WD', 'product_id': 'B0120XRWLE', 'title': None, 'price': None}, {'url': 'https://www.amazon.com/SunWorks-Construction-Paper-White-Sheets/dp/B0017OHG1O/ref=zg_bs_toys-and-games_35/138-0291413-2906220?_encoding=UTF8&psc=1&refRID=PZN4KF19MNZDRXDYK2WD', 'product_id': 'B0017OHG1O', 'title': 'SunWorks Heavyweight Construction Paper, 9 x 12 Inches, White, 100 Sheets', 'price': '$3.69'}, {'url': 'https://www.amazon.com/Battleship-Planes-Strategy-Amazon-Exclusive/dp/B06Y1N3PTX/ref=zg_bs_toys-and-games_22/138-0291413-2906220?_encoding=UTF8&psc=1&refRID=PZN4KF19MNZDRXDYK2WD', 'product_id': 'B06Y1N3PTX', 'title': 'Battleship With Planes Strategy Board Game For Ages 7 and Up (Amazon Exclusive)', 'price': '$14.99'}]\n"
     ]
    }
   ],
   "source": [
    "print(extracted_data)"
   ]
  },
  {
   "cell_type": "code",
   "execution_count": null,
   "metadata": {},
   "outputs": [],
   "source": []
  }
 ],
 "metadata": {
  "kernelspec": {
   "display_name": "Python 3",
   "language": "python",
   "name": "python3"
  },
  "language_info": {
   "codemirror_mode": {
    "name": "ipython",
    "version": 3
   },
   "file_extension": ".py",
   "mimetype": "text/x-python",
   "name": "python",
   "nbconvert_exporter": "python",
   "pygments_lexer": "ipython3",
   "version": "3.8.2"
  }
 },
 "nbformat": 4,
 "nbformat_minor": 4
}
