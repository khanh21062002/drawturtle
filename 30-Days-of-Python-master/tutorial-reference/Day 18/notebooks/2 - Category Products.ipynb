{
 "cells": [
  {
   "cell_type": "code",
   "execution_count": 21,
   "metadata": {},
   "outputs": [],
   "source": [
    "import requests\n",
    "import time\n",
    "from requests_html import HTML\n",
    "from selenium import webdriver\n",
    "from selenium.webdriver.chrome.options import Options"
   ]
  },
  {
   "cell_type": "code",
   "execution_count": 2,
   "metadata": {},
   "outputs": [],
   "source": [
    "options = Options()\n",
    "options.add_argument(\"--headless\")\n",
    "\n",
    "driver = webdriver.Chrome(options=options)"
   ]
  },
  {
   "cell_type": "code",
   "execution_count": 5,
   "metadata": {},
   "outputs": [],
   "source": [
    "categories = [\n",
    "    \"https://www.amazon.com/Best-Sellers-Toys-Games/zgbs/toys-and-games/\",\n",
    "    \"https://www.amazon.com/Best-Sellers-Electronics/zgbs/electronics/\",\n",
    "    \"https://www.amazon.com/Best-Sellers/zgbs/fashion/\"\n",
    "]"
   ]
  },
  {
   "cell_type": "code",
   "execution_count": 4,
   "metadata": {},
   "outputs": [
    {
     "data": {
      "text/plain": [
       "['https://www.amazon.com/Best-Sellers-Toys-Games/zgbs/toys-and-games/ref=zg_bs_toys-and-games_home_all?pf_rd_p=089b8285-7691-4849-a7f5-b2fca56bf24a&pf_rd_s=center-1&pf_rd_t=2101&pf_rd_i=home&pf_rd_m=ATVPDKIKX0DER&pf_rd_r=R43BX1YP5F01NZWHJCF5&pf_rd_r=R43BX1YP5F01NZWHJCF5&pf_rd_p=089b8285-7691-4849-a7f5-b2fca56bf24a',\n",
       " 'https://www.amazon.com/Best-Sellers-Electronics/zgbs/electronics/ref=zg_bs_electronics_home_all?pf_rd_p=65f3ea14-1275-4a7c-88f8-1422984d7577&pf_rd_s=center-2&pf_rd_t=2101&pf_rd_i=home&pf_rd_m=ATVPDKIKX0DER&pf_rd_r=PSGKJXZ32F86XCF9PJ6W&pf_rd_r=PSGKJXZ32F86XCF9PJ6W&pf_rd_p=65f3ea14-1275-4a7c-88f8-1422984d7577',\n",
       " 'https://www.amazon.com/Best-Sellers/zgbs/fashion/ref=zg_bs_fashion_home_all?pf_rd_p=991615e6-7b4e-4fe0-b52d-bece5a05bab4&pf_rd_s=center-6&pf_rd_t=2101&pf_rd_i=home&pf_rd_m=ATVPDKIKX0DER&pf_rd_r=4PFHWBPWN64NS34QECXR&pf_rd_r=4PFHWBPWN64NS34QECXR&pf_rd_p=991615e6-7b4e-4fe0-b52d-bece5a05bab4']"
      ]
     },
     "execution_count": 4,
     "metadata": {},
     "output_type": "execute_result"
    }
   ],
   "source": [
    "# categories"
   ]
  },
  {
   "cell_type": "code",
   "execution_count": 6,
   "metadata": {},
   "outputs": [],
   "source": [
    "first_url = categories[0]"
   ]
  },
  {
   "cell_type": "code",
   "execution_count": 7,
   "metadata": {},
   "outputs": [],
   "source": [
    "driver.get(first_url)"
   ]
  },
  {
   "cell_type": "code",
   "execution_count": 9,
   "metadata": {},
   "outputs": [],
   "source": [
    "body_el = driver.find_element_by_css_selector(\"body\")\n",
    "html_str = body_el.get_attribute(\"innerHTML\")"
   ]
  },
  {
   "cell_type": "code",
   "execution_count": 10,
   "metadata": {},
   "outputs": [],
   "source": [
    "html_obj = HTML(html=html_str)"
   ]
  },
  {
   "cell_type": "code",
   "execution_count": 27,
   "metadata": {},
   "outputs": [],
   "source": [
    "new_links = [x for x in html_obj.links if x.startswith(\"/\")]\n",
    "new_links = [x for x in new_links if \"product-reviews/\" not in x]"
   ]
  },
  {
   "cell_type": "code",
   "execution_count": 28,
   "metadata": {},
   "outputs": [],
   "source": [
    "page_links = [f\"https://www.amazon.com{x}\" for x in new_links]"
   ]
  },
  {
   "cell_type": "code",
   "execution_count": 29,
   "metadata": {},
   "outputs": [
    {
     "data": {
      "text/plain": [
       "['https://www.amazon.com/gp/navigation/redirector.html/ref=sign-in-redirect?ie=UTF8&associationHandle=usflex&currentPageURL=https%3A%2F%2Fwww.amazon.com%2FBest-Sellers-Toys-Games%2Fzgbs%2Ftoys-and-games%2F%3Fref_%3Dnav_custrec_signin&pageType=zeitgeist&switchAccount=&yshURL=https%3A%2F%2Fwww.amazon.com%2Fgp%2Fyourstore%2Fhome%3Fie%3DUTF8%26ref_%3Dnav_custrec_signin',\n",
       " 'https://www.amazon.com/gp/yourstore/pym/ref=pd_pyml_rhf/141-4745699-6356400',\n",
       " 'https://www.amazon.com/LEGO-Classic-Medium-Creative-Brick/dp/B00NHQFA1I/ref=zg_bs_toys-and-games_19/141-4745699-6356400?_encoding=UTF8&psc=1&refRID=CEEBDGSXWWK3JMKGERYF',\n",
       " 'https://www.amazon.com/gift-cards/b/?ie=UTF8&node=2238192011&ref_=nav_cs_gc',\n",
       " 'https://www.amazon.com/Darice-Solution-Top-Works-Machines-Birthdays/dp/B07RYBB4NZ/ref=zg_bs_toys-and-games_7/141-4745699-6356400?_encoding=UTF8&psc=1&refRID=CEEBDGSXWWK3JMKGERYF',\n",
       " 'https://www.amazon.com/Chalk-Jumbo-Sidewalk-Count-colors/dp/B079WL9MXC/ref=zg_bs_toys-and-games_31/141-4745699-6356400?_encoding=UTF8&psc=1&refRID=CEEBDGSXWWK3JMKGERYF',\n",
       " 'https://www.amazon.com/b/?ie=UTF8&node=17728536011&ref_=sv_t_6',\n",
       " 'https://www.amazon.com/alm/storefront?_encoding=UTF8&almBrandId=QW1hem9uIEZyZXNo&ref_=footer_aff_fresh',\n",
       " 'https://www.amazon.com/amazon-devices/b?ie=UTF8&node=2102313011&ref_=footer_devices',\n",
       " 'https://www.amazon.com/Crayola-Washable-Sidewalk-Outdoor-Exclusive/dp/B00LH1WN4W/ref=zg_bs_toys-and-games_38/141-4745699-6356400?_encoding=UTF8&psc=1&refRID=CEEBDGSXWWK3JMKGERYF',\n",
       " 'https://www.amazon.com/FoxPrint-Princess-conveniently-Carrying-Foldable/dp/B0120XRWLE/ref=zg_bs_toys-and-games_34/141-4745699-6356400?_encoding=UTF8&psc=1&refRID=CEEBDGSXWWK3JMKGERYF',\n",
       " 'https://www.amazon.com/gp/css/order-history?ie=UTF8&ref_=footer_yo',\n",
       " 'https://www.amazon.com/Crayola-Twistables-Colored-Exclusive-Stocking/dp/B07D4RN9NH/ref=zg_bs_toys-and-games_36/141-4745699-6356400?_encoding=UTF8&psc=1&refRID=CEEBDGSXWWK3JMKGERYF',\n",
       " 'https://www.amazon.com/Currency-Converter/b?ie=UTF8&node=388305011&ref_=footer_tfx',\n",
       " 'https://www.amazon.com/hz/mycd/myx?_encoding=UTF8&ref_=footer_myk',\n",
       " 'https://www.amazon.com/Crayola-Colored-Pre-sharpened-Coloring-Stocking/dp/B018HB2QFU/ref=zg_bs_toys-and-games_10/141-4745699-6356400?_encoding=UTF8&psc=1&refRID=CEEBDGSXWWK3JMKGERYF',\n",
       " 'https://www.amazon.com/Creative-Roots-Stepping-Horizon-Assorted/dp/B07HSJ5R7V/ref=zg_bs_toys-and-games_50/141-4745699-6356400?_encoding=UTF8&psc=1&refRID=CEEBDGSXWWK3JMKGERYF',\n",
       " 'https://www.amazon.com/gp/BIT/ref=footer_bit_v2_us_A0029?bitCampaignCode=A0029',\n",
       " 'https://www.amazon.com/Melissa-Doug-Decorate-Your-Own-Butterfly-Magnets/dp/B00Y8YOVOA/ref=zg_bs_toys-and-games_12/141-4745699-6356400?_encoding=UTF8&psc=1&refRID=CEEBDGSXWWK3JMKGERYF',\n",
       " 'https://www.amazon.com/STRING-subnav_primephotos_amazondrive/b?ie=UTF8&node=15547130011&ref_=us_footer_drive',\n",
       " 'https://www.amazon.com/toys/b/?ie=UTF8&node=165793011&ref_=topnav_storetab_t',\n",
       " 'https://www.amazon.com/ThinkFun-Zingo-Winning-Pre-Readers-Readers/dp/B01DY818JG/ref=zg_bs_toys-and-games_46/141-4745699-6356400?_encoding=UTF8&psc=1&refRID=CEEBDGSXWWK3JMKGERYF',\n",
       " 'https://www.amazon.com/gp/customer-preferences/select-language/ref=footer_lang_c?ie=UTF8&preferencesReturnUrl=%2F',\n",
       " 'https://www.amazon.com/STRING-subnav-prime-photos/b?ie=UTF8&node=13234696011&ref_=gno_p_foot',\n",
       " 'https://www.amazon.com/L-L-Surprise-Candylicious-Multicolor/dp/B07XSQ3BYJ/ref=zg_bs_toys-and-games_47/141-4745699-6356400?_encoding=UTF8&psc=1&refRID=CEEBDGSXWWK3JMKGERYF',\n",
       " 'https://www.amazon.com/gp/bestsellers/toys-and-games/?ie=UTF8&ie=UTF8&ref_=sv_t_3',\n",
       " 'https://www.amazon.com/Crayola-Washable-Glitter-Exclusive-Stocking/dp/B07BYWS5XW/ref=zg_bs_toys-and-games_32/141-4745699-6356400?_encoding=UTF8&psc=1&refRID=CEEBDGSXWWK3JMKGERYF',\n",
       " 'https://www.amazon.com/iss/credit/rewardscardmember?_encoding=UTF8&plattr=CBFOOT&ref_=footer_cbcc',\n",
       " 'https://www.amazon.com/gp/help/customer/display.html?ie=UTF8&nodeId=508510&ref_=footer_gw_m_b_he',\n",
       " 'https://www.amazon.com/Nuby-Floating-Purple-Octopus-Interactive/dp/B083ZZSGLR/ref=zg_bs_toys-and-games_49/141-4745699-6356400?_encoding=UTF8&psc=1&refRID=CEEBDGSXWWK3JMKGERYF',\n",
       " 'https://www.amazon.com/b/?_encoding=UTF8&ld=AZUSSOA-sell&node=12766669011&ref_=nav_cs_sell',\n",
       " 'https://www.amazon.com/stores/node/2528919011/?field-lbr_brands_browse-bin=AmazonBasics&ref_=nav_cs_amazonbasics',\n",
       " 'https://www.amazon.com/gp/css/returns/homepage.html?ie=UTF8&ref_=footer_hy_f_4',\n",
       " 'https://www.amazon.com/Melissa-Doug-Pretend-Frustration-Free-Packaging/dp/B07PBXRJ7G/ref=zg_bs_toys-and-games_43/141-4745699-6356400?_encoding=UTF8&psc=1&refRID=CEEBDGSXWWK3JMKGERYF',\n",
       " 'https://www.amazon.com/gp/cart/view.html?ref_=nav_cart',\n",
       " 'https://www.amazon.com/Crayola-Twistables-Classrooms-Preschools-Self-Sharpening/dp/B00062J99K/ref=zg_bs_toys-and-games_8/141-4745699-6356400?_encoding=UTF8&psc=1&refRID=CEEBDGSXWWK3JMKGERYF',\n",
       " 'https://www.amazon.com/gp/help/customer/display.html?ie=UTF8&nodeId=468496&ref_=footer_privacy',\n",
       " 'https://www.amazon.com/finds?ref_=nav_cs_foundit',\n",
       " 'https://www.amazon.com/gp/css/homepage.html?ie=UTF8&ref_=footer_ya',\n",
       " 'https://www.amazon.com/Play-Doh-A5417-Sparkle-Compound-Collection/dp/B00IGNWYNE/ref=zg_bs_toys-and-games_5/141-4745699-6356400?_encoding=UTF8&psc=1&refRID=CEEBDGSXWWK3JMKGERYF',\n",
       " 'https://www.amazon.com/Crayola-Markers-Assorted-Colors-Coloring/dp/B01C64BASI/ref=zg_bs_toys-and-games_40/141-4745699-6356400?_encoding=UTF8&psc=1&refRID=CEEBDGSXWWK3JMKGERYF',\n",
       " 'https://www.amazon.com/dp/B07984JN3L?_encoding=UTF8&ie=UTF-8&plattr=ACOMFO',\n",
       " 'https://www.amazon.com/First-Years-Stack-Up-Cups/dp/B00005C5H4/ref=zg_bs_toys-and-games_27/141-4745699-6356400?_encoding=UTF8&psc=1&refRID=CEEBDGSXWWK3JMKGERYF',\n",
       " 'https://www.amazon.com/L-L-Surprise-Sparkle-Multicolor/dp/B07PQVRPR1/ref=zg_bs_toys-and-games_11/141-4745699-6356400?_encoding=UTF8&psc=1&refRID=CEEBDGSXWWK3JMKGERYF',\n",
       " 'https://www.amazon.com/Hasbro-B0965-Monopoly-Deal-Card/dp/B00NQQTZCO/ref=zg_bs_toys-and-games_18/141-4745699-6356400?_encoding=UTF8&psc=1&refRID=CEEBDGSXWWK3JMKGERYF',\n",
       " 'https://www.amazon.com/l/ref=map_1_b2b_GW_FT?_encoding=UTF8&node=17882322011',\n",
       " 'https://www.amazon.com/ref=footer_logo',\n",
       " 'https://www.amazon.com/ref=nav_logo',\n",
       " 'https://www.amazon.com/Warehouse-Deals/b?ie=UTF8&node=10158976011&ref_=footer_wrhsdls',\n",
       " 'https://www.amazon.com/Elmers-Liquid-Glitter-Washable-Assorted/dp/B008M56YZU/ref=zg_bs_toys-and-games_39/141-4745699-6356400?_encoding=UTF8&psc=1&refRID=CEEBDGSXWWK3JMKGERYF',\n",
       " 'https://www.amazon.com/SunWorks-Construction-Assorted-Colors-Sheets/dp/B0017OJKLI/ref=zg_bs_toys-and-games_45/141-4745699-6356400?_encoding=UTF8&psc=1&refRID=CEEBDGSXWWK3JMKGERYF',\n",
       " 'https://www.amazon.com/gp/help/customer/accessibility',\n",
       " 'https://www.amazon.com/Crayola-Outdoor-Glitter-Sidewalk-Summer/dp/B00PY47F8M/ref=zg_bs_toys-and-games_16/141-4745699-6356400?_encoding=UTF8&psc=1&refRID=CEEBDGSXWWK3JMKGERYF',\n",
       " 'https://www.amazon.com/Postage-Stamps-envelopes-Wayne-Global/dp/B081J497K2/ref=zg_bs_toys-and-games_44/141-4745699-6356400?_encoding=UTF8&psc=1&refRID=CEEBDGSXWWK3JMKGERYF',\n",
       " 'https://www.amazon.com/amazonsecondchance?_encoding=UTF8&ref_=footer_asc',\n",
       " 'https://www.amazon.com/dp/B07CBJQS16?_encoding=UTF8&ie=UTF-8&place=camp&plattr=CCLFOOT&pr=ibprox&ref_=footer_ccl',\n",
       " 'https://www.amazon.com/Best-Sellers-Toys-Games/zgbs/toys-and-games/uedata/nvp/unsticky/141-4745699-6356400/zeitgeist/ntpoffrw?tepes=1&id=CEEBDGSXWWK3JMKGERYF',\n",
       " 'https://www.amazon.com/prime/ref=nav_tooltip_redirect/141-4745699-6356400',\n",
       " 'https://www.amazon.com/Step2-874600-Showers-Playset-Multi-Colored/dp/B01K1K0K6M/ref=zg_bs_toys-and-games_6/141-4745699-6356400?_encoding=UTF8&psc=1&refRID=CEEBDGSXWWK3JMKGERYF',\n",
       " 'https://www.amazon.com/interestbasedads/ref=footer_iba',\n",
       " 'https://www.amazon.com/toys/b/?ie=UTF8&node=165793011&ref_=sv_t_4',\n",
       " 'https://www.amazon.com/b?ie=UTF8&node=16218619011&ref_=footer_swp',\n",
       " 'https://www.amazon.com/b/?node=16548547011&ref_=nav_cs_freeshipping',\n",
       " 'https://www.amazon.com/gp/customer-preferences/select-language/ref=topnav_lang_c?preferencesReturnUrl=%2FBest-Sellers-Toys-Games%2Fzgbs%2Ftoys-and-games%2F',\n",
       " 'https://www.amazon.com/SunWorks-Construction-Paper-White-Sheets/dp/B0017OHG1O/ref=zg_bs_toys-and-games_35/141-4745699-6356400?_encoding=UTF8&psc=1&refRID=CEEBDGSXWWK3JMKGERYF',\n",
       " 'https://www.amazon.com/b/?node=17867753011&ref_=nav_cs_shoppertoolkit',\n",
       " 'https://www.amazon.com/Regal-Games-Chalk-City-Washable/dp/B071CKSMS7/ref=zg_bs_toys-and-games_4/141-4745699-6356400?_encoding=UTF8&psc=1&refRID=CEEBDGSXWWK3JMKGERYF',\n",
       " 'https://www.amazon.com/Bunch-Balloons-Pack-Amazon-Exclusive/dp/B07GW2QQWN/ref=zg_bs_toys-and-games_28/141-4745699-6356400?_encoding=UTF8&psc=1&refRID=CEEBDGSXWWK3JMKGERYF',\n",
       " 'https://www.amazon.com/Reload-Your-Gift-Card-Balance/b?ie=UTF8&node=10232440011&ref_=footer_reload_us',\n",
       " 'https://www.amazon.com/Melissa-Doug-Activity-Child-Safe-Scissors/dp/B00EJAEUBC/ref=zg_bs_toys-and-games_15/141-4745699-6356400?_encoding=UTF8&psc=1&refRID=CEEBDGSXWWK3JMKGERYF',\n",
       " 'https://www.amazon.com/gp/seller-account/mm-summary-page.html?ie=UTF8&ld=AZFooterSelfPublish&ref_=footer_publishing&topic=200260520',\n",
       " 'https://www.amazon.com/prime?ref_=nav_logo_prime_join',\n",
       " 'https://www.amazon.com/LEGO-Classic-Green-Baseplate-Supplement/dp/B00NHQF65S/ref=zg_bs_toys-and-games_14/141-4745699-6356400?_encoding=UTF8&psc=1&refRID=CEEBDGSXWWK3JMKGERYF',\n",
       " 'https://www.amazon.com/gp/prime/ref=nav_prime_ajax_err/141-4745699-6356400',\n",
       " 'https://www.amazon.com/gp/prime?ie=UTF8&ref_=footer_prime',\n",
       " 'https://www.amazon.com/gcx/Gifts-for-Everyone/gfhz/?ref_=nav_cs_giftfinder',\n",
       " 'https://www.amazon.com/b/?_encoding=UTF8&node=2241292011&ref_=sv_t_7',\n",
       " 'https://www.amazon.com/s/other/ref=lp_165793011_sa_p_89/?ie=UTF8&bbn=165793011&ie=UTF8&pickerToList=lbr_brands_browse-bin&qid=1559670210&rh=n%3A165793011&ref_=sv_t_5',\n",
       " 'https://www.amazon.com/Cards-Against-Humanity-LLC-CAHUS/dp/B004S8F7QM/ref=zg_bs_toys-and-games_13/141-4745699-6356400?_encoding=UTF8&psc=1&refRID=CEEBDGSXWWK3JMKGERYF',\n",
       " 'https://www.amazon.com/Little-Tikes-Spiralin-Waterpark-Table/dp/B004INDQWY/ref=zg_bs_toys-and-games_37/141-4745699-6356400?_encoding=UTF8&psc=1&refRID=CEEBDGSXWWK3JMKGERYF',\n",
       " 'https://www.amazon.com/COVID19-FAQ/?_encoding=UTF8&ref_=covid19_UPNAV_zeitgeist',\n",
       " 'https://www.amazon.com/b/?_encoding=UTF8&ld=AZUSSOA-seemore&node=18190131011&ref_=footer_seemore',\n",
       " 'https://www.amazon.com/Kinetic-Sand-Beach-Kingdom-Playset/dp/B079P87RVB/ref=zg_bs_toys-and-games_41/141-4745699-6356400?_encoding=UTF8&psc=1&refRID=CEEBDGSXWWK3JMKGERYF',\n",
       " 'https://www.amazon.com/Creativity-Kids-Grow-Glow-Terrarium/dp/B00I9KDFK0/ref=zg_bs_toys-and-games_9/141-4745699-6356400?_encoding=UTF8&psc=1&refRID=CEEBDGSXWWK3JMKGERYF',\n",
       " 'https://www.amazon.com/gp/new-releases/?ref_=nav_cs_newreleases',\n",
       " 'https://www.amazon.com/credit/storecard/member?_encoding=UTF8&plattr=PLCCFOOT&ref_=footer_plcc',\n",
       " 'https://www.amazon.com/Jenga-A2120EU4-Classic-Game/dp/B00ABA0ZOA/ref=zg_bs_toys-and-games_1/141-4745699-6356400?_encoding=UTF8&psc=1&refRID=CEEBDGSXWWK3JMKGERYF',\n",
       " 'https://www.amazon.com/Crayola-Washable-Watercolors-8-ea/dp/B000HHKAE2/ref=zg_bs_toys-and-games_21/141-4745699-6356400?_encoding=UTF8&psc=1&refRID=CEEBDGSXWWK3JMKGERYF',\n",
       " 'https://www.amazon.com/compare-credit-card-offers/b?ie=UTF8&node=3561432011&ref_=footer_ccmp',\n",
       " 'https://www.amazon.com/b?ie=UTF8&node=14498690011&ref_=amzn_nav_ftr_swa',\n",
       " 'https://www.amazon.com/Disney-Princess-Necklace-Activity-Set/dp/B0747ZGTTG/ref=zg_bs_toys-and-games_25/141-4745699-6356400?_encoding=UTF8&psc=1&refRID=CEEBDGSXWWK3JMKGERYF',\n",
       " 'https://www.amazon.com/L-L-Surprise-Surprises-Including/dp/B07XSPCBVP/ref=zg_bs_toys-and-games_24/141-4745699-6356400?_encoding=UTF8&psc=1&refRID=CEEBDGSXWWK3JMKGERYF',\n",
       " 'https://www.amazon.com/Aqua-Monterey-Multi-Purpose-Inflatable-Portable/dp/B073WMYP6M/ref=zg_bs_toys-and-games_26/141-4745699-6356400?_encoding=UTF8&psc=1&refRID=CEEBDGSXWWK3JMKGERYF',\n",
       " 'https://www.amazon.com/Crayola-Washable-Special-Sidewalk-Anti-Roll/dp/B00PY47LHW/ref=zg_bs_toys-and-games_42/141-4745699-6356400?_encoding=UTF8&psc=1&refRID=CEEBDGSXWWK3JMKGERYF',\n",
       " 'https://www.amazon.com/services?_encoding=UTF8&ref_=footer_services',\n",
       " 'https://www.amazon.com/SplashEZ-Sprinkler-Splash-Wading-Learning/dp/B07MNMT3M7/ref=zg_bs_toys-and-games_23/141-4745699-6356400?_encoding=UTF8&psc=1&refRID=CEEBDGSXWWK3JMKGERYF',\n",
       " 'https://www.amazon.com/Certified-Refurbished/b?ie=UTF8&node=12653393011&ref_=footer_usrenew',\n",
       " 'https://www.amazon.com/Taco-Cat-Goat-Cheese-Pizza/dp/B077Z1R28P/ref=zg_bs_toys-and-games_30/141-4745699-6356400?_encoding=UTF8&psc=1&refRID=CEEBDGSXWWK3JMKGERYF',\n",
       " 'https://www.amazon.com/alm/storefront?almBrandId=VUZHIFdob2xlIEZvb2Rz&ref_=nav_cs_whole_foods_in_region',\n",
       " 'https://www.amazon.com/gp/bestsellers/?ref_=nav_cs_bestsellers',\n",
       " 'https://www.amazon.com/Insect-Lore-Butterfly-Growing-Kit/dp/B00000ISC5/ref=zg_bs_toys-and-games_3/141-4745699-6356400?_encoding=UTF8&psc=1&refRID=CEEBDGSXWWK3JMKGERYF',\n",
       " 'https://www.amazon.com/Jenga-A2120EU4-Classic-Game/dp/B00ABA0ZOA/ref=zg_bs_toys-and-games_map_1/141-4745699-6356400?_encoding=UTF8&psc=1&refRID=CEEBDGSXWWK3JMKGERYF',\n",
       " 'https://www.amazon.com/Learning-Resources-Spike-Hedgehog-Sensory/dp/B078WM314M/ref=zg_bs_toys-and-games_33/141-4745699-6356400?_encoding=UTF8&psc=1&refRID=CEEBDGSXWWK3JMKGERYF',\n",
       " 'https://www.amazon.com/gp/css/order-history?ref_=nav_orders_first',\n",
       " 'https://www.amazon.com/business?_encoding=UTF8&ref_=footer_retail_b2b',\n",
       " 'https://www.amazon.com/gp/help/customer/display.html?nodeId=508510&ref_=nav_cs_customerservice',\n",
       " 'https://www.amazon.com/International-Shipping-Direct/b?ie=UTF8&node=230659011&ref_=footer_amazonglobal',\n",
       " 'https://www.amazon.com/gp/help/customer/display.html?ie=UTF8&nodeId=468520&ref_=footer_shiprates',\n",
       " 'https://www.amazon.com/gcx/Summer-toy-list-preview/gfhz/events/?_encoding=UTF8&categoryId=kgg-stl-preview&ref_=sv_t_1',\n",
       " 'https://www.amazon.com/gp/navigation-country/select-country/ref=footer_icp_cp_c?ie=UTF8&preferencesReturnUrl=%2F',\n",
       " 'https://www.amazon.com/gp/help/customer/display.html?ie=UTF8&nodeId=508088&ref_=footer_cou',\n",
       " 'https://www.amazon.com/Play-Doh-Modeling-Compound-Non-Toxic-Exclusive/dp/B00JM5GZGW/ref=zg_bs_toys-and-games_17/141-4745699-6356400?_encoding=UTF8&psc=1&refRID=CEEBDGSXWWK3JMKGERYF',\n",
       " 'https://www.amazon.com/Crayola-Crayons-Assorted-Toddler-16Count/dp/B07L6VQDSC/ref=zg_bs_toys-and-games_29/141-4745699-6356400?_encoding=UTF8&psc=1&refRID=CEEBDGSXWWK3JMKGERYF',\n",
       " 'https://www.amazon.com/Hasbro-A5640-Connect-4-Game/dp/B00D8STBHY/ref=zg_bs_toys-and-games_2/141-4745699-6356400?_encoding=UTF8&psc=1&refRID=CEEBDGSXWWK3JMKGERYF',\n",
       " 'https://www.amazon.com/Battleship-Planes-Strategy-Amazon-Exclusive/dp/B06Y1N3PTX/ref=zg_bs_toys-and-games_22/141-4745699-6356400?_encoding=UTF8&psc=1&refRID=CEEBDGSXWWK3JMKGERYF',\n",
       " 'https://www.amazon.com/toys/b/?ie=UTF8&node=165793011&ref_=sv_t_2',\n",
       " 'https://www.amazon.com/prime?ref_=nav_prime_try_btn',\n",
       " 'https://www.amazon.com/gp/browse.html?node=16115931011&ref_=nav_cs_registry',\n",
       " 'https://www.amazon.com/Munchkin-17040-Fishin-Bath-Toy/dp/B01N52DUNK/ref=zg_bs_toys-and-games_48/141-4745699-6356400?_encoding=UTF8&psc=1&refRID=CEEBDGSXWWK3JMKGERYF',\n",
       " 'https://www.amazon.com/Crayola-Erasable-Non-Toxic-Pre-Sharpened-Gradation/dp/B000PCWKBA/ref=zg_bs_toys-and-games_20/141-4745699-6356400?_encoding=UTF8&psc=1&refRID=CEEBDGSXWWK3JMKGERYF']"
      ]
     },
     "execution_count": 29,
     "metadata": {},
     "output_type": "execute_result"
    }
   ],
   "source": [
    "page_links"
   ]
  },
  {
   "cell_type": "code",
   "execution_count": 23,
   "metadata": {},
   "outputs": [],
   "source": [
    "def scrape_product_page(url, title_lookup = \"#productTitle\", price_lookup = \"#priceblock_ourprice\"):\n",
    "    driver.get(url)\n",
    "    time.sleep(1.2)\n",
    "    body_el = driver.find_element_by_css_selector(\"body\")\n",
    "    html_str = body_el.get_attribute(\"innerHTML\")\n",
    "    html_obj = HTML(html=html_str)\n",
    "    product_title = html_obj.find(title_lookup, first=True).text\n",
    "    product_price = html_obj.find(price_lookup, first=True).text\n",
    "    return product_title, product_price"
   ]
  },
  {
   "cell_type": "code",
   "execution_count": 24,
   "metadata": {},
   "outputs": [
    {
     "data": {
      "text/plain": [
       "'https://www.amazon.com/product-reviews/B07D4RN9NH/ref=zg_bs_toys-and-games_cr_36/141-4745699-6356400?ie=UTF8&refRID=CEEBDGSXWWK3JMKGERYF'"
      ]
     },
     "execution_count": 24,
     "metadata": {},
     "output_type": "execute_result"
    }
   ],
   "source": [
    "first_product_link = page_links[0]\n",
    "first_product_link"
   ]
  },
  {
   "cell_type": "code",
   "execution_count": 26,
   "metadata": {},
   "outputs": [
    {
     "name": "stdout",
     "output_type": "stream",
     "text": [
      "https://www.amazon.com/LEGO-Classic-Medium-Creative-Brick/dp/B00NHQFA1I/ref=zg_bs_toys-and-games_19/141-4745699-6356400?_encoding=UTF8&psc=1&refRID=CEEBDGSXWWK3JMKGERYF LEGO Classic Medium Creative Brick Box 10696 Building Toys for Creative Play; Kids Creative Kit (484 Pieces) $27.99\n",
      "https://www.amazon.com/Darice-Solution-Top-Works-Machines-Birthdays/dp/B07RYBB4NZ/ref=zg_bs_toys-and-games_7/141-4745699-6356400?_encoding=UTF8&psc=1&refRID=CEEBDGSXWWK3JMKGERYF Darice 64-Ounce Bubble Solution-Includes Wand and Easy Pour Funnel Top-Works with Bubble Machines-for Weddings, Birthdays and Outdoor Events $9.00\n",
      "https://www.amazon.com/Chalk-Jumbo-Sidewalk-Count-colors/dp/B079WL9MXC/ref=zg_bs_toys-and-games_31/141-4745699-6356400?_encoding=UTF8&psc=1&refRID=CEEBDGSXWWK3JMKGERYF Chalk Jumbo Sidewalk Chalk 20 Count- 5 colors $9.35\n",
      "https://www.amazon.com/Crayola-Twistables-Colored-Exclusive-Stocking/dp/B07D4RN9NH/ref=zg_bs_toys-and-games_36/141-4745699-6356400?_encoding=UTF8&psc=1&refRID=CEEBDGSXWWK3JMKGERYF Crayola Twistables Colored Pencils Coloring Set, Kids Indoor Activities At Home, Gift Age 3+ - 50 Count $12.99\n",
      "https://www.amazon.com/Crayola-Colored-Pre-sharpened-Coloring-Stocking/dp/B018HB2QFU/ref=zg_bs_toys-and-games_10/141-4745699-6356400?_encoding=UTF8&psc=1&refRID=CEEBDGSXWWK3JMKGERYF Crayola Colored Pencils, Adult Coloring, Fun At Home Activities, 50 Count $19.38\n",
      "https://www.amazon.com/Creative-Roots-Stepping-Horizon-Assorted/dp/B07HSJ5R7V/ref=zg_bs_toys-and-games_50/141-4745699-6356400?_encoding=UTF8&psc=1&refRID=CEEBDGSXWWK3JMKGERYF CREATIVE ROOTS Paint Your Own Flower Stepping Stone by Horizon Group USA Toy, Assorted $7.99\n",
      "https://www.amazon.com/Melissa-Doug-Decorate-Your-Own-Butterfly-Magnets/dp/B00Y8YOVOA/ref=zg_bs_toys-and-games_12/141-4745699-6356400?_encoding=UTF8&psc=1&refRID=CEEBDGSXWWK3JMKGERYF Melissa & Doug Created by Me! Butterfly Magnets - The Original (Kids Craft Kit, Supplies for 4 Projects, Great Gift for Girls and Boys – Best for 4, 5, 6, 7 and 8 Year Olds), Mix $4.99\n",
      "https://www.amazon.com/ThinkFun-Zingo-Winning-Pre-Readers-Readers/dp/B01DY818JG/ref=zg_bs_toys-and-games_46/141-4745699-6356400?_encoding=UTF8&psc=1&refRID=CEEBDGSXWWK3JMKGERYF ThinkFun Zingo Bingo Award Winning Preschool Game for Pre-Readers and Early Readers Age 4 and Up - One of the Most Popular Board Games for Boys and Girls and their Parents, Amazon Exclusive Version $19.99\n",
      "https://www.amazon.com/L-L-Surprise-Candylicious-Multicolor/dp/B07XSQ3BYJ/ref=zg_bs_toys-and-games_47/141-4745699-6356400?_encoding=UTF8&psc=1&refRID=CEEBDGSXWWK3JMKGERYF L.O.L. Surprise! O.M.G. Candylicious Fashion Doll with 20 Surprises,Multicolor $26.88\n",
      "https://www.amazon.com/Nuby-Floating-Purple-Octopus-Interactive/dp/B083ZZSGLR/ref=zg_bs_toys-and-games_49/141-4745699-6356400?_encoding=UTF8&psc=1&refRID=CEEBDGSXWWK3JMKGERYF Nuby Floating Purple Octopus with 3 Hoopla Rings Interactive Bath Toy $6.89\n",
      "https://www.amazon.com/Melissa-Doug-Pretend-Frustration-Free-Packaging/dp/B07PBXRJ7G/ref=zg_bs_toys-and-games_43/141-4745699-6356400?_encoding=UTF8&psc=1&refRID=CEEBDGSXWWK3JMKGERYF Melissa & Doug Dust! Sweep! Mop! (Frustration Free Packaging) $25.09\n",
      "https://www.amazon.com/Crayola-Twistables-Classrooms-Preschools-Self-Sharpening/dp/B00062J99K/ref=zg_bs_toys-and-games_8/141-4745699-6356400?_encoding=UTF8&psc=1&refRID=CEEBDGSXWWK3JMKGERYF Crayola Twistables Crayons Coloring Set, Kids Indoor Activities at Home, 24 Count $4.49\n",
      "https://www.amazon.com/Play-Doh-A5417-Sparkle-Compound-Collection/dp/B00IGNWYNE/ref=zg_bs_toys-and-games_5/141-4745699-6356400?_encoding=UTF8&psc=1&refRID=CEEBDGSXWWK3JMKGERYF Play-Doh Sparkle Compound Collection $4.94\n",
      "https://www.amazon.com/Crayola-Markers-Assorted-Colors-Coloring/dp/B01C64BASI/ref=zg_bs_toys-and-games_40/141-4745699-6356400?_encoding=UTF8&psc=1&refRID=CEEBDGSXWWK3JMKGERYF Crayola Fine Line Markers Adult Coloring Set, Gift Age 12+ - 40 Count $12.99\n",
      "https://www.amazon.com/First-Years-Stack-Up-Cups/dp/B00005C5H4/ref=zg_bs_toys-and-games_27/141-4745699-6356400?_encoding=UTF8&psc=1&refRID=CEEBDGSXWWK3JMKGERYF The First Years Stack Up Cup Toys $6.00\n",
      "https://www.amazon.com/L-L-Surprise-Sparkle-Multicolor/dp/B07PQVRPR1/ref=zg_bs_toys-and-games_11/141-4745699-6356400?_encoding=UTF8&psc=1&refRID=CEEBDGSXWWK3JMKGERYF L.O.L. Surprise Dolls Sparkle Series A, Multicolor $10.88\n",
      "https://www.amazon.com/Hasbro-B0965-Monopoly-Deal-Card/dp/B00NQQTZCO/ref=zg_bs_toys-and-games_18/141-4745699-6356400?_encoding=UTF8&psc=1&refRID=CEEBDGSXWWK3JMKGERYF Monopoly Deal Card Game $7.99\n",
      "https://www.amazon.com/Elmers-Liquid-Glitter-Washable-Assorted/dp/B008M56YZU/ref=zg_bs_toys-and-games_39/141-4745699-6356400?_encoding=UTF8&psc=1&refRID=CEEBDGSXWWK3JMKGERYF Elmer's Liquid Glitter Glue, Great For Making Slime, Washable, Assorted Colors, 6 Ounces Each, 3 Count $11.95\n",
      "https://www.amazon.com/SunWorks-Construction-Assorted-Colors-Sheets/dp/B0017OJKLI/ref=zg_bs_toys-and-games_45/141-4745699-6356400?_encoding=UTF8&psc=1&refRID=CEEBDGSXWWK3JMKGERYF SunWorks Construction Paper, 10 Assorted Colors, 9\" x 12\", 100 Sheets $8.29\n",
      "https://www.amazon.com/Crayola-Outdoor-Glitter-Sidewalk-Summer/dp/B00PY47F8M/ref=zg_bs_toys-and-games_16/141-4745699-6356400?_encoding=UTF8&psc=1&refRID=CEEBDGSXWWK3JMKGERYF Crayola Outdoor Chalk, Glitter Sidewalk Chalk, Summer Toys, 5 Count $8.73\n",
      "https://www.amazon.com/Postage-Stamps-envelopes-Wayne-Global/dp/B081J497K2/ref=zg_bs_toys-and-games_44/141-4745699-6356400?_encoding=UTF8&psc=1&refRID=CEEBDGSXWWK3JMKGERYF 20 Postage Stamps with 20 (#10) envelopes Bundle by Wayne Global- Stamp Design May Vary $16.90\n",
      "https://www.amazon.com/SunWorks-Construction-Paper-White-Sheets/dp/B0017OHG1O/ref=zg_bs_toys-and-games_35/141-4745699-6356400?_encoding=UTF8&psc=1&refRID=CEEBDGSXWWK3JMKGERYF SunWorks Heavyweight Construction Paper, 9 x 12 Inches, White, 100 Sheets $3.69\n",
      "https://www.amazon.com/Regal-Games-Chalk-City-Washable/dp/B071CKSMS7/ref=zg_bs_toys-and-games_4/141-4745699-6356400?_encoding=UTF8&psc=1&refRID=CEEBDGSXWWK3JMKGERYF Regal Games Chalk City - 20 Piece Jumbo Washable Sidewalk Chalk $12.99\n",
      "https://www.amazon.com/Bunch-Balloons-Pack-Amazon-Exclusive/dp/B07GW2QQWN/ref=zg_bs_toys-and-games_28/141-4745699-6356400?_encoding=UTF8&psc=1&refRID=CEEBDGSXWWK3JMKGERYF Bunch O Balloons - 350 Rapid-Fill Water Balloons (10 Pack) Amazon Exclusive $27.74\n",
      "https://www.amazon.com/Melissa-Doug-Activity-Child-Safe-Scissors/dp/B00EJAEUBC/ref=zg_bs_toys-and-games_15/141-4745699-6356400?_encoding=UTF8&psc=1&refRID=CEEBDGSXWWK3JMKGERYF Melissa & Doug Scissor Skills Activity Pad $4.99\n",
      "https://www.amazon.com/LEGO-Classic-Green-Baseplate-Supplement/dp/B00NHQF65S/ref=zg_bs_toys-and-games_14/141-4745699-6356400?_encoding=UTF8&psc=1&refRID=CEEBDGSXWWK3JMKGERYF LEGO Classic Green Baseplate 2304 Supplement for Building, Playing, and Displaying LEGO Creations, 10cm x 10cm, Large Building Base Accessory for Kids and Adults (1 Piece) $4.99\n",
      "https://www.amazon.com/Cards-Against-Humanity-LLC-CAHUS/dp/B004S8F7QM/ref=zg_bs_toys-and-games_13/141-4745699-6356400?_encoding=UTF8&psc=1&refRID=CEEBDGSXWWK3JMKGERYF Cards Against Humanity $25.00\n",
      "https://www.amazon.com/Little-Tikes-Spiralin-Waterpark-Table/dp/B004INDQWY/ref=zg_bs_toys-and-games_37/141-4745699-6356400?_encoding=UTF8&psc=1&refRID=CEEBDGSXWWK3JMKGERYF Little Tikes Spiralin’ Seas Waterpark Water Table $44.99\n",
      "https://www.amazon.com/Kinetic-Sand-Beach-Kingdom-Playset/dp/B079P87RVB/ref=zg_bs_toys-and-games_41/141-4745699-6356400?_encoding=UTF8&psc=1&refRID=CEEBDGSXWWK3JMKGERYF Kinetic Sand Beach Sand Kingdom Playset with 3lbs of Beach Sand, for Ages 3 and Up $19.97\n",
      "https://www.amazon.com/Creativity-Kids-Grow-Glow-Terrarium/dp/B00I9KDFK0/ref=zg_bs_toys-and-games_9/141-4745699-6356400?_encoding=UTF8&psc=1&refRID=CEEBDGSXWWK3JMKGERYF Creativity For Kids Grow 'N Glow Terrarium Science Kits for Kids - Create Your Own Mini Ecosystem, Educational Toys $12.99\n",
      "https://www.amazon.com/Crayola-Washable-Watercolors-8-ea/dp/B000HHKAE2/ref=zg_bs_toys-and-games_21/141-4745699-6356400?_encoding=UTF8&psc=1&refRID=CEEBDGSXWWK3JMKGERYF Crayola Washable Watercolors, Paint Set For Kids, 8Count $1.99\n",
      "https://www.amazon.com/Disney-Princess-Necklace-Activity-Set/dp/B0747ZGTTG/ref=zg_bs_toys-and-games_25/141-4745699-6356400?_encoding=UTF8&psc=1&refRID=CEEBDGSXWWK3JMKGERYF Tara Toy Disney Princess Necklace Activity Set $12.79\n"
     ]
    },
    {
     "name": "stdout",
     "output_type": "stream",
     "text": [
      "https://www.amazon.com/L-L-Surprise-Surprises-Including/dp/B07XSPCBVP/ref=zg_bs_toys-and-games_24/141-4745699-6356400?_encoding=UTF8&psc=1&refRID=CEEBDGSXWWK3JMKGERYF L.O.L. Surprise! Lights Glitter Doll with 8 Surprises Including Black Light Surprises $10.88\n",
      "https://www.amazon.com/Aqua-Monterey-Multi-Purpose-Inflatable-Portable/dp/B073WMYP6M/ref=zg_bs_toys-and-games_26/141-4745699-6356400?_encoding=UTF8&psc=1&refRID=CEEBDGSXWWK3JMKGERYF Aqua 4-in-1 Monterey Hammock Inflatable Pool Float, Multi-Purpose Pool Hammock (Saddle, Lounge Chair, Hammock, Drifter) Pool Chair, Portable Water Hammock, Navy/White Stripe $15.07\n",
      "https://www.amazon.com/Crayola-Washable-Special-Sidewalk-Anti-Roll/dp/B00PY47LHW/ref=zg_bs_toys-and-games_42/141-4745699-6356400?_encoding=UTF8&psc=1&refRID=CEEBDGSXWWK3JMKGERYF Crayola Washable Sidewalk Chalk, Neon Chalk $4.99\n",
      "https://www.amazon.com/Taco-Cat-Goat-Cheese-Pizza/dp/B077Z1R28P/ref=zg_bs_toys-and-games_30/141-4745699-6356400?_encoding=UTF8&psc=1&refRID=CEEBDGSXWWK3JMKGERYF Taco Cat Goat Cheese Pizza $9.99\n",
      "https://www.amazon.com/Insect-Lore-Butterfly-Growing-Kit/dp/B00000ISC5/ref=zg_bs_toys-and-games_3/141-4745699-6356400?_encoding=UTF8&psc=1&refRID=CEEBDGSXWWK3JMKGERYF Insect Lore Butterfly Growing Kit - With Voucher to Redeem Caterpillars Later $22.99\n",
      "https://www.amazon.com/Learning-Resources-Spike-Hedgehog-Sensory/dp/B078WM314M/ref=zg_bs_toys-and-games_33/141-4745699-6356400?_encoding=UTF8&psc=1&refRID=CEEBDGSXWWK3JMKGERYF Learning Resources Spike The Fine Motor Hedgehog, Sensory, Fine Motor Toy, Easter Basket Toy, Ages 18 months+ $10.99\n",
      "https://www.amazon.com/Play-Doh-Modeling-Compound-Non-Toxic-Exclusive/dp/B00JM5GZGW/ref=zg_bs_toys-and-games_17/141-4745699-6356400?_encoding=UTF8&psc=1&refRID=CEEBDGSXWWK3JMKGERYF Play-Doh Modeling Compound 36-Pack Case of Colors, Non-Toxic, Assorted Colors, 3-Ounce Cans (Amazon Exclusive) $24.99\n",
      "https://www.amazon.com/Crayola-Crayons-Assorted-Toddler-16Count/dp/B07L6VQDSC/ref=zg_bs_toys-and-games_29/141-4745699-6356400?_encoding=UTF8&psc=1&refRID=CEEBDGSXWWK3JMKGERYF Crayola Jumbo Crayons, Assorted Colors, Great Toddler Crayons, 16Count $6.25\n",
      "https://www.amazon.com/Hasbro-A5640-Connect-4-Game/dp/B00D8STBHY/ref=zg_bs_toys-and-games_2/141-4745699-6356400?_encoding=UTF8&psc=1&refRID=CEEBDGSXWWK3JMKGERYF Hasbro Connect 4 Game $12.99\n",
      "https://www.amazon.com/Battleship-Planes-Strategy-Amazon-Exclusive/dp/B06Y1N3PTX/ref=zg_bs_toys-and-games_22/141-4745699-6356400?_encoding=UTF8&psc=1&refRID=CEEBDGSXWWK3JMKGERYF Battleship With Planes Strategy Board Game For Ages 7 and Up (Amazon Exclusive) $14.99\n",
      "https://www.amazon.com/Munchkin-17040-Fishin-Bath-Toy/dp/B01N52DUNK/ref=zg_bs_toys-and-games_48/141-4745699-6356400?_encoding=UTF8&psc=1&refRID=CEEBDGSXWWK3JMKGERYF Munchkin Fishin' Bath Toy $7.73\n",
      "https://www.amazon.com/Crayola-Erasable-Non-Toxic-Pre-Sharpened-Gradation/dp/B000PCWKBA/ref=zg_bs_toys-and-games_20/141-4745699-6356400?_encoding=UTF8&psc=1&refRID=CEEBDGSXWWK3JMKGERYF Crayola Erasable Colored Pencils, Kids At Home Activities, 24 Count $5.97\n"
     ]
    }
   ],
   "source": [
    "for link in page_links:\n",
    "    title, price = (None, None)\n",
    "    try:\n",
    "        title, price = scrape_product_page(link)\n",
    "    except:\n",
    "        pass\n",
    "    if title != None and price != None:\n",
    "        print(link, title, price)"
   ]
  },
  {
   "cell_type": "code",
   "execution_count": null,
   "metadata": {},
   "outputs": [],
   "source": [
    "# https://www.amazon.com/LEGO-Classic-Medium-Creative-Brick/dp/B00NHQFA1I/\n",
    "# https://www.amazon.com/Crayola-Washable-Watercolors-8-ea/dp/B000HHKAE2/\n",
    "\n",
    "# <base-url>/<slug>/dp/<product_id>/"
   ]
  }
 ],
 "metadata": {
  "kernelspec": {
   "display_name": "Python 3",
   "language": "python",
   "name": "python3"
  },
  "language_info": {
   "codemirror_mode": {
    "name": "ipython",
    "version": 3
   },
   "file_extension": ".py",
   "mimetype": "text/x-python",
   "name": "python",
   "nbconvert_exporter": "python",
   "pygments_lexer": "ipython3",
   "version": "3.8.2"
  }
 },
 "nbformat": 4,
 "nbformat_minor": 4
}
