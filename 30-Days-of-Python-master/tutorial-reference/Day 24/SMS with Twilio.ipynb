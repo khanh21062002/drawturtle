{
 "cells": [
  {
   "cell_type": "markdown",
   "metadata": {},
   "source": [
    "### Step 1: Create an Account on Twillio.com\n",
    "\n",
    "Get $10 with our [referral code](https://www.twilio.com/referral/i6dXMd) by going [here](https://kirr.co/3n91i4). You also need a working cell phone number that accepts SMS messages to verify your account. \n",
    "\n",
    "\n",
    "### Step 2: Get your Account Keys\n",
    "For every project you make, I suggest creating API keys for that project. This way we can turn them off at anytime (and thus prevent unwanted use) without causing distruption to other projects.\n",
    "\n",
    "1. Go to [twilio.com/console/](https://twilio.com/console/)\n",
    "2. Copy the `Account SID` (We'll store as `twilio_sid`)\n",
    "3. Copy the `Auth Token` (We'll store as `twilio_secret`)\n",
    "4. We'll save these in a file called `creds.json` in this one. We'll 100% need these in the future."
   ]
  },
  {
   "cell_type": "code",
   "execution_count": 5,
   "metadata": {},
   "outputs": [
    {
     "name": "stdout",
     "output_type": "stream",
     "text": [
      "What's the Twilio Account SID?········\n",
      "What's the Twilio Secret?········\n"
     ]
    }
   ],
   "source": [
    "import json\n",
    "from getpass import getpass\n",
    "\n",
    "reset_creds = False\n",
    "\n",
    "if reset_creds:\n",
    "    twilio_sid = getpass(\"What's the Twilio Account SID?\")\n",
    "    twilio_secret = getpass(\"What's the Twilio Secret?\")\n",
    "    '''\n",
    "    This will save our creds from above (blank or not) to a local file\n",
    "    named `creds.json` so we can re-use this credentials.\n",
    "    '''\n",
    "    data = {\n",
    "        \"twilio_sid\": twilio_sid,\n",
    "        \"twilio_secret\": twilio_secret\n",
    "    }\n",
    "    json_data = json.dumps(data)\n",
    "    with open('creds.json', 'w') as f:\n",
    "        f.write(json_data)"
   ]
  },
  {
   "cell_type": "code",
   "execution_count": 4,
   "metadata": {},
   "outputs": [
    {
     "name": "stdout",
     "output_type": "stream",
     "text": [
      "{\"twilio_sid\": \"abc\", \"twilio_secret\": \"abc\"}"
     ]
    }
   ],
   "source": [
    "# !cat creds.json"
   ]
  },
  {
   "cell_type": "markdown",
   "metadata": {},
   "source": [
    "### Step 3: Install twilio"
   ]
  },
  {
   "cell_type": "code",
   "execution_count": 7,
   "metadata": {},
   "outputs": [],
   "source": [
    "# !pip install twilio"
   ]
  },
  {
   "cell_type": "markdown",
   "metadata": {},
   "source": [
    "### Step 4: Load Creds"
   ]
  },
  {
   "cell_type": "code",
   "execution_count": 8,
   "metadata": {},
   "outputs": [],
   "source": [
    "twilio_sid = \"\"\n",
    "twilio_secret = ''\n",
    "with open('creds.json', 'r') as f:\n",
    "        raw_data = f.read()\n",
    "        cred_data = json.loads(raw_data)\n",
    "        twilio_sid = cred_data.get('twilio_sid')\n",
    "        twilio_secret = cred_data.get('twilio_secret')"
   ]
  },
  {
   "cell_type": "code",
   "execution_count": 10,
   "metadata": {},
   "outputs": [],
   "source": [
    "from twilio.rest import Client\n",
    "\n",
    "client = Client(twilio_sid, twilio_secret)"
   ]
  },
  {
   "cell_type": "markdown",
   "metadata": {},
   "source": [
    "### Step 5: Send Message"
   ]
  },
  {
   "cell_type": "code",
   "execution_count": 9,
   "metadata": {},
   "outputs": [],
   "source": [
    "my_number = \"+19493791502\" #??\n",
    "other_number = \"+19492087402\" # ??"
   ]
  },
  {
   "cell_type": "code",
   "execution_count": 18,
   "metadata": {},
   "outputs": [],
   "source": [
    "body = \"Hello world again\"\n",
    "message_twilio = client.messages.create(\n",
    "    body=body,\n",
    "    from_=my_number,\n",
    "    to=other_number\n",
    ")"
   ]
  },
  {
   "cell_type": "markdown",
   "metadata": {},
   "source": [
    "### Step 6: List Recent Messages"
   ]
  },
  {
   "cell_type": "code",
   "execution_count": 13,
   "metadata": {},
   "outputs": [],
   "source": [
    "ignore_numbers = []\n",
    "with open('ignore.json', 'r') as f:\n",
    "    data = json.loads(f.read())\n",
    "    ignore_numbers = data.get('ignore')"
   ]
  },
  {
   "cell_type": "code",
   "execution_count": 21,
   "metadata": {},
   "outputs": [
    {
     "data": {
      "text/plain": [
       "'+19493791502'"
      ]
     },
     "execution_count": 21,
     "metadata": {},
     "output_type": "execute_result"
    }
   ],
   "source": [
    "msg_sid = message_twilio.sid\n",
    "msg_sid\n",
    "\n",
    "msg_ctx = client.messages.get(msg_sid)\n",
    "msg_instance = msg_ctx.fetch()\n",
    "\n",
    "msg_instance.from_"
   ]
  },
  {
   "cell_type": "code",
   "execution_count": 26,
   "metadata": {},
   "outputs": [
    {
     "name": "stdout",
     "output_type": "stream",
     "text": [
      "0 Sent from your Twilio trial account - Hello world again +19492087402 +19493791502 True\n",
      "1 Sent from your Twilio trial account - Hello world +19492087402 +19493791502 True\n",
      "2 Sent from your Twilio trial account - Hello world +19492087402 +19493791502 True\n",
      "3 Sent from your Twilio trial account - Hi there! +19492087402 +19493791502 True\n",
      "4 Sent from your Twilio trial account - Hi there! +19492087402 +19493791502 True\n"
     ]
    }
   ],
   "source": [
    "messages = client.messages.list(limit=20, to=other_number)\n",
    "\n",
    "for i, record in enumerate(messages):\n",
    "    from_ = record.from_\n",
    "    to = record.to\n",
    "    if from_ in ignore_numbers:\n",
    "        from_ = '~hidden~'\n",
    "    if to in ignore_numbers:\n",
    "        to = '~hidden~'\n",
    "    from_me = False\n",
    "    if from_ == my_number:\n",
    "        from_me = True\n",
    "    print(i, record.body, to, from_, from_me)"
   ]
  },
  {
   "cell_type": "code",
   "execution_count": null,
   "metadata": {},
   "outputs": [],
   "source": []
  }
 ],
 "metadata": {
  "kernelspec": {
   "display_name": "Python 3",
   "language": "python",
   "name": "python3"
  },
  "language_info": {
   "codemirror_mode": {
    "name": "ipython",
    "version": 3
   },
   "file_extension": ".py",
   "mimetype": "text/x-python",
   "name": "python",
   "nbconvert_exporter": "python",
   "pygments_lexer": "ipython3",
   "version": "3.8.2"
  }
 },
 "nbformat": 4,
 "nbformat_minor": 4
}
