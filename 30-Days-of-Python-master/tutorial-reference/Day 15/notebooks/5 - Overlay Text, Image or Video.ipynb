{
 "cells": [
  {
   "cell_type": "markdown",
   "metadata": {},
   "source": [
    "### Requires ImageMagick\n",
    "To add text, you must install ImageMagic.\n",
    "\n",
    "##### macOS:\n",
    "\n",
    "Use [homebrew](http://brew.sh)\n",
    "\n",
    "```\n",
    "brew update && brew install imagemagick\n",
    "```\n",
    "#### Linux:\n",
    "Download [here](https://imagemagick.org/script/download.php)\n",
    "\n",
    "#### Windows:\n",
    "Use the [binary or exe](https://imagemagick.org/script/download.php#windows)"
   ]
  },
  {
   "cell_type": "code",
   "execution_count": 1,
   "metadata": {},
   "outputs": [],
   "source": [
    "import shutil\n",
    "from conf import (SAMPLE_INPUTS, SAMPLE_OUTPUTS)\n",
    "from moviepy.editor import *\n",
    "from PIL import Image # pipenv install pillow\n",
    "\n",
    "video_path = os.path.join(SAMPLE_INPUTS, 'sample.mp4')\n",
    "output_video = os.path.join(SAMPLE_OUTPUTS, \"with-text.mp4\")\n",
    "video_audio = os.path.join(SAMPLE_OUTPUTS, \"og-audio.mp3\")\n",
    "audio_path = os.path.join(SAMPLE_INPUTS, 'audio.mp3')\n",
    "temp_dir = os.path.join(SAMPLE_OUTPUTS,'temp')\n",
    "os.makedirs(temp_dir, exist_ok=True)\n",
    "temp_audio = os.path.join(temp_dir, 'temp-audio.m4a')"
   ]
  },
  {
   "cell_type": "code",
   "execution_count": 2,
   "metadata": {},
   "outputs": [],
   "source": [
    "clip = VideoFileClip(video_path)"
   ]
  },
  {
   "cell_type": "code",
   "execution_count": 3,
   "metadata": {},
   "outputs": [
    {
     "name": "stderr",
     "output_type": "stream",
     "text": [
      "chunk:  11%|█         | 70/666 [00:00<00:00, 677.84it/s, now=None]"
     ]
    },
    {
     "name": "stdout",
     "output_type": "stream",
     "text": [
      "MoviePy - Writing audio in /Users/jmitch/Dev/cfe-rnd/data/samples/outputs/og-audio.mp3\n"
     ]
    },
    {
     "name": "stderr",
     "output_type": "stream",
     "text": [
      "                                                                   "
     ]
    },
    {
     "name": "stdout",
     "output_type": "stream",
     "text": [
      "MoviePy - Done.\n"
     ]
    },
    {
     "name": "stderr",
     "output_type": "stream",
     "text": [
      "\r"
     ]
    }
   ],
   "source": [
    "og_audio = clip.audio\n",
    "og_audio = og_audio.set_duration(clip.duration)\n",
    "og_audio.write_audiofile(video_audio)"
   ]
  },
  {
   "cell_type": "code",
   "execution_count": 4,
   "metadata": {},
   "outputs": [],
   "source": [
    "intro_duration = 5 # seconds\n",
    "intro_text = TextClip(\"Hello world!\", fontsize=70,color='white', size=clip.size)\n",
    "intro_text = intro_text.set_duration(intro_duration)\n",
    "intro_text = intro_text.set_fps(clip.fps)\n",
    "intro_text = intro_text.set_pos(\"center\")"
   ]
  },
  {
   "cell_type": "code",
   "execution_count": 5,
   "metadata": {},
   "outputs": [],
   "source": [
    "intro_audio = AudioFileClip(audio_path)\n",
    "intro_audio = intro_audio.set_duration(intro_duration)"
   ]
  },
  {
   "cell_type": "code",
   "execution_count": null,
   "metadata": {},
   "outputs": [],
   "source": [
    "intro_text = intro_text.set_audio(intro_audio)"
   ]
  },
  {
   "cell_type": "code",
   "execution_count": 6,
   "metadata": {},
   "outputs": [],
   "source": [
    "w, h = clip.size\n",
    "\n",
    "text = TextClip(\"CFE\", fontsize=70,color='white', align='East', size=(w, 70))\n",
    "text = text.set_fps(clip.fps)\n",
    "text = text.set_duration(clip.duration)\n",
    "text = text.margin(right=2, bottom=2, opacity=0)\n",
    "text = text.set_position((\"bottom\"))\n",
    "\n",
    "\n",
    "cvc = CompositeVideoClip( [text],\n",
    "                        size=clip.size)\n",
    "cvc = cvc.set_duration(clip.duration)\n",
    "cvc = cvc.set_fps(clip.fps)"
   ]
  },
  {
   "cell_type": "code",
   "execution_count": 7,
   "metadata": {},
   "outputs": [],
   "source": [
    "overlay_clip = CompositeVideoClip([clip, cvc], size=clip.size)\n",
    "overlay_clip = overlay_clip.set_audio(None)\n",
    "overlay_clip = overlay_clip.set_duration(clip.duration)\n",
    "overlay_clip = overlay_clip.set_fps(clip.fps)\n",
    "\n",
    "overlay_clip = overlay_clip.set_audio(AudioFileClip(video_audio))"
   ]
  },
  {
   "cell_type": "code",
   "execution_count": 8,
   "metadata": {},
   "outputs": [],
   "source": [
    "final_clip = concatenate_videoclips([intro_text, overlay_clip])"
   ]
  },
  {
   "cell_type": "code",
   "execution_count": 9,
   "metadata": {},
   "outputs": [
    {
     "name": "stderr",
     "output_type": "stream",
     "text": [
      "chunk:  23%|██▎       | 178/777 [00:00<00:00, 1778.37it/s, now=None]"
     ]
    },
    {
     "name": "stdout",
     "output_type": "stream",
     "text": [
      "Moviepy - Building video /Users/jmitch/Dev/cfe-rnd/data/samples/outputs/with-text.mp4.\n",
      "MoviePy - Writing audio in /Users/jmitch/Dev/cfe-rnd/data/samples/outputs/temp/temp-audio.m4a\n"
     ]
    },
    {
     "name": "stderr",
     "output_type": "stream",
     "text": [
      "t:   0%|          | 4/1056 [00:00<00:30, 34.53it/s, now=None]       "
     ]
    },
    {
     "name": "stdout",
     "output_type": "stream",
     "text": [
      "MoviePy - Done.\n",
      "Moviepy - Writing video /Users/jmitch/Dev/cfe-rnd/data/samples/outputs/with-text.mp4\n",
      "\n"
     ]
    },
    {
     "name": "stderr",
     "output_type": "stream",
     "text": [
      "                                                                \r"
     ]
    },
    {
     "name": "stdout",
     "output_type": "stream",
     "text": [
      "Moviepy - Done !\n",
      "Moviepy - video ready /Users/jmitch/Dev/cfe-rnd/data/samples/outputs/with-text.mp4\n"
     ]
    }
   ],
   "source": [
    "final_clip.write_videofile(output_video, temp_audiofile=temp_audio, remove_temp=True, codec=\"libx264\", audio_codec=\"aac\")"
   ]
  },
  {
   "cell_type": "code",
   "execution_count": null,
   "metadata": {},
   "outputs": [],
   "source": []
  },
  {
   "cell_type": "code",
   "execution_count": null,
   "metadata": {},
   "outputs": [],
   "source": []
  }
 ],
 "metadata": {
  "kernelspec": {
   "display_name": "Python 3",
   "language": "python",
   "name": "python3"
  },
  "language_info": {
   "codemirror_mode": {
    "name": "ipython",
    "version": 3
   },
   "file_extension": ".py",
   "mimetype": "text/x-python",
   "name": "python",
   "nbconvert_exporter": "python",
   "pygments_lexer": "ipython3",
   "version": "3.7.3"
  }
 },
 "nbformat": 4,
 "nbformat_minor": 4
}
