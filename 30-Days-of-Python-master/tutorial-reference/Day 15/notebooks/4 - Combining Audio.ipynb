{
 "cells": [
  {
   "cell_type": "code",
   "execution_count": 1,
   "metadata": {},
   "outputs": [],
   "source": [
    "import shutil\n",
    "from conf import (SAMPLE_INPUTS, SAMPLE_OUTPUTS)\n",
    "from moviepy.editor import *\n",
    "from moviepy.audio.fx.all import volumex # to change the volume\n",
    "\n",
    "from PIL import Image # pipenv install pillow\n",
    "\n",
    "video_path = os.path.join(SAMPLE_INPUTS, 'sample.mp4')\n",
    "audio_path = os.path.join(SAMPLE_INPUTS, 'audio.mp3')\n",
    "og_audio_path = os.path.join(SAMPLE_OUTPUTS, 'og.mp3')\n",
    "\n",
    "output_audio = os.path.join(SAMPLE_OUTPUTS, 'new-audio-with-music.mp3')\n",
    "output_video = os.path.join(SAMPLE_OUTPUTS, 'new-video-with-music.mp4')\n",
    "\n",
    "temp_dir = os.path.join(SAMPLE_OUTPUTS,'temp')\n",
    "os.makedirs(temp_dir, exist_ok=True)\n",
    "temp_audio = os.path.join(temp_dir, 'temp-audio.m4a')"
   ]
  },
  {
   "cell_type": "code",
   "execution_count": 2,
   "metadata": {},
   "outputs": [],
   "source": [
    "video_clip = VideoFileClip(video_path)"
   ]
  },
  {
   "cell_type": "code",
   "execution_count": 3,
   "metadata": {},
   "outputs": [
    {
     "name": "stderr",
     "output_type": "stream",
     "text": [
      "chunk:   9%|▉         | 63/666 [00:00<00:00, 628.70it/s, now=None]"
     ]
    },
    {
     "name": "stdout",
     "output_type": "stream",
     "text": [
      "MoviePy - Writing audio in /Users/jmitch/Dev/cfe-rnd/data/samples/outputs/og.mp3\n"
     ]
    },
    {
     "name": "stderr",
     "output_type": "stream",
     "text": [
      "                                                                   "
     ]
    },
    {
     "name": "stdout",
     "output_type": "stream",
     "text": [
      "MoviePy - Done.\n"
     ]
    },
    {
     "name": "stderr",
     "output_type": "stream",
     "text": [
      "\r"
     ]
    }
   ],
   "source": [
    "original_audio = video_clip.audio\n",
    "original_audio.write_audiofile(og_audio_path)"
   ]
  },
  {
   "cell_type": "code",
   "execution_count": 4,
   "metadata": {},
   "outputs": [],
   "source": [
    "background_music_clip = AudioFileClip(audio_path)\n",
    "bg_music = background_music_clip.subclip(0, video_clip.duration)"
   ]
  },
  {
   "cell_type": "code",
   "execution_count": 5,
   "metadata": {},
   "outputs": [],
   "source": [
    "#bg_music = bg_music.fx(volumex, 0.15)\n",
    "bg_music = bg_music.volumex(0.10)"
   ]
  },
  {
   "cell_type": "code",
   "execution_count": 6,
   "metadata": {},
   "outputs": [
    {
     "name": "stderr",
     "output_type": "stream",
     "text": [
      "chunk:   6%|▌         | 38/666 [00:00<00:01, 363.44it/s, now=None]"
     ]
    },
    {
     "name": "stdout",
     "output_type": "stream",
     "text": [
      "MoviePy - Writing audio in /Users/jmitch/Dev/cfe-rnd/data/samples/outputs/new-audio-with-music.mp3\n"
     ]
    },
    {
     "name": "stderr",
     "output_type": "stream",
     "text": [
      "                                                                   \r"
     ]
    },
    {
     "name": "stdout",
     "output_type": "stream",
     "text": [
      "MoviePy - Done.\n"
     ]
    }
   ],
   "source": [
    "final_audio = CompositeAudioClip([original_audio, bg_music])\n",
    "final_audio.write_audiofile(output_audio, fps=original_audio.fps)"
   ]
  },
  {
   "cell_type": "code",
   "execution_count": 7,
   "metadata": {},
   "outputs": [
    {
     "name": "stderr",
     "output_type": "stream",
     "text": [
      "chunk:   5%|▍         | 33/666 [00:00<00:02, 312.23it/s, now=None]"
     ]
    },
    {
     "name": "stdout",
     "output_type": "stream",
     "text": [
      "Moviepy - Building video /Users/jmitch/Dev/cfe-rnd/data/samples/outputs/new-video-with-music.mp4.\n",
      "MoviePy - Writing audio in /Users/jmitch/Dev/cfe-rnd/data/samples/outputs/temp/temp-audio.m4a\n"
     ]
    },
    {
     "name": "stderr",
     "output_type": "stream",
     "text": [
      "t:   1%|          | 11/906 [00:00<00:08, 108.46it/s, now=None]     "
     ]
    },
    {
     "name": "stdout",
     "output_type": "stream",
     "text": [
      "MoviePy - Done.\n",
      "Moviepy - Writing video /Users/jmitch/Dev/cfe-rnd/data/samples/outputs/new-video-with-music.mp4\n",
      "\n"
     ]
    },
    {
     "name": "stderr",
     "output_type": "stream",
     "text": [
      "                                                              \r"
     ]
    },
    {
     "name": "stdout",
     "output_type": "stream",
     "text": [
      "Moviepy - Done !\n",
      "Moviepy - video ready /Users/jmitch/Dev/cfe-rnd/data/samples/outputs/new-video-with-music.mp4\n"
     ]
    }
   ],
   "source": [
    "final_clip = video_clip.set_audio(final_audio)\n",
    "final_clip.write_videofile(output_video, temp_audiofile=temp_audio, remove_temp=True, codec=\"libx264\", audio_codec=\"aac\")"
   ]
  },
  {
   "cell_type": "code",
   "execution_count": 8,
   "metadata": {},
   "outputs": [],
   "source": [
    "# shutil.rmtree(temp_dir)"
   ]
  },
  {
   "cell_type": "code",
   "execution_count": null,
   "metadata": {},
   "outputs": [],
   "source": []
  }
 ],
 "metadata": {
  "kernelspec": {
   "display_name": "Python 3",
   "language": "python",
   "name": "python3"
  },
  "language_info": {
   "codemirror_mode": {
    "name": "ipython",
    "version": 3
   },
   "file_extension": ".py",
   "mimetype": "text/x-python",
   "name": "python",
   "nbconvert_exporter": "python",
   "pygments_lexer": "ipython3",
   "version": "3.7.3"
  }
 },
 "nbformat": 4,
 "nbformat_minor": 4
}
