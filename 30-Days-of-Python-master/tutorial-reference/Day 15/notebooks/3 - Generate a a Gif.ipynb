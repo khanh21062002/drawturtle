{
 "cells": [
  {
   "cell_type": "code",
   "execution_count": 1,
   "metadata": {},
   "outputs": [],
   "source": [
    "from conf import (SAMPLE_INPUTS, SAMPLE_OUTPUTS)\n",
    "from moviepy.editor import *\n",
    "from PIL import Image # pipenv install pillow\n",
    "from moviepy.video.fx.all import crop\n",
    "\n",
    "source_path = os.path.join(SAMPLE_INPUTS, 'sample.mp4')\n",
    "gifs_dir = os.path.join(SAMPLE_OUTPUTS, 'gifs')\n",
    "os.makedirs(gifs_dir, exist_ok=True)"
   ]
  },
  {
   "cell_type": "code",
   "execution_count": 2,
   "metadata": {},
   "outputs": [
    {
     "name": "stderr",
     "output_type": "stream",
     "text": [
      "t:   1%|          | 4/450 [00:00<00:11, 38.19it/s, now=None]"
     ]
    },
    {
     "name": "stdout",
     "output_type": "stream",
     "text": [
      "MoviePy - Building file  /Users/jmitch/Dev/cfe-rnd/data/samples/outputs/gifs/first.gif\n",
      "MoviePy - - Generating GIF frames.\n"
     ]
    },
    {
     "name": "stderr",
     "output_type": "stream",
     "text": [
      "                                                              "
     ]
    },
    {
     "name": "stdout",
     "output_type": "stream",
     "text": [
      "MoviePy - - File ready: /Users/jmitch/Dev/cfe-rnd/data/samples/outputs/gifs/first.gif.\n"
     ]
    },
    {
     "name": "stderr",
     "output_type": "stream",
     "text": [
      "\r"
     ]
    }
   ],
   "source": [
    "clip = VideoFileClip(source_path)\n",
    "fps = clip.reader.fps\n",
    "clip = clip.resize(width=320)\n",
    "clip = clip.subclip(0, 15)\n",
    "clip.write_gif(os.path.join(gifs_dir, \"first.gif\"), fps=fps, program= 'ffmpeg') # program=\"imageio\""
   ]
  },
  {
   "cell_type": "code",
   "execution_count": 3,
   "metadata": {},
   "outputs": [],
   "source": [
    "clip = VideoFileClip(source_path)\n",
    "w, h = clip.size\n",
    "fps = clip.reader.fps\n",
    "clip = clip.subclip(0, 15)"
   ]
  },
  {
   "cell_type": "code",
   "execution_count": 4,
   "metadata": {},
   "outputs": [
    {
     "name": "stderr",
     "output_type": "stream",
     "text": [
      "\r",
      "t:   0%|          | 0/450 [00:00<?, ?it/s, now=None]"
     ]
    },
    {
     "name": "stdout",
     "output_type": "stream",
     "text": [
      "MoviePy - Building file  /Users/jmitch/Dev/cfe-rnd/data/samples/outputs/gifs/center.gif\n",
      "MoviePy - - Generating GIF frames.\n"
     ]
    },
    {
     "name": "stderr",
     "output_type": "stream",
     "text": [
      "                                                               "
     ]
    },
    {
     "name": "stdout",
     "output_type": "stream",
     "text": [
      "MoviePy - - File ready: /Users/jmitch/Dev/cfe-rnd/data/samples/outputs/gifs/center.gif.\n"
     ]
    },
    {
     "name": "stderr",
     "output_type": "stream",
     "text": [
      "\r"
     ]
    }
   ],
   "source": [
    "cropped_clip = crop(clip, width=320, height=320, x_center=w/2, y_center=h/2)\n",
    "cropped_clip.write_gif(os.path.join(gifs_dir, \"center.gif\"), fps=fps, program= 'ffmpeg') # program=\"imageio\""
   ]
  },
  {
   "cell_type": "code",
   "execution_count": null,
   "metadata": {},
   "outputs": [],
   "source": []
  }
 ],
 "metadata": {
  "kernelspec": {
   "display_name": "Python 3",
   "language": "python",
   "name": "python3"
  },
  "language_info": {
   "codemirror_mode": {
    "name": "ipython",
    "version": 3
   },
   "file_extension": ".py",
   "mimetype": "text/x-python",
   "name": "python",
   "nbconvert_exporter": "python",
   "pygments_lexer": "ipython3",
   "version": "3.7.3"
  }
 },
 "nbformat": 4,
 "nbformat_minor": 4
}
