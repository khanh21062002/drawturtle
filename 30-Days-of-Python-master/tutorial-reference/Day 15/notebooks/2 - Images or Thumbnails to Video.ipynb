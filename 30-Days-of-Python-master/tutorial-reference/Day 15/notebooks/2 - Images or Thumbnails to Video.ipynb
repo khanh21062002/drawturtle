{
 "cells": [
  {
   "cell_type": "code",
   "execution_count": 29,
   "metadata": {},
   "outputs": [],
   "source": [
    "%config IPCompleter.greedy=True"
   ]
  },
  {
   "cell_type": "code",
   "execution_count": 30,
   "metadata": {},
   "outputs": [],
   "source": [
    "from conf import (SAMPLE_DIR, SAMPLE_OUTPUTS)\n",
    "from moviepy.editor import *\n",
    "from PIL import Image # pipenv install pillow\n",
    "\n",
    "output_path = os.path.join(SAMPLE_OUTPUTS, 'thumbnails.mp4')\n",
    "easy_output_path = os.path.join(SAMPLE_OUTPUTS, 'thumbnails-easy.mp4')\n",
    "thumnbail_dir = os.path.join(SAMPLE_OUTPUTS, 'thumbnails')"
   ]
  },
  {
   "cell_type": "markdown",
   "metadata": {},
   "source": [
    "#### Easist way\n",
    "Just use a directory with images and convert that to a video clip."
   ]
  },
  {
   "cell_type": "code",
   "execution_count": 31,
   "metadata": {},
   "outputs": [],
   "source": [
    "def img_dir_to_video(input_path, output_path, fps=4):\n",
    "    '''\n",
    "    Takes a directory loaded with images\n",
    "    and saves a video to the output_path.\n",
    "    Takes default system ordering.\n",
    "    '''\n",
    "    dir_items = os.listdir(input_path)\n",
    "    filepaths = [os.path.join(input_path, fname) for fname in dir_items if fname.endswith(\"jpg\")]\n",
    "    clip = ImageSequenceClip(filepaths, fps=fps)\n",
    "    clip.write_videofile(output_path)\n",
    "    return clip"
   ]
  },
  {
   "cell_type": "code",
   "execution_count": 32,
   "metadata": {},
   "outputs": [
    {
     "name": "stderr",
     "output_type": "stream",
     "text": [
      "t:  16%|█▌        | 5/32 [00:00<00:00, 40.89it/s, now=None]"
     ]
    },
    {
     "name": "stdout",
     "output_type": "stream",
     "text": [
      "Moviepy - Building video /Users/jmitch/Dev/cfe-rnd/data/samples/outputs/thumbnails-easy.mp4.\n",
      "Moviepy - Writing video /Users/jmitch/Dev/cfe-rnd/data/samples/outputs/thumbnails-easy.mp4\n",
      "\n"
     ]
    },
    {
     "name": "stderr",
     "output_type": "stream",
     "text": [
      "                                                            \r"
     ]
    },
    {
     "name": "stdout",
     "output_type": "stream",
     "text": [
      "Moviepy - Done !\n",
      "Moviepy - video ready /Users/jmitch/Dev/cfe-rnd/data/samples/outputs/thumbnails-easy.mp4\n"
     ]
    },
    {
     "data": {
      "text/plain": [
       "<moviepy.video.io.ImageSequenceClip.ImageSequenceClip at 0x11e0456d8>"
      ]
     },
     "execution_count": 32,
     "metadata": {},
     "output_type": "execute_result"
    }
   ],
   "source": [
    "img_dir_to_video(thumnbail_dir, easy_output_path, fps=5)"
   ]
  },
  {
   "cell_type": "markdown",
   "metadata": {},
   "source": [
    "#### The Harder Way\n",
    "In the `1 - Video to Thumbnail.ipynb` we stored thumbnails based on the current frame's timestamp in seconds or miliseconds. These numbers can be used to ensure our thumbnails are sorted in the order they actually appear in a video.\n",
    "\n",
    "It's not that hard to parse a digit from a filename but the below does assume that's how you named your files."
   ]
  },
  {
   "cell_type": "code",
   "execution_count": 44,
   "metadata": {},
   "outputs": [],
   "source": [
    "def sorted_path_to_video(input_dir, output_path, fps=4, verbose=True):\n",
    "    '''\n",
    "    Extracts all images from a directory\n",
    "    that contain a digit as a filename.\n",
    "    Such as 1.jpg or 322.jpg\n",
    "    After the extraction, all filepaths are sorted by \n",
    "    their integer value based on their base filename.\n",
    "    Finally, saves an image.\n",
    "    '''\n",
    "    directory = {}\n",
    "    for root, dirs, files in os.walk(input_dir):\n",
    "        for name in files:\n",
    "            try:\n",
    "                key = float(name.replace('.jpg', '')) \n",
    "            except:\n",
    "                key = None\n",
    "            filepath = os.path.join(root, name)\n",
    "            if key != None:\n",
    "                directory[key] = filepath\n",
    "            else:\n",
    "                if verbose:\n",
    "                    print(f\"Skipping {filepath}\")\n",
    "    filepaths = []\n",
    "    for k in sorted(directory.keys()):\n",
    "        filepath = directory[k]\n",
    "        if filepath not in filepaths:\n",
    "            filepaths.append(filepath)\n",
    "    frames_list = []\n",
    "    for filepath in list(filepaths):\n",
    "        if verbose:\n",
    "            print(filepath)\n",
    "        frame = ImageClip(filepath)\n",
    "        frames_list.append(frame.img)\n",
    "    clip = ImageSequenceClip(frames_list, fps=fps)\n",
    "    clip.write_videofile(output_path)"
   ]
  },
  {
   "cell_type": "code",
   "execution_count": 46,
   "metadata": {},
   "outputs": [
    {
     "name": "stderr",
     "output_type": "stream",
     "text": [
      "t:  29%|██▉       | 9/31 [00:00<00:00, 82.54it/s, now=None]"
     ]
    },
    {
     "name": "stdout",
     "output_type": "stream",
     "text": [
      "Moviepy - Building video /Users/jmitch/Dev/cfe-rnd/data/samples/outputs/thumbnails.mp4.\n",
      "Moviepy - Writing video /Users/jmitch/Dev/cfe-rnd/data/samples/outputs/thumbnails.mp4\n",
      "\n"
     ]
    },
    {
     "name": "stderr",
     "output_type": "stream",
     "text": [
      "                                                            \r"
     ]
    },
    {
     "name": "stdout",
     "output_type": "stream",
     "text": [
      "Moviepy - Done !\n",
      "Moviepy - video ready /Users/jmitch/Dev/cfe-rnd/data/samples/outputs/thumbnails.mp4\n"
     ]
    }
   ],
   "source": [
    "sorted_path_to_video(thumnbail_dir, output_path, fps=8, verbose=False)"
   ]
  },
  {
   "cell_type": "code",
   "execution_count": null,
   "metadata": {},
   "outputs": [],
   "source": []
  },
  {
   "cell_type": "code",
   "execution_count": null,
   "metadata": {},
   "outputs": [],
   "source": []
  }
 ],
 "metadata": {
  "kernelspec": {
   "display_name": "Python 3",
   "language": "python",
   "name": "python3"
  },
  "language_info": {
   "codemirror_mode": {
    "name": "ipython",
    "version": 3
   },
   "file_extension": ".py",
   "mimetype": "text/x-python",
   "name": "python",
   "nbconvert_exporter": "python",
   "pygments_lexer": "ipython3",
   "version": "3.7.3"
  }
 },
 "nbformat": 4,
 "nbformat_minor": 4
}
