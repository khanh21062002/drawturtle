{
 "cells": [
  {
   "cell_type": "code",
   "execution_count": 2,
   "metadata": {},
   "outputs": [
    {
     "name": "stdout",
     "output_type": "stream",
     "text": [
      "What's your name?\n",
      "Justin\n"
     ]
    }
   ],
   "source": [
    "tries = 0\n",
    "while True:\n",
    "    name = input(\"What's your name?\\n\")\n",
    "    if name != None and name != \"\":\n",
    "        break\n",
    "    else:\n",
    "        tries += 1\n",
    "    if tries > 10:\n",
    "        break\n",
    "    else:\n",
    "        continue"
   ]
  },
  {
   "cell_type": "code",
   "execution_count": 3,
   "metadata": {},
   "outputs": [
    {
     "name": "stdout",
     "output_type": "stream",
     "text": [
      "hello Justin\n"
     ]
    }
   ],
   "source": [
    "print(\"hello\", name)"
   ]
  },
  {
   "cell_type": "code",
   "execution_count": 4,
   "metadata": {},
   "outputs": [
    {
     "name": "stdout",
     "output_type": "stream",
     "text": [
      "What's your password?\n",
      "········\n"
     ]
    }
   ],
   "source": [
    "from getpass import getpass\n",
    "pw = getpass(\"What's your password?\\n\")"
   ]
  },
  {
   "cell_type": "code",
   "execution_count": 5,
   "metadata": {},
   "outputs": [
    {
     "name": "stdout",
     "output_type": "stream",
     "text": [
      "abc\n"
     ]
    }
   ],
   "source": [
    "print(pw)"
   ]
  },
  {
   "cell_type": "code",
   "execution_count": 6,
   "metadata": {},
   "outputs": [
    {
     "name": "stdout",
     "output_type": "stream",
     "text": [
      "Overwriting raw_input.py\n"
     ]
    }
   ],
   "source": [
    "%%writefile raw_input.py\n",
    "\n",
    "from getpass import getpass\n",
    "name = input(\"What's your name?\\n\")\n",
    "pw = getpass(\"What's your password?\\n\")\n",
    "\n",
    "print(name, pw)"
   ]
  },
  {
   "cell_type": "code",
   "execution_count": 7,
   "metadata": {},
   "outputs": [
    {
     "name": "stdout",
     "output_type": "stream",
     "text": [
      "Overwriting cli_sys.py\n"
     ]
    }
   ],
   "source": [
    "%%writefile cli_sys.py\n",
    "import sys\n",
    "\n",
    "\n",
    "if __name__== \"__main__\":\n",
    "    try:\n",
    "        name = sys.argv[1]\n",
    "    except:\n",
    "        name = input(\"What's your name?\\n\")\n",
    "    from getpass import getpass\n",
    "    pw = getpass(\"What's your password?\\n\")\n",
    "    print(name, pw)"
   ]
  },
  {
   "cell_type": "code",
   "execution_count": 8,
   "metadata": {},
   "outputs": [
    {
     "name": "stdout",
     "output_type": "stream",
     "text": [
      "Overwriting cli_argparse.py\n"
     ]
    }
   ],
   "source": [
    "%%writefile cli_argparse.py\n",
    "import argparse\n",
    "\n",
    "def my_const_fun(*args, **kwargs):\n",
    "    print('const', args, kwargs)\n",
    "    \n",
    "def my_default_fun(*args, **kwargs):\n",
    "    print('default', args, kwargs)\n",
    "\n",
    "if __name__== \"__main__\":\n",
    "    parser = argparse.ArgumentParser()\n",
    "    parser.add_argument(\"integers\", type=int, nargs=\"+\")\n",
    "    parser.add_argument(\"--sum\", dest='accumulate', action='store_const', const=sum, default=max)\n",
    "    parser.add_argument(\"--math\", dest='math_is_fun', action='store_const', const=my_const_fun, default=my_default_fun)\n",
    "    args = parser.parse_args()\n",
    "    print(args.accumulate(args.integers))\n",
    "    # print(args.math_is_fun(args.integers))"
   ]
  },
  {
   "cell_type": "code",
   "execution_count": 9,
   "metadata": {},
   "outputs": [],
   "source": [
    "# !pip install fire"
   ]
  },
  {
   "cell_type": "code",
   "execution_count": 10,
   "metadata": {},
   "outputs": [
    {
     "name": "stdout",
     "output_type": "stream",
     "text": [
      "Overwriting cli_fire.py\n"
     ]
    }
   ],
   "source": [
    "%%writefile cli_fire.py\n",
    "import fire\n",
    "\n",
    "def hello(name='World'):\n",
    "    return f\"Hello {name}\"\n",
    "\n",
    "if __name__ == '__main__':\n",
    "    fire.Fire(hello)"
   ]
  },
  {
   "cell_type": "code",
   "execution_count": 11,
   "metadata": {},
   "outputs": [
    {
     "name": "stdout",
     "output_type": "stream",
     "text": [
      "Overwriting cli_fire_inputs.py\n"
     ]
    }
   ],
   "source": [
    "%%writefile cli_fire_inputs.py\n",
    "from getpass import getpass\n",
    "import fire\n",
    "\n",
    "def login(name=None):   \n",
    "    if name == None:\n",
    "        name = input(\"What's your name?\\n\")\n",
    "    pw = getpass(\"What's your password?\\n\")\n",
    "    return name, pw\n",
    "\n",
    "if __name__ == '__main__':\n",
    "    fire.Fire(login)"
   ]
  },
  {
   "cell_type": "code",
   "execution_count": 15,
   "metadata": {},
   "outputs": [
    {
     "name": "stdout",
     "output_type": "stream",
     "text": [
      "Overwriting cli_fire_pipeline.py\n"
     ]
    }
   ],
   "source": [
    "%%writefile cli_fire_pipeline.py\n",
    "import fire\n",
    "from getpass import getpass\n",
    "\n",
    "\n",
    "class Auth(object):\n",
    "    def login(self, username = None):\n",
    "        if username == None:\n",
    "            username = input(\"Username: \")\n",
    "        if username == None:\n",
    "            print(\"A username is required\")\n",
    "            return\n",
    "        pw = getpass(\"Password: \")\n",
    "        return username, pw\n",
    "\n",
    "def login(username = None):\n",
    "    if username == None:\n",
    "        username = input(\"Username: \")\n",
    "    if username == None:\n",
    "        print(\"A username is required\")\n",
    "        return\n",
    "    pw = getpass(\"Password: \")\n",
    "    return username, pw\n",
    "    \n",
    "\n",
    "def scrape_tag(tag = \"python\", query_filter = \"Votes\", max_pages=50, pagesize=25):\n",
    "    base_url = 'https://stackoverflow.com/questions/tagged/'\n",
    "    datas = []\n",
    "    for p in range(max_pages):\n",
    "        page_num = p + 1\n",
    "        url = f\"{base_url}{tag}?tab={query_filter}&page={page_num}&pagesize={pagesize}\"\n",
    "        datas.append(url)\n",
    "    return datas\n",
    "\n",
    "class Pipeline(object):\n",
    "    def __init__(self):\n",
    "        self.scrape = scrape_tag\n",
    "        self.auth = Auth()\n",
    "        self.login = login\n",
    "\n",
    "if __name__ == '__main__':\n",
    "    fire.Fire(Pipeline)"
   ]
  },
  {
   "cell_type": "markdown",
   "metadata": {},
   "source": [
    "### Bonus"
   ]
  },
  {
   "cell_type": "code",
   "execution_count": 17,
   "metadata": {},
   "outputs": [],
   "source": [
    "import inspect\n",
    "from collections import OrderedDict"
   ]
  },
  {
   "cell_type": "code",
   "execution_count": 26,
   "metadata": {},
   "outputs": [],
   "source": [
    "def rando_fn(abc, df=123):\n",
    "    print(abc, df)"
   ]
  },
  {
   "cell_type": "code",
   "execution_count": 23,
   "metadata": {},
   "outputs": [
    {
     "name": "stdout",
     "output_type": "stream",
     "text": [
      "abc 123\n",
      "abc 123\n"
     ]
    }
   ],
   "source": [
    "rando_fn(\"abc\", \"123\")\n",
    "rando_fn(\"abc\", df=\"123\")"
   ]
  },
  {
   "cell_type": "code",
   "execution_count": 21,
   "metadata": {},
   "outputs": [
    {
     "name": "stdout",
     "output_type": "stream",
     "text": [
      "odict_items([('abc', <Parameter \"abc\">), ('df', <Parameter \"df='123'\">)])\n"
     ]
    }
   ],
   "source": [
    "sig = inspect.signature(rando_fn)\n",
    "print(sig.parameters.items())"
   ]
  },
  {
   "cell_type": "code",
   "execution_count": 24,
   "metadata": {},
   "outputs": [],
   "source": [
    "def get_signature(fn):\n",
    "    params = inspect.signature(fn).parameters\n",
    "    args = []\n",
    "    kwargs = OrderedDict()\n",
    "    for p in params.values():\n",
    "        if p.default is p.empty:\n",
    "            args.append(p.name)\n",
    "        else:\n",
    "            kwargs[p.name] = p.default\n",
    "    return {\"args\": args, \"kwargs\": kwargs}"
   ]
  },
  {
   "cell_type": "code",
   "execution_count": 27,
   "metadata": {},
   "outputs": [
    {
     "data": {
      "text/plain": [
       "{'args': ['abc'], 'kwargs': OrderedDict([('df', 123)])}"
      ]
     },
     "execution_count": 27,
     "metadata": {},
     "output_type": "execute_result"
    }
   ],
   "source": [
    "get_signature(rando_fn)"
   ]
  },
  {
   "cell_type": "code",
   "execution_count": null,
   "metadata": {},
   "outputs": [],
   "source": []
  }
 ],
 "metadata": {
  "kernelspec": {
   "display_name": "Python 3",
   "language": "python",
   "name": "python3"
  },
  "language_info": {
   "codemirror_mode": {
    "name": "ipython",
    "version": 3
   },
   "file_extension": ".py",
   "mimetype": "text/x-python",
   "name": "python",
   "nbconvert_exporter": "python",
   "pygments_lexer": "ipython3",
   "version": "3.8.2"
  }
 },
 "nbformat": 4,
 "nbformat_minor": 4
}
