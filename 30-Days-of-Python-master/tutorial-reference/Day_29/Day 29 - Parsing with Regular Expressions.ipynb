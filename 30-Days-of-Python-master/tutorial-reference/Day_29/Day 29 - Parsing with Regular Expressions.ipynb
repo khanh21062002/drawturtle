{
 "cells": [
  {
   "cell_type": "markdown",
   "metadata": {},
   "source": [
    "Review [this guide](https://www.codingforentrepreneurs.com/blog/python-regular-expressions/) as a reference for this notebook."
   ]
  },
  {
   "cell_type": "markdown",
   "metadata": {},
   "source": [
    "The following are all valid written phone number formats:\n",
    "\n",
    "- +1-555-555-3121\n",
    "- 1-555-555-3121\n",
    "- 555-555-3121\n",
    "- +1(555)-555-3121\n",
    "- +15555553121"
   ]
  },
  {
   "cell_type": "code",
   "execution_count": 1,
   "metadata": {},
   "outputs": [],
   "source": [
    "my_phone_number = \"555-867-5309\""
   ]
  },
  {
   "cell_type": "code",
   "execution_count": 2,
   "metadata": {},
   "outputs": [
    {
     "data": {
      "text/plain": [
       "'5558675309'"
      ]
     },
     "execution_count": 2,
     "metadata": {},
     "output_type": "execute_result"
    }
   ],
   "source": [
    "numbers = []\n",
    "for char in my_phone_number:\n",
    "    number_val = None\n",
    "    try:\n",
    "        number_val = int(char)\n",
    "    except:\n",
    "        pass\n",
    "    if number_val != None:\n",
    "        numbers.append(number_val)\n",
    "\n",
    "numbers_as_str = \"\".join([f\"{x}\" for x in numbers])\n",
    "numbers_as_str"
   ]
  },
  {
   "cell_type": "code",
   "execution_count": 3,
   "metadata": {},
   "outputs": [
    {
     "data": {
      "text/plain": [
       "'5558675309'"
      ]
     },
     "execution_count": 3,
     "metadata": {},
     "output_type": "execute_result"
    }
   ],
   "source": [
    "numbers_as_str2 = my_phone_number.replace(\"-\", \"\")\n",
    "numbers_as_str2"
   ]
  },
  {
   "cell_type": "code",
   "execution_count": 4,
   "metadata": {},
   "outputs": [
    {
     "data": {
      "text/plain": [
       "'5558675309'"
      ]
     },
     "execution_count": 4,
     "metadata": {},
     "output_type": "execute_result"
    }
   ],
   "source": [
    "numbers_as_str3 = \"\".join([f\"{x}\" for x in my_phone_number if x.isdigit()])\n",
    "numbers_as_str3"
   ]
  },
  {
   "cell_type": "code",
   "execution_count": 5,
   "metadata": {},
   "outputs": [
    {
     "data": {
      "text/plain": [
       "['555', '867', '5309']"
      ]
     },
     "execution_count": 5,
     "metadata": {},
     "output_type": "execute_result"
    }
   ],
   "source": [
    "import re\n",
    "pattern = \"\\d+\"\n",
    "re.findall(pattern, my_phone_number)"
   ]
  },
  {
   "cell_type": "code",
   "execution_count": 6,
   "metadata": {},
   "outputs": [
    {
     "data": {
      "text/plain": [
       "['3123123', '3123', '555', '867', '5309', '1', '555', '555', '0007']"
      ]
     },
     "execution_count": 6,
     "metadata": {},
     "output_type": "execute_result"
    }
   ],
   "source": [
    "my_other_phone_numbers = \"Hi there, my home number is 3123123asdfasdf3123 555-867-5309 and my cell number is +1-555-555-0007.\"\n",
    "\n",
    "pattern = \"\\d+\"\n",
    "re.findall(pattern, my_other_phone_numbers)"
   ]
  },
  {
   "cell_type": "code",
   "execution_count": 7,
   "metadata": {},
   "outputs": [
    {
     "data": {
      "text/plain": [
       "['8', '3', '0', '1', '5', '5', '5', '5', '5', '5', '0', '0', '0', '7']"
      ]
     },
     "execution_count": 7,
     "metadata": {},
     "output_type": "execute_result"
    }
   ],
   "source": [
    "meeting_str = \"Hey, give me a call at 8:30 on my cell at +1-555-555-0007.\"\n",
    "\n",
    "pattern = \"\\d\"\n",
    "re.findall(pattern, meeting_str)"
   ]
  },
  {
   "cell_type": "code",
   "execution_count": 8,
   "metadata": {},
   "outputs": [
    {
     "data": {
      "text/plain": [
       "['+1-555-555-0007']"
      ]
     },
     "execution_count": 8,
     "metadata": {},
     "output_type": "execute_result"
    }
   ],
   "source": [
    "meeting_str = \"Hey, give me a call at 8:30 on my cell at +1-555-555-0007 1-555-555-0007.\"\n",
    "\n",
    "pattern = r\"\\+\\d{1}-\\d{3}-\\d{3}-\\d{4}\" # \"\\n\"\n",
    "\n",
    "re.findall(pattern, meeting_str)"
   ]
  },
  {
   "cell_type": "markdown",
   "metadata": {},
   "source": [
    "- `\\+` -> escape the `+` and use it in our pattern.\n",
    "- `\\d` -> matches all digits\n",
    "- `{1}` -> {`n`} -> for n number, let's slice there.\n",
    "- `-` -> is there a dash?\n",
    "\n",
    "\n",
    "- Chunk 1 -> `\\+\\d{1}-`\n",
    "- Chunk 2 -> `\\d{3}-`\n",
    "- Chunk 3 -> `\\d{3}-`\n",
    "- Chunk 4 => `\\d{4}`\n",
    "\n"
   ]
  },
  {
   "cell_type": "code",
   "execution_count": 9,
   "metadata": {},
   "outputs": [
    {
     "data": {
      "text/plain": [
       "['+1-']"
      ]
     },
     "execution_count": 9,
     "metadata": {},
     "output_type": "execute_result"
    }
   ],
   "source": [
    "meeting_str = \"Hey, give me a call at 8:30 on my cell at +1-555-555-0007 1-555-555-0007.\"\n",
    "\n",
    "chunk_1 = r\"\\+\\d{1}-\" # \"\\n\"\n",
    "\n",
    "re.findall(chunk_1, meeting_str)"
   ]
  },
  {
   "cell_type": "code",
   "execution_count": 10,
   "metadata": {},
   "outputs": [
    {
     "data": {
      "text/plain": [
       "['+1-555-555-0007', '1-555-555-0007', '+15555553121']"
      ]
     },
     "execution_count": 10,
     "metadata": {},
     "output_type": "execute_result"
    }
   ],
   "source": [
    "chunk_1 = \"\\+?\" + \"\\d{1}\" + \"-?\"\n",
    "chunk_2 = \"\\d{3}\" + \"-?\"\n",
    "chunk_3 = \"\\d{3}-?\"\n",
    "chunk_4 = \"\\d{4}\"\n",
    "\n",
    "pattern = f\"{chunk_1}{chunk_2}{chunk_3}{chunk_4}\"\n",
    "\n",
    "meeting_str = \"Hey, give me a call at 8:30 on my cell at +1-555-555-0007 1-555-555-0007 +15555553121.\"\n",
    "\n",
    "regex = re.compile(pattern)\n",
    "re.findall(regex, meeting_str)"
   ]
  },
  {
   "cell_type": "code",
   "execution_count": 11,
   "metadata": {},
   "outputs": [
    {
     "data": {
      "text/plain": [
       "['+1(555)-555-3121']"
      ]
     },
     "execution_count": 11,
     "metadata": {},
     "output_type": "execute_result"
    }
   ],
   "source": [
    "phone_number = \"+1(555)-555-3121\"\n",
    "\n",
    "chunk_1 = \"\\+?\" + \"\\d{1}\" + \"-?\"\n",
    "chunk_2 = \"\\(\\d{3}\\)\" + \"-?\"\n",
    "chunk_3 = \"\\d{3}-?\"\n",
    "chunk_4 = \"\\d{4}\"\n",
    "\n",
    "pattern = f\"{chunk_1}{chunk_2}{chunk_3}{chunk_4}\"\n",
    "regex = re.compile(pattern)\n",
    "re.findall(regex, phone_number)"
   ]
  },
  {
   "cell_type": "code",
   "execution_count": 12,
   "metadata": {},
   "outputs": [
    {
     "data": {
      "text/plain": [
       "['+1-555-555-0007', '1-555-555-0007', '+15555553121', '+1(555)-555-3121']"
      ]
     },
     "execution_count": 12,
     "metadata": {},
     "output_type": "execute_result"
    }
   ],
   "source": [
    "meeting_str = \"Hey, give me a call at 8:30 on my cell at +1-555-555-0007 1-555-555-0007 +15555553121 +1(555)-555-3121.\"\n",
    "\n",
    "chunk_1 = \"\\+?\" + \"\\d{1}\" + \"-?\"\n",
    "chunk_2 = \"\\(?\" + \"\\d{3}\" + \"\\)?\" + \"-?\"\n",
    "chunk_3 = \"\\d{3}-?\"\n",
    "chunk_4 = \"\\d{4}\"\n",
    "\n",
    "pattern = f\"{chunk_1}{chunk_2}{chunk_3}{chunk_4}\"\n",
    "regex = re.compile(pattern)\n",
    "re.findall(regex, meeting_str)"
   ]
  },
  {
   "cell_type": "code",
   "execution_count": 13,
   "metadata": {},
   "outputs": [
    {
     "data": {
      "text/plain": [
       "re.compile(r'\\+?\\d{1}-?\\(?\\d{3}\\)?-?\\d{3}-?\\d{4}', re.UNICODE)"
      ]
     },
     "execution_count": 13,
     "metadata": {},
     "output_type": "execute_result"
    }
   ],
   "source": [
    "re.compile(pattern)"
   ]
  },
  {
   "cell_type": "markdown",
   "metadata": {},
   "source": [
    "- `\\d` -> `[0-9]`"
   ]
  },
  {
   "cell_type": "code",
   "execution_count": 14,
   "metadata": {},
   "outputs": [
    {
     "data": {
      "text/plain": [
       "['+1-555-555-0007', '1-555-555-0007', '+15555553121', '+1(555)-555-3121']"
      ]
     },
     "execution_count": 14,
     "metadata": {},
     "output_type": "execute_result"
    }
   ],
   "source": [
    "meeting_str = \"Hey, give me a call at 8:30 on my cell at +1-555-555-0007 1-555-555-0007 +15555553121 +1(555)-555-3121.\"\n",
    "\n",
    "chunk_1 = \"\\+?\" + \"[0-9]{1}\" + \"-?\"\n",
    "chunk_2 = \"\\(?\" + \"[0-9]{3}\" + \"\\)?\" + \"-?\"\n",
    "chunk_3 = \"[0-9]{3}-?\"\n",
    "chunk_4 = \"[0-9]{4}\"\n",
    "\n",
    "pattern = f\"{chunk_1}{chunk_2}{chunk_3}{chunk_4}\"\n",
    "regex = re.compile(pattern)\n",
    "re.findall(regex, meeting_str)"
   ]
  },
  {
   "cell_type": "code",
   "execution_count": 15,
   "metadata": {},
   "outputs": [
    {
     "data": {
      "text/plain": [
       "re.compile(r'\\+?[0-9]{1}-?\\(?[0-9]{3}\\)?-?[0-9]{3}-?[0-9]{4}', re.UNICODE)"
      ]
     },
     "execution_count": 15,
     "metadata": {},
     "output_type": "execute_result"
    }
   ],
   "source": [
    "re.compile(pattern)"
   ]
  },
  {
   "cell_type": "code",
   "execution_count": 21,
   "metadata": {},
   "outputs": [
    {
     "data": {
      "text/plain": [
       "[]"
      ]
     },
     "execution_count": 21,
     "metadata": {},
     "output_type": "execute_result"
    }
   ],
   "source": [
    "meeting_str = \"Hey, give me a call at 8:30 on my cell at +1-255-555-0007 1-555-555-0007 +15555553121 +1(555)-555-3121.\"\n",
    "\n",
    "chunk_1 = \"\\+?\" + \"\\d{1}\" + \"-?\"\n",
    "# chunk_2 = \"\\(?\" + \"[13579]{3}\" + \"\\)?\" + \"-?\"\n",
    "chunk_2 = \"\\(?\" + \"[1-4]{3}\" + \"\\)?\" + \"-?\"\n",
    "chunk_3 = \"\\d{3}-?\"\n",
    "chunk_4 = \"\\d{4}\"\n",
    "\n",
    "pattern = f\"{chunk_1}{chunk_2}{chunk_3}{chunk_4}\"\n",
    "regex = re.compile(pattern)\n",
    "re.findall(regex, meeting_str)"
   ]
  },
  {
   "cell_type": "code",
   "execution_count": 22,
   "metadata": {},
   "outputs": [
    {
     "data": {
      "text/plain": [
       "['+1-255-555-0007']"
      ]
     },
     "execution_count": 22,
     "metadata": {},
     "output_type": "execute_result"
    }
   ],
   "source": [
    "meeting_str = \"Hey, give me a call at 8:30 on my cell at +1-255-555-0007 1-555-555-0007 +15555553121 +1(555)-555-3121.\"\n",
    "\n",
    "chunk_1 = \"\\+?\" + \"\\d{1}\" + \"-?\"\n",
    "# chunk_2 = \"\\(?\" + \"[13579]{3}\" + \"\\)?\" + \"-?\"\n",
    "chunk_2 = \"\\(?\" + \"[0-2]{1}\" + \"[0-9]{2}\" + \"\\)?\" + \"-?\"\n",
    "chunk_3 = \"\\d{3}-?\"\n",
    "chunk_4 = \"\\d{4}\"\n",
    "\n",
    "pattern = f\"{chunk_1}{chunk_2}{chunk_3}{chunk_4}\"\n",
    "regex = re.compile(pattern)\n",
    "re.findall(regex, meeting_str)"
   ]
  },
  {
   "cell_type": "code",
   "execution_count": 23,
   "metadata": {},
   "outputs": [
    {
     "data": {
      "text/plain": [
       "re.compile(r'\\+?\\d{1}-?\\(?[0-2]{1}[0-9]{2}\\)?-?\\d{3}-?\\d{4}', re.UNICODE)"
      ]
     },
     "execution_count": 23,
     "metadata": {},
     "output_type": "execute_result"
    }
   ],
   "source": [
    "re.compile(pattern)"
   ]
  },
  {
   "cell_type": "code",
   "execution_count": 31,
   "metadata": {},
   "outputs": [
    {
     "data": {
      "text/plain": [
       "['+1-213-555-0007', '1-909-555-0007']"
      ]
     },
     "execution_count": 31,
     "metadata": {},
     "output_type": "execute_result"
    }
   ],
   "source": [
    "meeting_str = \"Hey, give me a call at 8:30 on my cell at +1-213-555-0007 1-909-555-0007 +15555553121 +1(555)-555-3121.\"\n",
    "\n",
    "chunk_1 = \"\\+?\" + \"\\d{1}\" + \"-?\"\n",
    "chunk_2 = \"\\(?\" + \"(?:213|212|909)\" + \"\\)?\" + \"-?\"\n",
    "chunk_3 = \"\\d{3}-?\"\n",
    "chunk_4 = \"\\d{4}\"\n",
    "\n",
    "pattern = f\"{chunk_1}{chunk_2}{chunk_3}{chunk_4}\"\n",
    "regex = re.compile(pattern)\n",
    "re.findall(regex, meeting_str)"
   ]
  },
  {
   "cell_type": "code",
   "execution_count": 38,
   "metadata": {},
   "outputs": [
    {
     "data": {
      "text/plain": [
       "['+1-213-555-0007', '1-909-555-0007']"
      ]
     },
     "execution_count": 38,
     "metadata": {},
     "output_type": "execute_result"
    }
   ],
   "source": [
    "meeting_str = \"Hey, give me a call at 8:30 on my cell at +1-213-555-0007 1-909-555-0007 +15555553121 +1(555)-555-3121.\"\n",
    "\n",
    "chunk_1 = \"\\+?\" + \"\\d{1}\" + \"-?\"\n",
    "chunk_2 = \"\\(?\" + \"(?:2|3|9)\" + \"\\d{2}\" + \"\\)?\" + \"-?\"\n",
    "chunk_3 = \"\\d{3}-?\"\n",
    "chunk_4 = \"\\d{4}\"\n",
    "\n",
    "pattern = f\"{chunk_1}{chunk_2}{chunk_3}{chunk_4}\"\n",
    "regex = re.compile(pattern)\n",
    "re.findall(regex, meeting_str)"
   ]
  },
  {
   "cell_type": "markdown",
   "metadata": {},
   "source": [
    "## Groups\n",
    "We regex, we can group parts of a pattern so they are easier to identify. A phone number is identified as:\n",
    "\n",
    "```\n",
    "<country-code>-<area-code>-<exchange-code>-<line-number>\n",
    "```\n",
    "\n",
    "This represents:\n",
    "\n",
    "```\n",
    "1-212-555-5123\n",
    "```\n",
    "- `1` is the country code\n",
    "- `212` is the area code\n",
    "- `555` is the exchange code\n",
    "- `5123` is the line number"
   ]
  },
  {
   "cell_type": "code",
   "execution_count": 40,
   "metadata": {},
   "outputs": [
    {
     "name": "stdout",
     "output_type": "stream",
     "text": [
      "example ['1-212-555-5123']\n"
     ]
    }
   ],
   "source": [
    "chunk_1 = \"\\d{1}-?\"\n",
    "chunk_2 = \"\\d{3}-?\"\n",
    "chunk_3 = \"\\d{3}-?\"\n",
    "chunk_4 = \"\\d{4}\"\n",
    "\n",
    "\n",
    "example = \"1-212-555-5123\"\n",
    "pattern = f\"{chunk_1}{chunk_2}{chunk_3}{chunk_4}\"\n",
    "\n",
    "print('example', re.compile(pattern).findall(example))"
   ]
  },
  {
   "cell_type": "code",
   "execution_count": 51,
   "metadata": {},
   "outputs": [
    {
     "name": "stdout",
     "output_type": "stream",
     "text": [
      "group 1-212-555-5123\n",
      "groups ('1-', '212-', '555-', '5123')\n",
      "5123\n"
     ]
    }
   ],
   "source": [
    "group_1 = \"(\\+?\\d{1}-?)\"\n",
    "group_2 = \"(\\d{3}-?)\"\n",
    "group_3 = \"(\\d{3}-?)\"\n",
    "group_4 = \"(\\d{4})\"\n",
    "\n",
    "\n",
    "example = \"1-212-555-5123 1-212-555-5123\"\n",
    "grouped_pattern = f\"{group_1}{group_2}{group_3}{group_4}\"\n",
    "\n",
    "matched = re.compile(grouped_pattern).match(example)\n",
    "if matched:\n",
    "    print('group', matched.group())\n",
    "    print('groups', matched.groups())\n",
    "    print(matched) # -> [entire_group, n, n+1] # n = number of groups\n",
    "\n",
    "# print('example', re.compile(grouped_pattern).findall(example))"
   ]
  },
  {
   "cell_type": "code",
   "execution_count": 54,
   "metadata": {},
   "outputs": [
    {
     "name": "stdout",
     "output_type": "stream",
     "text": [
      "country_code 1\n",
      "area_code 212\n",
      "exchange_code 555\n",
      "line_number 5123\n"
     ]
    }
   ],
   "source": [
    "group_1 = \"(\\d{1})-?\"\n",
    "group_2 = \"(\\d{3})-?\"\n",
    "group_3 = \"(\\d{3})-?\"\n",
    "group_4 = \"(\\d{4})\"\n",
    "\n",
    "\n",
    "example = \"1-212-555-5123\"\n",
    "grouped_pattern = f\"{group_1}{group_2}{group_3}{group_4}\"\n",
    "\n",
    "matched = re.compile(grouped_pattern).match(example)\n",
    "country_code = matched.group(1)\n",
    "print('country_code', country_code)\n",
    "\n",
    "area_code = matched.group(2)\n",
    "print('area_code', area_code)\n",
    "\n",
    "exchange_code = matched.group(3)\n",
    "print('exchange_code', exchange_code)\n",
    "\n",
    "line_number = matched.group(4)\n",
    "print('line_number', line_number)"
   ]
  },
  {
   "cell_type": "markdown",
   "metadata": {},
   "source": [
    "### Named Groups"
   ]
  },
  {
   "cell_type": "code",
   "execution_count": 63,
   "metadata": {},
   "outputs": [
    {
     "name": "stdout",
     "output_type": "stream",
     "text": [
      "+1-(212)-555-5123\n",
      "{'country_code': '1', 'region_code': '212', 'exchange_code': '555', 'line_number': '5123'}\n",
      "+1-(212)-555-5123\n",
      "{'country_code': '1', 'region_code': '212', 'exchange_code': '555', 'line_number': '5123'}\n",
      "+1-(212)-555-5123\n",
      "{'country_code': '1', 'region_code': '212', 'exchange_code': '555', 'line_number': '5123'}\n",
      "+1-(212)-555-5123\n",
      "{'country_code': '1', 'region_code': '212', 'exchange_code': '555', 'line_number': '5123'}\n",
      "+1-(212)-555-5123\n",
      "{'country_code': '1', 'region_code': '212', 'exchange_code': '555', 'line_number': '5123'}\n"
     ]
    }
   ],
   "source": [
    "chunk_1 = \"\\+?-?\" + \"(?P<country_code>\\d{1})\" + \"-?\"\n",
    "chunk_2 = \"\\(\" + \"(?P<region_code>\\d{3})\" \"\\)\" + \"-?\"\n",
    "chunk_3 = \"(?P<exchange_code>\\d{3})-?\"\n",
    "chunk_4 = \"(?P<line_number>\\d{4})\"\n",
    "\n",
    "\n",
    "example = \"+1-(212)-555-5123 +1-(212)-555-5123 +1-(212)-555-5123 +1-(212)-555-5123 +1-(212)-555-5123\"\n",
    "pattern = f\"{chunk_1}{chunk_2}{chunk_3}{chunk_4}\"\n",
    "\n",
    "for m in re.compile(pattern).finditer(example):\n",
    "    print(m.group(0))\n",
    "    print(m.groupdict())"
   ]
  },
  {
   "cell_type": "code",
   "execution_count": 64,
   "metadata": {},
   "outputs": [
    {
     "name": "stdout",
     "output_type": "stream",
     "text": [
      "1-212-555-5123\n",
      "{}\n",
      "1-212-555-5123\n",
      "{}\n"
     ]
    }
   ],
   "source": [
    "group_1 = \"(\\+?\\d{1}-?)\"\n",
    "group_2 = \"(\\d{3}-?)\"\n",
    "group_3 = \"(\\d{3}-?)\"\n",
    "group_4 = \"(\\d{4})\"\n",
    "\n",
    "\n",
    "example = \"1-212-555-5123 1-212-555-5123\"\n",
    "grouped_pattern = f\"{group_1}{group_2}{group_3}{group_4}\"\n",
    "for m in re.compile(grouped_pattern).finditer(example):\n",
    "    print(m.group(0))\n",
    "    print(m.groupdict())"
   ]
  },
  {
   "cell_type": "code",
   "execution_count": 68,
   "metadata": {},
   "outputs": [
    {
     "name": "stdout",
     "output_type": "stream",
     "text": [
      "{'country_code': '1', 'region_code': '212', 'exchange_code': '555', 'line_number': '5123', 'full_number': '+1-(212)-555-5123'}\n",
      "{'country_code': '1', 'region_code': '212', 'exchange_code': '555', 'line_number': '5123', 'full_number': '+1-(212)-555-5123'}\n",
      "{'country_code': '1', 'region_code': '212', 'exchange_code': '555', 'line_number': '5123', 'full_number': '+1-(212)-555-5123'}\n",
      "{'country_code': '1', 'region_code': '212', 'exchange_code': '555', 'line_number': '5123', 'full_number': '+1-(212)-555-5123'}\n",
      "{'country_code': '1', 'region_code': '212', 'exchange_code': '555', 'line_number': '5123', 'full_number': '+1-(212)-555-5123'}\n"
     ]
    }
   ],
   "source": [
    "chunk_1 = \"\\+?-?\" + \"(?P<country_code>\\d{1})\" + \"-?\"\n",
    "chunk_2 = \"\\(\" + \"(?P<region_code>\\d{3})\" \"\\)\" + \"-?\"\n",
    "chunk_3 = \"(?P<exchange_code>\\d{3})-?\"\n",
    "chunk_4 = \"(?P<line_number>\\d{4})\"\n",
    "\n",
    "\n",
    "example = \"+1-(212)-555-5123 +1-(212)-555-5123 +1-(212)-555-5123 +1-(212)-555-5123 +1-(212)-555-5123\"\n",
    "pattern = f\"{chunk_1}{chunk_2}{chunk_3}{chunk_4}\"\n",
    "\n",
    "datas = []\n",
    "\n",
    "for m in re.compile(pattern).finditer(example):\n",
    "#     print(m.group(0))\n",
    "    # print(m.groupdict())\n",
    "    data = {**m.groupdict()}\n",
    "    full_number = m.group(0)\n",
    "    data['full_number'] = full_number\n",
    "    print(data)\n",
    "    datas.append(data)"
   ]
  },
  {
   "cell_type": "code",
   "execution_count": null,
   "metadata": {},
   "outputs": [],
   "source": [
    "# pd.DataFrame(datas)"
   ]
  },
  {
   "cell_type": "markdown",
   "metadata": {},
   "source": [
    "### What about letters?"
   ]
  },
  {
   "cell_type": "code",
   "execution_count": 77,
   "metadata": {},
   "outputs": [
    {
     "data": {
      "text/plain": [
       "['Hello',\n",
       " 'world',\n",
       " 'I',\n",
       " 'have',\n",
       " 'a',\n",
       " 'score',\n",
       " 'of',\n",
       " 'How',\n",
       " 'cool',\n",
       " 'is',\n",
       " 'that']"
      ]
     },
     "execution_count": 77,
     "metadata": {},
     "output_type": "execute_result"
    }
   ],
   "source": [
    "my_text = \"Hello world. I have a score of 100/100. How cool is that?\"\n",
    "\n",
    "pattern = \"[a-zA-Z]+\"\n",
    "\n",
    "re.findall(pattern, my_text)"
   ]
  },
  {
   "cell_type": "code",
   "execution_count": 79,
   "metadata": {},
   "outputs": [
    {
     "data": {
      "text/plain": [
       "['Hello',\n",
       " 'world',\n",
       " 'I',\n",
       " 'have',\n",
       " 'a',\n",
       " 'score',\n",
       " 'of',\n",
       " '100',\n",
       " '100',\n",
       " 'How',\n",
       " 'cool',\n",
       " 'is',\n",
       " 'that']"
      ]
     },
     "execution_count": 79,
     "metadata": {},
     "output_type": "execute_result"
    }
   ],
   "source": [
    "my_text = \"Hello world. I have a score of 100/100. How cool is that?\"\n",
    "\n",
    "pattern = \"\\w+\"\n",
    "\n",
    "re.findall(pattern, my_text)"
   ]
  },
  {
   "cell_type": "code",
   "execution_count": 84,
   "metadata": {},
   "outputs": [
    {
     "data": {
      "text/plain": [
       "'Hello world. I have a score of 100100. How cool is that'"
      ]
     },
     "execution_count": 84,
     "metadata": {},
     "output_type": "execute_result"
    }
   ],
   "source": [
    "my_text = \"Hello world. I have a score of 100/100. How cool is that?\"\n",
    "\n",
    "pattern =  \"[0-9a-zA-Z .]\"\n",
    "\n",
    "\"\".join(re.findall(pattern, my_text))"
   ]
  },
  {
   "cell_type": "code",
   "execution_count": 105,
   "metadata": {},
   "outputs": [
    {
     "name": "stdout",
     "output_type": "stream",
     "text": [
      "Hello world. I have a score of 100/100. How cool is that? \\backslash\n"
     ]
    }
   ],
   "source": [
    "my_text = \"Hello world. I have a score of 100/100. How cool is that? \\\\backslash\"\n",
    "\n",
    "pattern =  r\"[0-9a-zA-Z .\\/\\\\\\?]\"\n",
    "\n",
    "print(\"\".join(re.findall(pattern, my_text)))"
   ]
  },
  {
   "cell_type": "markdown",
   "metadata": {},
   "source": [
    "\n",
    "## Metacharacters\n",
    "\n",
    "Here's a few metacharacters that you can use:\n",
    "\n",
    "- `^` - the start of a string\n",
    "- `[^0-9]` This matches everything except `[0-9]` because of `^`; `[^a-z]` matches anything that's not a lowercase number.\n",
    "- `$` - the end of a string\n",
    "- `+` - if 1 or more happens\n",
    "- `*` - if 0 or more happens\n",
    "- `?` - makes the value before `?` optional (as discussed above)\n",
    "- `|` - the or operator (from above as well)"
   ]
  },
  {
   "cell_type": "code",
   "execution_count": 112,
   "metadata": {},
   "outputs": [
    {
     "name": "stdout",
     "output_type": "stream",
     "text": [
      "['A']\n",
      "['O']\n"
     ]
    }
   ],
   "source": [
    "pattern = r\"^[A-Z]\" # re_path -> url -> parse urls\n",
    "print(re.findall(pattern, \"Another one here\"))\n",
    "print(re.findall(pattern, \"yet another. One here\"))"
   ]
  },
  {
   "cell_type": "code",
   "execution_count": 120,
   "metadata": {},
   "outputs": [
    {
     "data": {
      "text/plain": [
       "['@', '-', '.', '*', ':', '&', ',', '#']"
      ]
     },
     "execution_count": 120,
     "metadata": {},
     "output_type": "execute_result"
    }
   ],
   "source": [
    "pattern = r\"[^0-9a-zA-Z ]\"\n",
    "long_example =  \"Hi there, my home number *&*#*&@# : is 1-555-867-5309 and my cell number is 1-555-555-0007.\"\n",
    "\n",
    "list(set(re.findall(pattern, long_example)))"
   ]
  },
  {
   "cell_type": "code",
   "execution_count": 126,
   "metadata": {},
   "outputs": [
    {
     "data": {
      "text/plain": [
       "[':$']"
      ]
     },
     "execution_count": 126,
     "metadata": {},
     "output_type": "execute_result"
    }
   ],
   "source": [
    "pattern = \"[^0-9a-zA-Z]\\$\"\n",
    "long_example =  \"Hi there, my home number :$ *&*#*&@# : is 1-555-867-5309 and my cell number is 1-555-555-0007?\"\n",
    "\n",
    "\n",
    "re.findall(pattern, long_example)"
   ]
  },
  {
   "cell_type": "code",
   "execution_count": 127,
   "metadata": {},
   "outputs": [],
   "source": [
    "pattern = \"(?:abc|123)\""
   ]
  },
  {
   "cell_type": "code",
   "execution_count": 132,
   "metadata": {},
   "outputs": [
    {
     "data": {
      "text/plain": [
       "['This', 'is', 'going', 'to', 'work']"
      ]
     },
     "execution_count": 132,
     "metadata": {},
     "output_type": "execute_result"
    }
   ],
   "source": [
    "pattern = \"\\w+\" # [0-9a-zA-Z]+\n",
    "example = \"This is going to work!\"\n",
    "re.findall(pattern, example)\n"
   ]
  },
  {
   "cell_type": "code",
   "execution_count": 133,
   "metadata": {},
   "outputs": [
    {
     "data": {
      "text/plain": [
       "['T',\n",
       " 'h',\n",
       " 'i',\n",
       " 's',\n",
       " 'i',\n",
       " 's',\n",
       " 'g',\n",
       " 'o',\n",
       " 'i',\n",
       " 'n',\n",
       " 'g',\n",
       " 't',\n",
       " 'o',\n",
       " 'w',\n",
       " 'o',\n",
       " 'r',\n",
       " 'k']"
      ]
     },
     "execution_count": 133,
     "metadata": {},
     "output_type": "execute_result"
    }
   ],
   "source": [
    "pattern = \"\\w\" # [0-9a-zA-Z]+\n",
    "example = \"This is going to work!\"\n",
    "re.findall(pattern, example)"
   ]
  },
  {
   "cell_type": "code",
   "execution_count": 139,
   "metadata": {},
   "outputs": [
    {
     "data": {
      "text/plain": [
       "['AAA AA ', '', '', '', ' ', '', '', '', '']"
      ]
     },
     "execution_count": 139,
     "metadata": {},
     "output_type": "execute_result"
    }
   ],
   "source": [
    "pattern = \"[ABc ]*\" # [0-9a-zA-Z]+\n",
    "example = \"AAA AA bbb CCC\"\n",
    "re.findall(pattern, example)"
   ]
  },
  {
   "cell_type": "markdown",
   "metadata": {},
   "source": [
    "- `\\d`\n",
    "- `\\D` -> `[^0-9]`\n",
    "- `\\s` -> whitespace character\n",
    "- `\\S` - nonwhitespace\n",
    "- `\\w` -> characters `[0-9a-zA-Z]`\n",
    "- `\\W` -> characters `[^0-9a-zA-Z]`"
   ]
  },
  {
   "cell_type": "code",
   "execution_count": null,
   "metadata": {},
   "outputs": [],
   "source": []
  }
 ],
 "metadata": {
  "kernelspec": {
   "display_name": "Python 3",
   "language": "python",
   "name": "python3"
  },
  "language_info": {
   "codemirror_mode": {
    "name": "ipython",
    "version": 3
   },
   "file_extension": ".py",
   "mimetype": "text/x-python",
   "name": "python",
   "nbconvert_exporter": "python",
   "pygments_lexer": "ipython3",
   "version": "3.8.5"
  }
 },
 "nbformat": 4,
 "nbformat_minor": 4
}
