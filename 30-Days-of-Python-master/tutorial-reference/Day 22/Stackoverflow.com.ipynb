{
 "cells": [
  {
   "cell_type": "code",
   "execution_count": 79,
   "metadata": {},
   "outputs": [],
   "source": [
    "# !pip install requests-html requests pandas"
   ]
  },
  {
   "cell_type": "code",
   "execution_count": 78,
   "metadata": {},
   "outputs": [],
   "source": [
    "import requests\n",
    "from requests_html import HTML\n",
    "import time\n",
    "import pandas as pd"
   ]
  },
  {
   "cell_type": "code",
   "execution_count": 4,
   "metadata": {},
   "outputs": [
    {
     "data": {
      "text/plain": [
       "'https://stackoverflow.com/questions/tagged/python?tab=Votes'"
      ]
     },
     "execution_count": 4,
     "metadata": {},
     "output_type": "execute_result"
    }
   ],
   "source": [
    "base_url = 'https://stackoverflow.com/questions/tagged/'\n",
    "tag = \"python\"\n",
    "query_filter = \"Votes\"\n",
    "url = f\"{base_url}{tag}?tab={query_filter}\"\n",
    "url"
   ]
  },
  {
   "cell_type": "code",
   "execution_count": 7,
   "metadata": {},
   "outputs": [],
   "source": [
    "r = requests.get(url)\n",
    "html_str = r.text\n",
    "html = HTML(html=html_str)"
   ]
  },
  {
   "cell_type": "code",
   "execution_count": 8,
   "metadata": {},
   "outputs": [],
   "source": [
    "#  = HTML(html=html_str)"
   ]
  },
  {
   "cell_type": "code",
   "execution_count": 9,
   "metadata": {},
   "outputs": [
    {
     "name": "stdout",
     "output_type": "stream",
     "text": [
      "[<Element 'div' class=('question-summary',) id='question-summary-231767'>, <Element 'div' class=('question-summary',) id='question-summary-419163'>, <Element 'div' class=('question-summary',) id='question-summary-394809'>, <Element 'div' class=('question-summary',) id='question-summary-100003'>, <Element 'div' class=('question-summary',) id='question-summary-82831'>, <Element 'div' class=('question-summary',) id='question-summary-89228'>, <Element 'div' class=('question-summary',) id='question-summary-38987'>, <Element 'div' class=('question-summary',) id='question-summary-273192'>, <Element 'div' class=('question-summary',) id='question-summary-522563'>, <Element 'div' class=('question-summary',) id='question-summary-136097'>, <Element 'div' class=('question-summary',) id='question-summary-3437059'>, <Element 'div' class=('question-summary',) id='question-summary-3207219'>, <Element 'div' class=('question-summary',) id='question-summary-952914'>, <Element 'div' class=('question-summary',) id='question-summary-613183'>, <Element 'div' class=('question-summary',) id='question-summary-509211'>, <Element 'div' class=('question-summary',) id='question-summary-176918'>, <Element 'div' class=('question-summary',) id='question-summary-53513'>, <Element 'div' class=('question-summary',) id='question-summary-3294889'>, <Element 'div' class=('question-summary',) id='question-summary-423379'>, <Element 'div' class=('question-summary',) id='question-summary-252703'>, <Element 'div' class=('question-summary',) id='question-summary-415511'>, <Element 'div' class=('question-summary',) id='question-summary-6470428'>, <Element 'div' class=('question-summary',) id='question-summary-739654'>, <Element 'div' class=('question-summary',) id='question-summary-510348'>, <Element 'div' class=('question-summary',) id='question-summary-1436703'>, <Element 'div' class=('question-summary',) id='question-summary-1602934'>, <Element 'div' class=('question-summary',) id='question-summary-1024847'>, <Element 'div' class=('question-summary',) id='question-summary-986006'>, <Element 'div' class=('question-summary',) id='question-summary-1132941'>, <Element 'div' class=('question-summary',) id='question-summary-2612802'>, <Element 'div' class=('question-summary',) id='question-summary-1720421'>, <Element 'div' class=('question-summary',) id='question-summary-576169'>, <Element 'div' class=('question-summary',) id='question-summary-4750806'>, <Element 'div' class=('question-summary',) id='question-summary-123198'>, <Element 'div' class=('question-summary',) id='question-summary-36901'>, <Element 'div' class=('question-summary',) id='question-summary-448271'>, <Element 'div' class=('question-summary',) id='question-summary-606191'>, <Element 'div' class=('question-summary',) id='question-summary-2052390'>, <Element 'div' class=('question-summary',) id='question-summary-312443'>, <Element 'div' class=('question-summary',) id='question-summary-379906'>, <Element 'div' class=('question-summary',) id='question-summary-5137497'>, <Element 'div' class=('question-summary',) id='question-summary-466345'>, <Element 'div' class=('question-summary',) id='question-summary-6996603'>, <Element 'div' class=('question-summary',) id='question-summary-663171'>, <Element 'div' class=('question-summary',) id='question-summary-287871'>, <Element 'div' class=('question-summary',) id='question-summary-30081275'>, <Element 'div' class=('question-summary',) id='question-summary-4906977'>, <Element 'div' class=('question-summary',) id='question-summary-332289'>, <Element 'div' class=('question-summary',) id='question-summary-101754'>, <Element 'div' class=('question-summary',) id='question-summary-930397'>]\n"
     ]
    }
   ],
   "source": [
    "question_summaries = html.find(\".question-summary\") # selenium\n",
    "print(question_summaries)"
   ]
  },
  {
   "cell_type": "code",
   "execution_count": 14,
   "metadata": {},
   "outputs": [
    {
     "data": {
      "text/plain": [
       "\"10289\\nvotes\\n41answers\\n2.3m views\\nWhat does the “yield” keyword do?\\nWhat is the use of the yield keyword in Python, and what does it do? For example, I'm trying to understand this code1: def _get_child_candidates(self, distance, min_dist, max_dist): if self....\\npython iterator generator yield coroutine\\nasked Oct 23 '08 at 22:21\\nAlex. S.\\n117k1515 gold badges4949 silver badges6161 bronze badges\""
      ]
     },
     "execution_count": 14,
     "metadata": {},
     "output_type": "execute_result"
    }
   ],
   "source": [
    "question_summaries[0].text"
   ]
  },
  {
   "cell_type": "code",
   "execution_count": 33,
   "metadata": {},
   "outputs": [],
   "source": [
    "columns = ['votes', 'vote_title', 'num_answers', 'views', 'question', 'short_desc', 'tags', 'date', 'user', 'user_details']"
   ]
  },
  {
   "cell_type": "code",
   "execution_count": 37,
   "metadata": {},
   "outputs": [],
   "source": [
    "# this_row = list(question_summaries[0].text.split(\"\\n\"))\n",
    "# this_row"
   ]
  },
  {
   "cell_type": "code",
   "execution_count": 36,
   "metadata": {},
   "outputs": [],
   "source": [
    "# len(this_row) == len(columns)"
   ]
  },
  {
   "cell_type": "code",
   "execution_count": 34,
   "metadata": {},
   "outputs": [],
   "source": [
    "# row_data = dict(zip(columns, this_row))\n",
    "# row_data"
   ]
  },
  {
   "cell_type": "code",
   "execution_count": 35,
   "metadata": {},
   "outputs": [],
   "source": [
    "# for column, row_v in zip(columns, this_row):\n",
    "#     print(column, row_v)"
   ]
  },
  {
   "cell_type": "code",
   "execution_count": 52,
   "metadata": {},
   "outputs": [
    {
     "data": {
      "text/plain": [
       "'10289'"
      ]
     },
     "execution_count": 52,
     "metadata": {},
     "output_type": "execute_result"
    }
   ],
   "source": [
    "key_names = ['question', 'votes', 'tags']\n",
    "classes_needed = ['.question-hyperlink', '.vote', '.tags']\n",
    "this_question_element = question_summaries[0]\n",
    "this_question_element.find('.question-hyperlink', first=True).text\n",
    "this_question_element.find('.vote', first=True).text.replace('\\nvotes', '')"
   ]
  },
  {
   "cell_type": "code",
   "execution_count": 56,
   "metadata": {},
   "outputs": [],
   "source": [
    "def clean_scraped_data(text, keyname=None):\n",
    "    if keyname == 'votes':\n",
    "        return text.replace('\\nvotes', '')\n",
    "    return text"
   ]
  },
  {
   "cell_type": "code",
   "execution_count": 57,
   "metadata": {},
   "outputs": [],
   "source": [
    "datas = []\n",
    "\n",
    "for q_el in question_summaries:\n",
    "    question_data = {}\n",
    "    for i, _class in enumerate(classes_needed):\n",
    "        sub_el = q_el.find(_class, first=True)\n",
    "        keyname = key_names[i]\n",
    "        question_data[keyname] = clean_scraped_data(sub_el.text, keyname=keyname)\n",
    "    datas.append(question_data)"
   ]
  },
  {
   "cell_type": "code",
   "execution_count": 58,
   "metadata": {},
   "outputs": [
    {
     "data": {
      "text/plain": [
       "{'question': 'What does the “yield” keyword do?',\n",
       " 'votes': '10289',\n",
       " 'tags': 'python iterator generator yield coroutine'}"
      ]
     },
     "execution_count": 58,
     "metadata": {},
     "output_type": "execute_result"
    }
   ],
   "source": [
    "# datas[0]"
   ]
  },
  {
   "cell_type": "code",
   "execution_count": 63,
   "metadata": {},
   "outputs": [],
   "source": [
    "def parse_tagged_page(html):\n",
    "    question_summaries = html.find(\".question-summary\")\n",
    "    key_names = ['question', 'votes', 'tags']\n",
    "    classes_needed = ['.question-hyperlink', '.vote', '.tags']\n",
    "    datas = []\n",
    "    for q_el in question_summaries:\n",
    "        question_data = {}\n",
    "        for i, _class in enumerate(classes_needed):\n",
    "            sub_el = q_el.find(_class, first=True)\n",
    "            keyname = key_names[i]\n",
    "            question_data[keyname] = clean_scraped_data(sub_el.text, keyname=keyname)\n",
    "        datas.append(question_data)\n",
    "    return datas"
   ]
  },
  {
   "cell_type": "code",
   "execution_count": 64,
   "metadata": {},
   "outputs": [],
   "source": [
    "def extract_data_from_url(url):\n",
    "    r = requests.get(url)\n",
    "    if r.status_code not in range(200, 299):\n",
    "        return []\n",
    "    html_str = r.text\n",
    "    html = HTML(html=html_str)\n",
    "    datas = parse_tagged_page(html)\n",
    "    return datas"
   ]
  },
  {
   "cell_type": "code",
   "execution_count": 70,
   "metadata": {},
   "outputs": [],
   "source": [
    "def scrape_tag(tag = \"python\", query_filter = \"Votes\", max_pages=50, pagesize=25):\n",
    "    base_url = 'https://stackoverflow.com/questions/tagged/'\n",
    "    datas = []\n",
    "    for p in range(max_pages):\n",
    "        page_num = p + 1\n",
    "        url = f\"{base_url}{tag}?tab={query_filter}&page={page_num}&pagesize={pagesize}\"\n",
    "        datas += extract_data_from_url(url)\n",
    "        time.sleep(1.2)\n",
    "    return datas"
   ]
  },
  {
   "cell_type": "code",
   "execution_count": 72,
   "metadata": {},
   "outputs": [],
   "source": [
    "datas = scrape_tag(tag='python')"
   ]
  },
  {
   "cell_type": "code",
   "execution_count": 76,
   "metadata": {},
   "outputs": [
    {
     "data": {
      "text/plain": [
       "2500"
      ]
     },
     "execution_count": 76,
     "metadata": {},
     "output_type": "execute_result"
    }
   ],
   "source": [
    "len(datas)"
   ]
  },
  {
   "cell_type": "code",
   "execution_count": 80,
   "metadata": {},
   "outputs": [
    {
     "data": {
      "text/html": [
       "<div>\n",
       "<style scoped>\n",
       "    .dataframe tbody tr th:only-of-type {\n",
       "        vertical-align: middle;\n",
       "    }\n",
       "\n",
       "    .dataframe tbody tr th {\n",
       "        vertical-align: top;\n",
       "    }\n",
       "\n",
       "    .dataframe thead th {\n",
       "        text-align: right;\n",
       "    }\n",
       "</style>\n",
       "<table border=\"1\" class=\"dataframe\">\n",
       "  <thead>\n",
       "    <tr style=\"text-align: right;\">\n",
       "      <th></th>\n",
       "      <th>question</th>\n",
       "      <th>votes</th>\n",
       "      <th>tags</th>\n",
       "    </tr>\n",
       "  </thead>\n",
       "  <tbody>\n",
       "    <tr>\n",
       "      <th>0</th>\n",
       "      <td>What does the “yield” keyword do?</td>\n",
       "      <td>10289</td>\n",
       "      <td>python iterator generator yield coroutine</td>\n",
       "    </tr>\n",
       "    <tr>\n",
       "      <th>1</th>\n",
       "      <td>What does if __name__ == “__main__”: do?</td>\n",
       "      <td>6134</td>\n",
       "      <td>python namespaces main python-module idioms</td>\n",
       "    </tr>\n",
       "    <tr>\n",
       "      <th>2</th>\n",
       "      <td>Does Python have a ternary conditional operator?</td>\n",
       "      <td>6104</td>\n",
       "      <td>python operators ternary-operator conditional-...</td>\n",
       "    </tr>\n",
       "    <tr>\n",
       "      <th>3</th>\n",
       "      <td>What are metaclasses in Python?</td>\n",
       "      <td>5752</td>\n",
       "      <td>python oop metaclass python-datamodel</td>\n",
       "    </tr>\n",
       "    <tr>\n",
       "      <th>4</th>\n",
       "      <td>How do I check whether a file exists without e...</td>\n",
       "      <td>5653</td>\n",
       "      <td>python file file-exists</td>\n",
       "    </tr>\n",
       "  </tbody>\n",
       "</table>\n",
       "</div>"
      ],
      "text/plain": [
       "                                            question  votes  \\\n",
       "0                  What does the “yield” keyword do?  10289   \n",
       "1           What does if __name__ == “__main__”: do?   6134   \n",
       "2   Does Python have a ternary conditional operator?   6104   \n",
       "3                    What are metaclasses in Python?   5752   \n",
       "4  How do I check whether a file exists without e...   5653   \n",
       "\n",
       "                                                tags  \n",
       "0          python iterator generator yield coroutine  \n",
       "1        python namespaces main python-module idioms  \n",
       "2  python operators ternary-operator conditional-...  \n",
       "3              python oop metaclass python-datamodel  \n",
       "4                            python file file-exists  "
      ]
     },
     "execution_count": 80,
     "metadata": {},
     "output_type": "execute_result"
    }
   ],
   "source": [
    "df = pd.DataFrame(datas)\n",
    "df.head()"
   ]
  },
  {
   "cell_type": "code",
   "execution_count": 81,
   "metadata": {},
   "outputs": [
    {
     "data": {
      "text/plain": [
       "(2500, 3)"
      ]
     },
     "execution_count": 81,
     "metadata": {},
     "output_type": "execute_result"
    }
   ],
   "source": [
    "df.shape"
   ]
  },
  {
   "cell_type": "code",
   "execution_count": 82,
   "metadata": {},
   "outputs": [],
   "source": [
    "df.to_csv(\"python.csv\", index=False)"
   ]
  },
  {
   "cell_type": "code",
   "execution_count": null,
   "metadata": {},
   "outputs": [],
   "source": [
    "# auto-tagging question bot"
   ]
  }
 ],
 "metadata": {
  "kernelspec": {
   "display_name": "Python 3",
   "language": "python",
   "name": "python3"
  },
  "language_info": {
   "codemirror_mode": {
    "name": "ipython",
    "version": 3
   },
   "file_extension": ".py",
   "mimetype": "text/x-python",
   "name": "python",
   "nbconvert_exporter": "python",
   "pygments_lexer": "ipython3",
   "version": "3.8.2"
  }
 },
 "nbformat": 4,
 "nbformat_minor": 4
}
