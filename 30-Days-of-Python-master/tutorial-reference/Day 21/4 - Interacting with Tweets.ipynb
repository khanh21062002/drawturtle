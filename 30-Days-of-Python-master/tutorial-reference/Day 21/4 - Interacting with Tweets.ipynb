{
 "cells": [
  {
   "cell_type": "code",
   "execution_count": 15,
   "metadata": {},
   "outputs": [],
   "source": [
    "# !pip install pandas"
   ]
  },
  {
   "cell_type": "code",
   "execution_count": 1,
   "metadata": {},
   "outputs": [],
   "source": [
    "import tweepy\n",
    "import webbrowser\n",
    "import time\n",
    "import pandas as pd"
   ]
  },
  {
   "cell_type": "code",
   "execution_count": 2,
   "metadata": {},
   "outputs": [
    {
     "name": "stdout",
     "output_type": "stream",
     "text": [
      "What's the pin value? 2034029\n"
     ]
    },
    {
     "data": {
      "text/plain": [
       "('4730574793-fa9oFomAHt4K4iw5uaWRaG0iw1OxCUu47ieHm5Q',\n",
       " 'fOC4HAcXzr35dl8gZdzZdkC0dBr7l26pOvJv56oqF4yTf')"
      ]
     },
     "execution_count": 2,
     "metadata": {},
     "output_type": "execute_result"
    }
   ],
   "source": [
    "consumer_key = \"82sYf9hQSpGNuc9K8wTVGOqz0\"\n",
    "consumer_secret = \"6tf3Iu3eiaLesTA2yxZPD2Ht7cJxs4Nk8vxBH0ltAPD3enaNGK\"\n",
    "callback_uri = 'oob'\n",
    "auth = tweepy.OAuthHandler(consumer_key, consumer_secret, callback_uri)\n",
    "redirect_url = auth.get_authorization_url()\n",
    "webbrowser.open(redirect_url)\n",
    "user_pint_input = input(\"What's the pin value? \")\n",
    "auth.get_access_token(user_pint_input)"
   ]
  },
  {
   "cell_type": "code",
   "execution_count": 14,
   "metadata": {},
   "outputs": [],
   "source": [
    "api = tweepy.API(auth)"
   ]
  },
  {
   "cell_type": "code",
   "execution_count": 15,
   "metadata": {},
   "outputs": [
    {
     "data": {
      "text/plain": [
       "'joincfe'"
      ]
     },
     "execution_count": 15,
     "metadata": {},
     "output_type": "execute_result"
    }
   ],
   "source": [
    "me = api.me()\n",
    "me.screen_name"
   ]
  },
  {
   "cell_type": "code",
   "execution_count": 24,
   "metadata": {},
   "outputs": [
    {
     "name": "stdout",
     "output_type": "stream",
     "text": [
      "https://twitter.com/code/status/1257764530882568195\n"
     ]
    }
   ],
   "source": [
    "user = api.get_user(\"code\")\n",
    "user_timeline = user.timeline()\n",
    "user_timeline_status_obj= user_timeline[0]\n",
    "status_obj_id = user_timeline_status_obj.id\n",
    "status_obj_screen_name = user_timeline_status_obj.user.screen_name\n",
    "status_obj_url = f\"https://twitter.com/{status_obj_screen_name}/status/{status_obj_id}\"\n",
    "print(status_obj_url)"
   ]
  },
  {
   "cell_type": "code",
   "execution_count": 18,
   "metadata": {},
   "outputs": [
    {
     "data": {
      "text/plain": [
       "'The March release of @code is out! 😃 🙌\\n\\n🆕 New Timeline view, extension pack display, smoother file navigation, Remo… https://t.co/8zepxqWy5e'"
      ]
     },
     "execution_count": 18,
     "metadata": {},
     "output_type": "execute_result"
    }
   ],
   "source": [
    "status_obj = api.get_status(\"1247966976951058433\")\n",
    "status_obj.text"
   ]
  },
  {
   "cell_type": "code",
   "execution_count": 25,
   "metadata": {},
   "outputs": [],
   "source": [
    "# api.retweet(status_obj_id)"
   ]
  },
  {
   "cell_type": "code",
   "execution_count": 28,
   "metadata": {},
   "outputs": [
    {
     "data": {
      "text/plain": [
       "Status(_api=<tweepy.api.API object at 0x7fb7f89a35b0>, _json={'created_at': 'Tue May 05 20:10:06 +0000 2020', 'id': 1257764530882568195, 'id_str': '1257764530882568195', 'text': 'RT @mattbierner: Today\\'s @code setting: debug.toolBarLocation\\n\\nFloating debug controls getting in the way? Just set debug.toolBarLocation:\"…', 'truncated': False, 'entities': {'hashtags': [], 'symbols': [], 'user_mentions': [{'screen_name': 'mattbierner', 'name': 'Matt Bierner', 'id': 21815152, 'id_str': '21815152', 'indices': [3, 15]}, {'screen_name': 'code', 'name': 'Visual Studio Code', 'id': 3167734591, 'id_str': '3167734591', 'indices': [25, 30]}], 'urls': []}, 'source': '<a href=\"https://mobile.twitter.com\" rel=\"nofollow\">Twitter Web App</a>', 'in_reply_to_status_id': None, 'in_reply_to_status_id_str': None, 'in_reply_to_user_id': None, 'in_reply_to_user_id_str': None, 'in_reply_to_screen_name': None, 'user': {'id': 3167734591, 'id_str': '3167734591', 'name': 'Visual Studio Code', 'screen_name': 'code', 'location': 'Redmond, WA, USA', 'description': 'Microsoft Visual Studio Code lets you build and debug modern web and cloud applications. Visual Studio Code is free and available on Linux, macOS, and Windows.', 'url': None, 'entities': {'description': {'urls': []}}, 'protected': False, 'followers_count': 276875, 'friends_count': 111, 'listed_count': 3576, 'created_at': 'Wed Apr 22 16:53:09 +0000 2015', 'favourites_count': 3565, 'utc_offset': None, 'time_zone': None, 'geo_enabled': False, 'verified': True, 'statuses_count': 4746, 'lang': None, 'contributors_enabled': False, 'is_translator': False, 'is_translation_enabled': False, 'profile_background_color': '3B94D9', 'profile_background_image_url': 'http://abs.twimg.com/images/themes/theme10/bg.gif', 'profile_background_image_url_https': 'https://abs.twimg.com/images/themes/theme10/bg.gif', 'profile_background_tile': False, 'profile_image_url': 'http://pbs.twimg.com/profile_images/1169325172811153408/iS7hq4Lw_normal.jpg', 'profile_image_url_https': 'https://pbs.twimg.com/profile_images/1169325172811153408/iS7hq4Lw_normal.jpg', 'profile_banner_url': 'https://pbs.twimg.com/profile_banners/3167734591/1576774347', 'profile_link_color': '3B94D9', 'profile_sidebar_border_color': '65B0DA', 'profile_sidebar_fill_color': '7AC3EE', 'profile_text_color': '3D1957', 'profile_use_background_image': True, 'has_extended_profile': False, 'default_profile': False, 'default_profile_image': False, 'following': True, 'follow_request_sent': False, 'notifications': False, 'translator_type': 'none'}, 'geo': None, 'coordinates': None, 'place': None, 'contributors': None, 'retweeted_status': {'created_at': 'Tue May 05 16:30:00 +0000 2020', 'id': 1257709138882240514, 'id_str': '1257709138882240514', 'text': \"Today's @code setting: debug.toolBarLocation\\n\\nFloating debug controls getting in the way? Just set debug.toolBarLoc… https://t.co/hh7qo0Xdg3\", 'truncated': True, 'entities': {'hashtags': [], 'symbols': [], 'user_mentions': [{'screen_name': 'code', 'name': 'Visual Studio Code', 'id': 3167734591, 'id_str': '3167734591', 'indices': [8, 13]}], 'urls': [{'url': 'https://t.co/hh7qo0Xdg3', 'expanded_url': 'https://twitter.com/i/web/status/1257709138882240514', 'display_url': 'twitter.com/i/web/status/1…', 'indices': [117, 140]}]}, 'source': '<a href=\"https://about.twitter.com/products/tweetdeck\" rel=\"nofollow\">TweetDeck</a>', 'in_reply_to_status_id': None, 'in_reply_to_status_id_str': None, 'in_reply_to_user_id': None, 'in_reply_to_user_id_str': None, 'in_reply_to_screen_name': None, 'user': {'id': 21815152, 'id_str': '21815152', 'name': 'Matt Bierner', 'screen_name': 'mattbierner', 'location': 'Washington, USA', 'description': '', 'url': 'https://t.co/NnCC3iFhHa', 'entities': {'url': {'urls': [{'url': 'https://t.co/NnCC3iFhHa', 'expanded_url': 'https://blog.mattbierner.com', 'display_url': 'blog.mattbierner.com', 'indices': [0, 23]}]}, 'description': {'urls': []}}, 'protected': False, 'followers_count': 4595, 'friends_count': 54, 'listed_count': 74, 'created_at': 'Wed Feb 25 00:05:13 +0000 2009', 'favourites_count': 202, 'utc_offset': None, 'time_zone': None, 'geo_enabled': False, 'verified': False, 'statuses_count': 1755, 'lang': None, 'contributors_enabled': False, 'is_translator': False, 'is_translation_enabled': False, 'profile_background_color': '000000', 'profile_background_image_url': 'http://abs.twimg.com/images/themes/theme1/bg.png', 'profile_background_image_url_https': 'https://abs.twimg.com/images/themes/theme1/bg.png', 'profile_background_tile': False, 'profile_image_url': 'http://pbs.twimg.com/profile_images/796977891900682240/7C9D7Olt_normal.jpg', 'profile_image_url_https': 'https://pbs.twimg.com/profile_images/796977891900682240/7C9D7Olt_normal.jpg', 'profile_banner_url': 'https://pbs.twimg.com/profile_banners/21815152/1498934216', 'profile_link_color': 'ABB8C2', 'profile_sidebar_border_color': '000000', 'profile_sidebar_fill_color': '000000', 'profile_text_color': '000000', 'profile_use_background_image': False, 'has_extended_profile': False, 'default_profile': False, 'default_profile_image': False, 'following': False, 'follow_request_sent': False, 'notifications': False, 'translator_type': 'none'}, 'geo': None, 'coordinates': None, 'place': None, 'contributors': None, 'is_quote_status': False, 'retweet_count': 27, 'favorite_count': 94, 'favorited': False, 'retweeted': False, 'possibly_sensitive': False, 'lang': 'en'}, 'is_quote_status': False, 'retweet_count': 27, 'favorite_count': 0, 'favorited': False, 'retweeted': False, 'lang': 'en'}, created_at=datetime.datetime(2020, 5, 5, 20, 10, 6), id=1257764530882568195, id_str='1257764530882568195', text='RT @mattbierner: Today\\'s @code setting: debug.toolBarLocation\\n\\nFloating debug controls getting in the way? Just set debug.toolBarLocation:\"…', truncated=False, entities={'hashtags': [], 'symbols': [], 'user_mentions': [{'screen_name': 'mattbierner', 'name': 'Matt Bierner', 'id': 21815152, 'id_str': '21815152', 'indices': [3, 15]}, {'screen_name': 'code', 'name': 'Visual Studio Code', 'id': 3167734591, 'id_str': '3167734591', 'indices': [25, 30]}], 'urls': []}, source='Twitter Web App', source_url='https://mobile.twitter.com', in_reply_to_status_id=None, in_reply_to_status_id_str=None, in_reply_to_user_id=None, in_reply_to_user_id_str=None, in_reply_to_screen_name=None, author=User(_api=<tweepy.api.API object at 0x7fb7f89a35b0>, _json={'id': 3167734591, 'id_str': '3167734591', 'name': 'Visual Studio Code', 'screen_name': 'code', 'location': 'Redmond, WA, USA', 'description': 'Microsoft Visual Studio Code lets you build and debug modern web and cloud applications. Visual Studio Code is free and available on Linux, macOS, and Windows.', 'url': None, 'entities': {'description': {'urls': []}}, 'protected': False, 'followers_count': 276875, 'friends_count': 111, 'listed_count': 3576, 'created_at': 'Wed Apr 22 16:53:09 +0000 2015', 'favourites_count': 3565, 'utc_offset': None, 'time_zone': None, 'geo_enabled': False, 'verified': True, 'statuses_count': 4746, 'lang': None, 'contributors_enabled': False, 'is_translator': False, 'is_translation_enabled': False, 'profile_background_color': '3B94D9', 'profile_background_image_url': 'http://abs.twimg.com/images/themes/theme10/bg.gif', 'profile_background_image_url_https': 'https://abs.twimg.com/images/themes/theme10/bg.gif', 'profile_background_tile': False, 'profile_image_url': 'http://pbs.twimg.com/profile_images/1169325172811153408/iS7hq4Lw_normal.jpg', 'profile_image_url_https': 'https://pbs.twimg.com/profile_images/1169325172811153408/iS7hq4Lw_normal.jpg', 'profile_banner_url': 'https://pbs.twimg.com/profile_banners/3167734591/1576774347', 'profile_link_color': '3B94D9', 'profile_sidebar_border_color': '65B0DA', 'profile_sidebar_fill_color': '7AC3EE', 'profile_text_color': '3D1957', 'profile_use_background_image': True, 'has_extended_profile': False, 'default_profile': False, 'default_profile_image': False, 'following': True, 'follow_request_sent': False, 'notifications': False, 'translator_type': 'none'}, id=3167734591, id_str='3167734591', name='Visual Studio Code', screen_name='code', location='Redmond, WA, USA', description='Microsoft Visual Studio Code lets you build and debug modern web and cloud applications. Visual Studio Code is free and available on Linux, macOS, and Windows.', url=None, entities={'description': {'urls': []}}, protected=False, followers_count=276875, friends_count=111, listed_count=3576, created_at=datetime.datetime(2015, 4, 22, 16, 53, 9), favourites_count=3565, utc_offset=None, time_zone=None, geo_enabled=False, verified=True, statuses_count=4746, lang=None, contributors_enabled=False, is_translator=False, is_translation_enabled=False, profile_background_color='3B94D9', profile_background_image_url='http://abs.twimg.com/images/themes/theme10/bg.gif', profile_background_image_url_https='https://abs.twimg.com/images/themes/theme10/bg.gif', profile_background_tile=False, profile_image_url='http://pbs.twimg.com/profile_images/1169325172811153408/iS7hq4Lw_normal.jpg', profile_image_url_https='https://pbs.twimg.com/profile_images/1169325172811153408/iS7hq4Lw_normal.jpg', profile_banner_url='https://pbs.twimg.com/profile_banners/3167734591/1576774347', profile_link_color='3B94D9', profile_sidebar_border_color='65B0DA', profile_sidebar_fill_color='7AC3EE', profile_text_color='3D1957', profile_use_background_image=True, has_extended_profile=False, default_profile=False, default_profile_image=False, following=True, follow_request_sent=False, notifications=False, translator_type='none'), user=User(_api=<tweepy.api.API object at 0x7fb7f89a35b0>, _json={'id': 3167734591, 'id_str': '3167734591', 'name': 'Visual Studio Code', 'screen_name': 'code', 'location': 'Redmond, WA, USA', 'description': 'Microsoft Visual Studio Code lets you build and debug modern web and cloud applications. Visual Studio Code is free and available on Linux, macOS, and Windows.', 'url': None, 'entities': {'description': {'urls': []}}, 'protected': False, 'followers_count': 276875, 'friends_count': 111, 'listed_count': 3576, 'created_at': 'Wed Apr 22 16:53:09 +0000 2015', 'favourites_count': 3565, 'utc_offset': None, 'time_zone': None, 'geo_enabled': False, 'verified': True, 'statuses_count': 4746, 'lang': None, 'contributors_enabled': False, 'is_translator': False, 'is_translation_enabled': False, 'profile_background_color': '3B94D9', 'profile_background_image_url': 'http://abs.twimg.com/images/themes/theme10/bg.gif', 'profile_background_image_url_https': 'https://abs.twimg.com/images/themes/theme10/bg.gif', 'profile_background_tile': False, 'profile_image_url': 'http://pbs.twimg.com/profile_images/1169325172811153408/iS7hq4Lw_normal.jpg', 'profile_image_url_https': 'https://pbs.twimg.com/profile_images/1169325172811153408/iS7hq4Lw_normal.jpg', 'profile_banner_url': 'https://pbs.twimg.com/profile_banners/3167734591/1576774347', 'profile_link_color': '3B94D9', 'profile_sidebar_border_color': '65B0DA', 'profile_sidebar_fill_color': '7AC3EE', 'profile_text_color': '3D1957', 'profile_use_background_image': True, 'has_extended_profile': False, 'default_profile': False, 'default_profile_image': False, 'following': True, 'follow_request_sent': False, 'notifications': False, 'translator_type': 'none'}, id=3167734591, id_str='3167734591', name='Visual Studio Code', screen_name='code', location='Redmond, WA, USA', description='Microsoft Visual Studio Code lets you build and debug modern web and cloud applications. Visual Studio Code is free and available on Linux, macOS, and Windows.', url=None, entities={'description': {'urls': []}}, protected=False, followers_count=276875, friends_count=111, listed_count=3576, created_at=datetime.datetime(2015, 4, 22, 16, 53, 9), favourites_count=3565, utc_offset=None, time_zone=None, geo_enabled=False, verified=True, statuses_count=4746, lang=None, contributors_enabled=False, is_translator=False, is_translation_enabled=False, profile_background_color='3B94D9', profile_background_image_url='http://abs.twimg.com/images/themes/theme10/bg.gif', profile_background_image_url_https='https://abs.twimg.com/images/themes/theme10/bg.gif', profile_background_tile=False, profile_image_url='http://pbs.twimg.com/profile_images/1169325172811153408/iS7hq4Lw_normal.jpg', profile_image_url_https='https://pbs.twimg.com/profile_images/1169325172811153408/iS7hq4Lw_normal.jpg', profile_banner_url='https://pbs.twimg.com/profile_banners/3167734591/1576774347', profile_link_color='3B94D9', profile_sidebar_border_color='65B0DA', profile_sidebar_fill_color='7AC3EE', profile_text_color='3D1957', profile_use_background_image=True, has_extended_profile=False, default_profile=False, default_profile_image=False, following=True, follow_request_sent=False, notifications=False, translator_type='none'), geo=None, coordinates=None, place=None, contributors=None, retweeted_status=Status(_api=<tweepy.api.API object at 0x7fb7f89a35b0>, _json={'created_at': 'Tue May 05 16:30:00 +0000 2020', 'id': 1257709138882240514, 'id_str': '1257709138882240514', 'text': \"Today's @code setting: debug.toolBarLocation\\n\\nFloating debug controls getting in the way? Just set debug.toolBarLoc… https://t.co/hh7qo0Xdg3\", 'truncated': True, 'entities': {'hashtags': [], 'symbols': [], 'user_mentions': [{'screen_name': 'code', 'name': 'Visual Studio Code', 'id': 3167734591, 'id_str': '3167734591', 'indices': [8, 13]}], 'urls': [{'url': 'https://t.co/hh7qo0Xdg3', 'expanded_url': 'https://twitter.com/i/web/status/1257709138882240514', 'display_url': 'twitter.com/i/web/status/1…', 'indices': [117, 140]}]}, 'source': '<a href=\"https://about.twitter.com/products/tweetdeck\" rel=\"nofollow\">TweetDeck</a>', 'in_reply_to_status_id': None, 'in_reply_to_status_id_str': None, 'in_reply_to_user_id': None, 'in_reply_to_user_id_str': None, 'in_reply_to_screen_name': None, 'user': {'id': 21815152, 'id_str': '21815152', 'name': 'Matt Bierner', 'screen_name': 'mattbierner', 'location': 'Washington, USA', 'description': '', 'url': 'https://t.co/NnCC3iFhHa', 'entities': {'url': {'urls': [{'url': 'https://t.co/NnCC3iFhHa', 'expanded_url': 'https://blog.mattbierner.com', 'display_url': 'blog.mattbierner.com', 'indices': [0, 23]}]}, 'description': {'urls': []}}, 'protected': False, 'followers_count': 4595, 'friends_count': 54, 'listed_count': 74, 'created_at': 'Wed Feb 25 00:05:13 +0000 2009', 'favourites_count': 202, 'utc_offset': None, 'time_zone': None, 'geo_enabled': False, 'verified': False, 'statuses_count': 1755, 'lang': None, 'contributors_enabled': False, 'is_translator': False, 'is_translation_enabled': False, 'profile_background_color': '000000', 'profile_background_image_url': 'http://abs.twimg.com/images/themes/theme1/bg.png', 'profile_background_image_url_https': 'https://abs.twimg.com/images/themes/theme1/bg.png', 'profile_background_tile': False, 'profile_image_url': 'http://pbs.twimg.com/profile_images/796977891900682240/7C9D7Olt_normal.jpg', 'profile_image_url_https': 'https://pbs.twimg.com/profile_images/796977891900682240/7C9D7Olt_normal.jpg', 'profile_banner_url': 'https://pbs.twimg.com/profile_banners/21815152/1498934216', 'profile_link_color': 'ABB8C2', 'profile_sidebar_border_color': '000000', 'profile_sidebar_fill_color': '000000', 'profile_text_color': '000000', 'profile_use_background_image': False, 'has_extended_profile': False, 'default_profile': False, 'default_profile_image': False, 'following': False, 'follow_request_sent': False, 'notifications': False, 'translator_type': 'none'}, 'geo': None, 'coordinates': None, 'place': None, 'contributors': None, 'is_quote_status': False, 'retweet_count': 27, 'favorite_count': 94, 'favorited': False, 'retweeted': False, 'possibly_sensitive': False, 'lang': 'en'}, created_at=datetime.datetime(2020, 5, 5, 16, 30), id=1257709138882240514, id_str='1257709138882240514', text=\"Today's @code setting: debug.toolBarLocation\\n\\nFloating debug controls getting in the way? Just set debug.toolBarLoc… https://t.co/hh7qo0Xdg3\", truncated=True, entities={'hashtags': [], 'symbols': [], 'user_mentions': [{'screen_name': 'code', 'name': 'Visual Studio Code', 'id': 3167734591, 'id_str': '3167734591', 'indices': [8, 13]}], 'urls': [{'url': 'https://t.co/hh7qo0Xdg3', 'expanded_url': 'https://twitter.com/i/web/status/1257709138882240514', 'display_url': 'twitter.com/i/web/status/1…', 'indices': [117, 140]}]}, source='TweetDeck', source_url='https://about.twitter.com/products/tweetdeck', in_reply_to_status_id=None, in_reply_to_status_id_str=None, in_reply_to_user_id=None, in_reply_to_user_id_str=None, in_reply_to_screen_name=None, author=User(_api=<tweepy.api.API object at 0x7fb7f89a35b0>, _json={'id': 21815152, 'id_str': '21815152', 'name': 'Matt Bierner', 'screen_name': 'mattbierner', 'location': 'Washington, USA', 'description': '', 'url': 'https://t.co/NnCC3iFhHa', 'entities': {'url': {'urls': [{'url': 'https://t.co/NnCC3iFhHa', 'expanded_url': 'https://blog.mattbierner.com', 'display_url': 'blog.mattbierner.com', 'indices': [0, 23]}]}, 'description': {'urls': []}}, 'protected': False, 'followers_count': 4595, 'friends_count': 54, 'listed_count': 74, 'created_at': 'Wed Feb 25 00:05:13 +0000 2009', 'favourites_count': 202, 'utc_offset': None, 'time_zone': None, 'geo_enabled': False, 'verified': False, 'statuses_count': 1755, 'lang': None, 'contributors_enabled': False, 'is_translator': False, 'is_translation_enabled': False, 'profile_background_color': '000000', 'profile_background_image_url': 'http://abs.twimg.com/images/themes/theme1/bg.png', 'profile_background_image_url_https': 'https://abs.twimg.com/images/themes/theme1/bg.png', 'profile_background_tile': False, 'profile_image_url': 'http://pbs.twimg.com/profile_images/796977891900682240/7C9D7Olt_normal.jpg', 'profile_image_url_https': 'https://pbs.twimg.com/profile_images/796977891900682240/7C9D7Olt_normal.jpg', 'profile_banner_url': 'https://pbs.twimg.com/profile_banners/21815152/1498934216', 'profile_link_color': 'ABB8C2', 'profile_sidebar_border_color': '000000', 'profile_sidebar_fill_color': '000000', 'profile_text_color': '000000', 'profile_use_background_image': False, 'has_extended_profile': False, 'default_profile': False, 'default_profile_image': False, 'following': False, 'follow_request_sent': False, 'notifications': False, 'translator_type': 'none'}, id=21815152, id_str='21815152', name='Matt Bierner', screen_name='mattbierner', location='Washington, USA', description='', url='https://t.co/NnCC3iFhHa', entities={'url': {'urls': [{'url': 'https://t.co/NnCC3iFhHa', 'expanded_url': 'https://blog.mattbierner.com', 'display_url': 'blog.mattbierner.com', 'indices': [0, 23]}]}, 'description': {'urls': []}}, protected=False, followers_count=4595, friends_count=54, listed_count=74, created_at=datetime.datetime(2009, 2, 25, 0, 5, 13), favourites_count=202, utc_offset=None, time_zone=None, geo_enabled=False, verified=False, statuses_count=1755, lang=None, contributors_enabled=False, is_translator=False, is_translation_enabled=False, profile_background_color='000000', profile_background_image_url='http://abs.twimg.com/images/themes/theme1/bg.png', profile_background_image_url_https='https://abs.twimg.com/images/themes/theme1/bg.png', profile_background_tile=False, profile_image_url='http://pbs.twimg.com/profile_images/796977891900682240/7C9D7Olt_normal.jpg', profile_image_url_https='https://pbs.twimg.com/profile_images/796977891900682240/7C9D7Olt_normal.jpg', profile_banner_url='https://pbs.twimg.com/profile_banners/21815152/1498934216', profile_link_color='ABB8C2', profile_sidebar_border_color='000000', profile_sidebar_fill_color='000000', profile_text_color='000000', profile_use_background_image=False, has_extended_profile=False, default_profile=False, default_profile_image=False, following=False, follow_request_sent=False, notifications=False, translator_type='none'), user=User(_api=<tweepy.api.API object at 0x7fb7f89a35b0>, _json={'id': 21815152, 'id_str': '21815152', 'name': 'Matt Bierner', 'screen_name': 'mattbierner', 'location': 'Washington, USA', 'description': '', 'url': 'https://t.co/NnCC3iFhHa', 'entities': {'url': {'urls': [{'url': 'https://t.co/NnCC3iFhHa', 'expanded_url': 'https://blog.mattbierner.com', 'display_url': 'blog.mattbierner.com', 'indices': [0, 23]}]}, 'description': {'urls': []}}, 'protected': False, 'followers_count': 4595, 'friends_count': 54, 'listed_count': 74, 'created_at': 'Wed Feb 25 00:05:13 +0000 2009', 'favourites_count': 202, 'utc_offset': None, 'time_zone': None, 'geo_enabled': False, 'verified': False, 'statuses_count': 1755, 'lang': None, 'contributors_enabled': False, 'is_translator': False, 'is_translation_enabled': False, 'profile_background_color': '000000', 'profile_background_image_url': 'http://abs.twimg.com/images/themes/theme1/bg.png', 'profile_background_image_url_https': 'https://abs.twimg.com/images/themes/theme1/bg.png', 'profile_background_tile': False, 'profile_image_url': 'http://pbs.twimg.com/profile_images/796977891900682240/7C9D7Olt_normal.jpg', 'profile_image_url_https': 'https://pbs.twimg.com/profile_images/796977891900682240/7C9D7Olt_normal.jpg', 'profile_banner_url': 'https://pbs.twimg.com/profile_banners/21815152/1498934216', 'profile_link_color': 'ABB8C2', 'profile_sidebar_border_color': '000000', 'profile_sidebar_fill_color': '000000', 'profile_text_color': '000000', 'profile_use_background_image': False, 'has_extended_profile': False, 'default_profile': False, 'default_profile_image': False, 'following': False, 'follow_request_sent': False, 'notifications': False, 'translator_type': 'none'}, id=21815152, id_str='21815152', name='Matt Bierner', screen_name='mattbierner', location='Washington, USA', description='', url='https://t.co/NnCC3iFhHa', entities={'url': {'urls': [{'url': 'https://t.co/NnCC3iFhHa', 'expanded_url': 'https://blog.mattbierner.com', 'display_url': 'blog.mattbierner.com', 'indices': [0, 23]}]}, 'description': {'urls': []}}, protected=False, followers_count=4595, friends_count=54, listed_count=74, created_at=datetime.datetime(2009, 2, 25, 0, 5, 13), favourites_count=202, utc_offset=None, time_zone=None, geo_enabled=False, verified=False, statuses_count=1755, lang=None, contributors_enabled=False, is_translator=False, is_translation_enabled=False, profile_background_color='000000', profile_background_image_url='http://abs.twimg.com/images/themes/theme1/bg.png', profile_background_image_url_https='https://abs.twimg.com/images/themes/theme1/bg.png', profile_background_tile=False, profile_image_url='http://pbs.twimg.com/profile_images/796977891900682240/7C9D7Olt_normal.jpg', profile_image_url_https='https://pbs.twimg.com/profile_images/796977891900682240/7C9D7Olt_normal.jpg', profile_banner_url='https://pbs.twimg.com/profile_banners/21815152/1498934216', profile_link_color='ABB8C2', profile_sidebar_border_color='000000', profile_sidebar_fill_color='000000', profile_text_color='000000', profile_use_background_image=False, has_extended_profile=False, default_profile=False, default_profile_image=False, following=False, follow_request_sent=False, notifications=False, translator_type='none'), geo=None, coordinates=None, place=None, contributors=None, is_quote_status=False, retweet_count=27, favorite_count=94, favorited=False, retweeted=False, possibly_sensitive=False, lang='en'), is_quote_status=False, retweet_count=27, favorite_count=0, favorited=False, retweeted=False, lang='en')"
      ]
     },
     "execution_count": 28,
     "metadata": {},
     "output_type": "execute_result"
    }
   ],
   "source": [
    "# api.create_favorite(status_obj_id)\n",
    "# api.destroy_favorite(status_obj_id)"
   ]
  },
  {
   "cell_type": "code",
   "execution_count": 37,
   "metadata": {},
   "outputs": [],
   "source": [
    "og_tweet = api.get_status(\"1257339085414371333\")\n",
    "# print(og_tweet.user.screen_name, og_tweet.id)\n",
    "my_reply = api.update_status(f\"@{og_tweet.user.screen_name} Wow this cool!\", og_tweet.id)"
   ]
  },
  {
   "cell_type": "code",
   "execution_count": 38,
   "metadata": {},
   "outputs": [
    {
     "name": "stdout",
     "output_type": "stream",
     "text": [
      "1257796526736207873 joincfe\n"
     ]
    }
   ],
   "source": [
    "print(my_reply.id, my_reply.user.screen_name)"
   ]
  },
  {
   "cell_type": "code",
   "execution_count": null,
   "metadata": {},
   "outputs": [],
   "source": []
  }
 ],
 "metadata": {
  "kernelspec": {
   "display_name": "Python 3",
   "language": "python",
   "name": "python3"
  },
  "language_info": {
   "codemirror_mode": {
    "name": "ipython",
    "version": 3
   },
   "file_extension": ".py",
   "mimetype": "text/x-python",
   "name": "python",
   "nbconvert_exporter": "python",
   "pygments_lexer": "ipython3",
   "version": "3.8.2"
  }
 },
 "nbformat": 4,
 "nbformat_minor": 4
}
