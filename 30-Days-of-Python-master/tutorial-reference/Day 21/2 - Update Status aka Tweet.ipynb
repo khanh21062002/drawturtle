{
 "cells": [
  {
   "cell_type": "code",
   "execution_count": 1,
   "metadata": {},
   "outputs": [],
   "source": [
    "import tweepy\n",
    "import webbrowser\n",
    "import time"
   ]
  },
  {
   "cell_type": "code",
   "execution_count": 2,
   "metadata": {},
   "outputs": [],
   "source": [
    "consumer_key = \"82sYf9hQSpGNuc9K8wTVGOqz0\"\n",
    "consumer_secret = \"6tf3Iu3eiaLesTA2yxZPD2Ht7cJxs4Nk8vxBH0ltAPD3enaNGK\""
   ]
  },
  {
   "cell_type": "code",
   "execution_count": 3,
   "metadata": {},
   "outputs": [],
   "source": [
    "callback_uri = 'oob' # https://cfe.sh/twitter/callback"
   ]
  },
  {
   "cell_type": "code",
   "execution_count": 4,
   "metadata": {},
   "outputs": [
    {
     "name": "stdout",
     "output_type": "stream",
     "text": [
      "https://api.twitter.com/oauth/authorize?oauth_token=Sa97PwAAAAAAjsBpAAABceMgOiE\n"
     ]
    }
   ],
   "source": [
    "auth = tweepy.OAuthHandler(consumer_key, consumer_secret, callback_uri)\n",
    "redirect_url = auth.get_authorization_url()\n",
    "print(redirect_url)"
   ]
  },
  {
   "cell_type": "code",
   "execution_count": null,
   "metadata": {},
   "outputs": [],
   "source": []
  },
  {
   "cell_type": "code",
   "execution_count": 5,
   "metadata": {},
   "outputs": [
    {
     "data": {
      "text/plain": [
       "True"
      ]
     },
     "execution_count": 5,
     "metadata": {},
     "output_type": "execute_result"
    }
   ],
   "source": [
    "webbrowser.open(redirect_url)"
   ]
  },
  {
   "cell_type": "code",
   "execution_count": 7,
   "metadata": {},
   "outputs": [
    {
     "name": "stdout",
     "output_type": "stream",
     "text": [
      "What's the pin value? 4147016\n"
     ]
    }
   ],
   "source": [
    "user_pint_input = input(\"What's the pin value? \")"
   ]
  },
  {
   "cell_type": "code",
   "execution_count": 8,
   "metadata": {},
   "outputs": [
    {
     "data": {
      "text/plain": [
       "'4147016'"
      ]
     },
     "execution_count": 8,
     "metadata": {},
     "output_type": "execute_result"
    }
   ],
   "source": [
    "user_pint_input"
   ]
  },
  {
   "cell_type": "code",
   "execution_count": 9,
   "metadata": {},
   "outputs": [
    {
     "data": {
      "text/plain": [
       "('4730574793-fa9oFomAHt4K4iw5uaWRaG0iw1OxCUu47ieHm5Q',\n",
       " 'fOC4HAcXzr35dl8gZdzZdkC0dBr7l26pOvJv56oqF4yTf')"
      ]
     },
     "execution_count": 9,
     "metadata": {},
     "output_type": "execute_result"
    }
   ],
   "source": [
    "auth.get_access_token(user_pint_input)"
   ]
  },
  {
   "cell_type": "code",
   "execution_count": 10,
   "metadata": {},
   "outputs": [
    {
     "name": "stdout",
     "output_type": "stream",
     "text": [
      "4730574793-fa9oFomAHt4K4iw5uaWRaG0iw1OxCUu47ieHm5Q fOC4HAcXzr35dl8gZdzZdkC0dBr7l26pOvJv56oqF4yTf\n"
     ]
    }
   ],
   "source": [
    "print(auth.access_token, auth.access_token_secret)"
   ]
  },
  {
   "cell_type": "code",
   "execution_count": 11,
   "metadata": {},
   "outputs": [],
   "source": [
    "api = tweepy.API(auth)"
   ]
  },
  {
   "cell_type": "code",
   "execution_count": 12,
   "metadata": {},
   "outputs": [],
   "source": [
    "me = api.me()"
   ]
  },
  {
   "cell_type": "code",
   "execution_count": 13,
   "metadata": {},
   "outputs": [
    {
     "name": "stdout",
     "output_type": "stream",
     "text": [
      "joincfe\n"
     ]
    }
   ],
   "source": [
    "print(me.screen_name)"
   ]
  },
  {
   "cell_type": "code",
   "execution_count": 14,
   "metadata": {},
   "outputs": [],
   "source": [
    "new_status = api.update_status(\"Hello world from the 30 Days of Python @joincfe what up?\")"
   ]
  },
  {
   "cell_type": "code",
   "execution_count": 15,
   "metadata": {},
   "outputs": [
    {
     "data": {
      "text/plain": [
       "Status(_api=<tweepy.api.API object at 0x7fb5081a1e50>, _json={'created_at': 'Tue May 05 04:38:37 +0000 2020', 'id': 1257530114348216322, 'id_str': '1257530114348216322', 'text': 'Hello world from the 30 Days of Python @joincfe what up?', 'truncated': False, 'entities': {'hashtags': [], 'symbols': [], 'user_mentions': [{'screen_name': 'joincfe', 'name': 'Coding Entrepreneurs', 'id': 4730574793, 'id_str': '4730574793', 'indices': [39, 47]}], 'urls': []}, 'source': '<a href=\"https://codingforentrepreneurs.com/\" rel=\"nofollow\">30 Days of Python</a>', 'in_reply_to_status_id': None, 'in_reply_to_status_id_str': None, 'in_reply_to_user_id': None, 'in_reply_to_user_id_str': None, 'in_reply_to_screen_name': None, 'user': {'id': 4730574793, 'id_str': '4730574793', 'name': 'Coding Entrepreneurs', 'screen_name': 'joincfe', 'location': 'Newport Beach, CA', 'description': 'Learn to code by building real projects step-by-step', 'url': 'https://t.co/tf0pm03mmD', 'entities': {'url': {'urls': [{'url': 'https://t.co/tf0pm03mmD', 'expanded_url': 'https://www.codingforentrepreneurs.com', 'display_url': 'codingforentrepreneurs.com', 'indices': [0, 23]}]}, 'description': {'urls': []}}, 'protected': False, 'followers_count': 592, 'friends_count': 27, 'listed_count': 7, 'created_at': 'Fri Jan 08 23:13:05 +0000 2016', 'favourites_count': 84, 'utc_offset': None, 'time_zone': None, 'geo_enabled': False, 'verified': False, 'statuses_count': 121, 'lang': None, 'contributors_enabled': False, 'is_translator': False, 'is_translation_enabled': False, 'profile_background_color': '000000', 'profile_background_image_url': 'http://abs.twimg.com/images/themes/theme1/bg.png', 'profile_background_image_url_https': 'https://abs.twimg.com/images/themes/theme1/bg.png', 'profile_background_tile': False, 'profile_image_url': 'http://pbs.twimg.com/profile_images/824321357596925952/wX7nusrj_normal.jpg', 'profile_image_url_https': 'https://pbs.twimg.com/profile_images/824321357596925952/wX7nusrj_normal.jpg', 'profile_banner_url': 'https://pbs.twimg.com/profile_banners/4730574793/1485368688', 'profile_link_color': '007CAE', 'profile_sidebar_border_color': '000000', 'profile_sidebar_fill_color': '000000', 'profile_text_color': '000000', 'profile_use_background_image': False, 'has_extended_profile': False, 'default_profile': False, 'default_profile_image': False, 'following': False, 'follow_request_sent': False, 'notifications': False, 'translator_type': 'none'}, 'geo': None, 'coordinates': None, 'place': None, 'contributors': None, 'is_quote_status': False, 'retweet_count': 0, 'favorite_count': 0, 'favorited': False, 'retweeted': False, 'lang': 'en'}, created_at=datetime.datetime(2020, 5, 5, 4, 38, 37), id=1257530114348216322, id_str='1257530114348216322', text='Hello world from the 30 Days of Python @joincfe what up?', truncated=False, entities={'hashtags': [], 'symbols': [], 'user_mentions': [{'screen_name': 'joincfe', 'name': 'Coding Entrepreneurs', 'id': 4730574793, 'id_str': '4730574793', 'indices': [39, 47]}], 'urls': []}, source='30 Days of Python', source_url='https://codingforentrepreneurs.com/', in_reply_to_status_id=None, in_reply_to_status_id_str=None, in_reply_to_user_id=None, in_reply_to_user_id_str=None, in_reply_to_screen_name=None, author=User(_api=<tweepy.api.API object at 0x7fb5081a1e50>, _json={'id': 4730574793, 'id_str': '4730574793', 'name': 'Coding Entrepreneurs', 'screen_name': 'joincfe', 'location': 'Newport Beach, CA', 'description': 'Learn to code by building real projects step-by-step', 'url': 'https://t.co/tf0pm03mmD', 'entities': {'url': {'urls': [{'url': 'https://t.co/tf0pm03mmD', 'expanded_url': 'https://www.codingforentrepreneurs.com', 'display_url': 'codingforentrepreneurs.com', 'indices': [0, 23]}]}, 'description': {'urls': []}}, 'protected': False, 'followers_count': 592, 'friends_count': 27, 'listed_count': 7, 'created_at': 'Fri Jan 08 23:13:05 +0000 2016', 'favourites_count': 84, 'utc_offset': None, 'time_zone': None, 'geo_enabled': False, 'verified': False, 'statuses_count': 121, 'lang': None, 'contributors_enabled': False, 'is_translator': False, 'is_translation_enabled': False, 'profile_background_color': '000000', 'profile_background_image_url': 'http://abs.twimg.com/images/themes/theme1/bg.png', 'profile_background_image_url_https': 'https://abs.twimg.com/images/themes/theme1/bg.png', 'profile_background_tile': False, 'profile_image_url': 'http://pbs.twimg.com/profile_images/824321357596925952/wX7nusrj_normal.jpg', 'profile_image_url_https': 'https://pbs.twimg.com/profile_images/824321357596925952/wX7nusrj_normal.jpg', 'profile_banner_url': 'https://pbs.twimg.com/profile_banners/4730574793/1485368688', 'profile_link_color': '007CAE', 'profile_sidebar_border_color': '000000', 'profile_sidebar_fill_color': '000000', 'profile_text_color': '000000', 'profile_use_background_image': False, 'has_extended_profile': False, 'default_profile': False, 'default_profile_image': False, 'following': False, 'follow_request_sent': False, 'notifications': False, 'translator_type': 'none'}, id=4730574793, id_str='4730574793', name='Coding Entrepreneurs', screen_name='joincfe', location='Newport Beach, CA', description='Learn to code by building real projects step-by-step', url='https://t.co/tf0pm03mmD', entities={'url': {'urls': [{'url': 'https://t.co/tf0pm03mmD', 'expanded_url': 'https://www.codingforentrepreneurs.com', 'display_url': 'codingforentrepreneurs.com', 'indices': [0, 23]}]}, 'description': {'urls': []}}, protected=False, followers_count=592, friends_count=27, listed_count=7, created_at=datetime.datetime(2016, 1, 8, 23, 13, 5), favourites_count=84, utc_offset=None, time_zone=None, geo_enabled=False, verified=False, statuses_count=121, lang=None, contributors_enabled=False, is_translator=False, is_translation_enabled=False, profile_background_color='000000', profile_background_image_url='http://abs.twimg.com/images/themes/theme1/bg.png', profile_background_image_url_https='https://abs.twimg.com/images/themes/theme1/bg.png', profile_background_tile=False, profile_image_url='http://pbs.twimg.com/profile_images/824321357596925952/wX7nusrj_normal.jpg', profile_image_url_https='https://pbs.twimg.com/profile_images/824321357596925952/wX7nusrj_normal.jpg', profile_banner_url='https://pbs.twimg.com/profile_banners/4730574793/1485368688', profile_link_color='007CAE', profile_sidebar_border_color='000000', profile_sidebar_fill_color='000000', profile_text_color='000000', profile_use_background_image=False, has_extended_profile=False, default_profile=False, default_profile_image=False, following=False, follow_request_sent=False, notifications=False, translator_type='none'), user=User(_api=<tweepy.api.API object at 0x7fb5081a1e50>, _json={'id': 4730574793, 'id_str': '4730574793', 'name': 'Coding Entrepreneurs', 'screen_name': 'joincfe', 'location': 'Newport Beach, CA', 'description': 'Learn to code by building real projects step-by-step', 'url': 'https://t.co/tf0pm03mmD', 'entities': {'url': {'urls': [{'url': 'https://t.co/tf0pm03mmD', 'expanded_url': 'https://www.codingforentrepreneurs.com', 'display_url': 'codingforentrepreneurs.com', 'indices': [0, 23]}]}, 'description': {'urls': []}}, 'protected': False, 'followers_count': 592, 'friends_count': 27, 'listed_count': 7, 'created_at': 'Fri Jan 08 23:13:05 +0000 2016', 'favourites_count': 84, 'utc_offset': None, 'time_zone': None, 'geo_enabled': False, 'verified': False, 'statuses_count': 121, 'lang': None, 'contributors_enabled': False, 'is_translator': False, 'is_translation_enabled': False, 'profile_background_color': '000000', 'profile_background_image_url': 'http://abs.twimg.com/images/themes/theme1/bg.png', 'profile_background_image_url_https': 'https://abs.twimg.com/images/themes/theme1/bg.png', 'profile_background_tile': False, 'profile_image_url': 'http://pbs.twimg.com/profile_images/824321357596925952/wX7nusrj_normal.jpg', 'profile_image_url_https': 'https://pbs.twimg.com/profile_images/824321357596925952/wX7nusrj_normal.jpg', 'profile_banner_url': 'https://pbs.twimg.com/profile_banners/4730574793/1485368688', 'profile_link_color': '007CAE', 'profile_sidebar_border_color': '000000', 'profile_sidebar_fill_color': '000000', 'profile_text_color': '000000', 'profile_use_background_image': False, 'has_extended_profile': False, 'default_profile': False, 'default_profile_image': False, 'following': False, 'follow_request_sent': False, 'notifications': False, 'translator_type': 'none'}, id=4730574793, id_str='4730574793', name='Coding Entrepreneurs', screen_name='joincfe', location='Newport Beach, CA', description='Learn to code by building real projects step-by-step', url='https://t.co/tf0pm03mmD', entities={'url': {'urls': [{'url': 'https://t.co/tf0pm03mmD', 'expanded_url': 'https://www.codingforentrepreneurs.com', 'display_url': 'codingforentrepreneurs.com', 'indices': [0, 23]}]}, 'description': {'urls': []}}, protected=False, followers_count=592, friends_count=27, listed_count=7, created_at=datetime.datetime(2016, 1, 8, 23, 13, 5), favourites_count=84, utc_offset=None, time_zone=None, geo_enabled=False, verified=False, statuses_count=121, lang=None, contributors_enabled=False, is_translator=False, is_translation_enabled=False, profile_background_color='000000', profile_background_image_url='http://abs.twimg.com/images/themes/theme1/bg.png', profile_background_image_url_https='https://abs.twimg.com/images/themes/theme1/bg.png', profile_background_tile=False, profile_image_url='http://pbs.twimg.com/profile_images/824321357596925952/wX7nusrj_normal.jpg', profile_image_url_https='https://pbs.twimg.com/profile_images/824321357596925952/wX7nusrj_normal.jpg', profile_banner_url='https://pbs.twimg.com/profile_banners/4730574793/1485368688', profile_link_color='007CAE', profile_sidebar_border_color='000000', profile_sidebar_fill_color='000000', profile_text_color='000000', profile_use_background_image=False, has_extended_profile=False, default_profile=False, default_profile_image=False, following=False, follow_request_sent=False, notifications=False, translator_type='none'), geo=None, coordinates=None, place=None, contributors=None, is_quote_status=False, retweet_count=0, favorite_count=0, favorited=False, retweeted=False, lang='en')"
      ]
     },
     "execution_count": 15,
     "metadata": {},
     "output_type": "execute_result"
    }
   ],
   "source": [
    "new_status.destroy()"
   ]
  },
  {
   "cell_type": "code",
   "execution_count": 16,
   "metadata": {},
   "outputs": [
    {
     "data": {
      "text/plain": [
       "['__class__',\n",
       " '__delattr__',\n",
       " '__dict__',\n",
       " '__dir__',\n",
       " '__doc__',\n",
       " '__eq__',\n",
       " '__format__',\n",
       " '__ge__',\n",
       " '__getattribute__',\n",
       " '__getstate__',\n",
       " '__gt__',\n",
       " '__hash__',\n",
       " '__init__',\n",
       " '__init_subclass__',\n",
       " '__le__',\n",
       " '__lt__',\n",
       " '__module__',\n",
       " '__ne__',\n",
       " '__new__',\n",
       " '__reduce__',\n",
       " '__reduce_ex__',\n",
       " '__repr__',\n",
       " '__setattr__',\n",
       " '__sizeof__',\n",
       " '__str__',\n",
       " '__subclasshook__',\n",
       " '__weakref__',\n",
       " '_api',\n",
       " '_json',\n",
       " 'author',\n",
       " 'contributors',\n",
       " 'coordinates',\n",
       " 'created_at',\n",
       " 'destroy',\n",
       " 'entities',\n",
       " 'favorite',\n",
       " 'favorite_count',\n",
       " 'favorited',\n",
       " 'geo',\n",
       " 'id',\n",
       " 'id_str',\n",
       " 'in_reply_to_screen_name',\n",
       " 'in_reply_to_status_id',\n",
       " 'in_reply_to_status_id_str',\n",
       " 'in_reply_to_user_id',\n",
       " 'in_reply_to_user_id_str',\n",
       " 'is_quote_status',\n",
       " 'lang',\n",
       " 'parse',\n",
       " 'parse_list',\n",
       " 'place',\n",
       " 'retweet',\n",
       " 'retweet_count',\n",
       " 'retweeted',\n",
       " 'retweets',\n",
       " 'source',\n",
       " 'source_url',\n",
       " 'text',\n",
       " 'truncated',\n",
       " 'user']"
      ]
     },
     "execution_count": 16,
     "metadata": {},
     "output_type": "execute_result"
    }
   ],
   "source": [
    "dir(new_status)"
   ]
  },
  {
   "cell_type": "code",
   "execution_count": 18,
   "metadata": {},
   "outputs": [
    {
     "data": {
      "text/plain": [
       "['__class__',\n",
       " '__delattr__',\n",
       " '__dict__',\n",
       " '__dir__',\n",
       " '__doc__',\n",
       " '__eq__',\n",
       " '__format__',\n",
       " '__ge__',\n",
       " '__getattribute__',\n",
       " '__gt__',\n",
       " '__hash__',\n",
       " '__init__',\n",
       " '__init_subclass__',\n",
       " '__le__',\n",
       " '__lt__',\n",
       " '__module__',\n",
       " '__ne__',\n",
       " '__new__',\n",
       " '__reduce__',\n",
       " '__reduce_ex__',\n",
       " '__repr__',\n",
       " '__setattr__',\n",
       " '__sizeof__',\n",
       " '__str__',\n",
       " '__subclasshook__',\n",
       " '__weakref__',\n",
       " '_add_list_members',\n",
       " '_lookup_friendships',\n",
       " '_lookup_users',\n",
       " '_pack_image',\n",
       " '_remove_list_members',\n",
       " '_send_direct_message',\n",
       " '_statuses_lookup',\n",
       " 'add_list_member',\n",
       " 'add_list_members',\n",
       " 'api_root',\n",
       " 'auth',\n",
       " 'blocks',\n",
       " 'blocks_ids',\n",
       " 'cache',\n",
       " 'cached_result',\n",
       " 'compression',\n",
       " 'configuration',\n",
       " 'create_block',\n",
       " 'create_favorite',\n",
       " 'create_friendship',\n",
       " 'create_list',\n",
       " 'create_mute',\n",
       " 'create_saved_search',\n",
       " 'destroy_block',\n",
       " 'destroy_direct_message',\n",
       " 'destroy_favorite',\n",
       " 'destroy_friendship',\n",
       " 'destroy_list',\n",
       " 'destroy_mute',\n",
       " 'destroy_saved_search',\n",
       " 'destroy_status',\n",
       " 'favorites',\n",
       " 'followers',\n",
       " 'followers_ids',\n",
       " 'friends',\n",
       " 'friends_ids',\n",
       " 'friendships_incoming',\n",
       " 'friendships_outgoing',\n",
       " 'geo_id',\n",
       " 'geo_search',\n",
       " 'geo_similar_places',\n",
       " 'get_direct_message',\n",
       " 'get_list',\n",
       " 'get_oembed',\n",
       " 'get_saved_search',\n",
       " 'get_settings',\n",
       " 'get_status',\n",
       " 'get_user',\n",
       " 'home_timeline',\n",
       " 'host',\n",
       " 'last_response',\n",
       " 'list_direct_messages',\n",
       " 'list_members',\n",
       " 'list_subscribers',\n",
       " 'list_timeline',\n",
       " 'lists_all',\n",
       " 'lists_memberships',\n",
       " 'lists_subscriptions',\n",
       " 'lookup_friendships',\n",
       " 'lookup_users',\n",
       " 'me',\n",
       " 'media_upload',\n",
       " 'mentions_timeline',\n",
       " 'mutes',\n",
       " 'mutes_ids',\n",
       " 'parser',\n",
       " 'proxy',\n",
       " 'rate_limit_status',\n",
       " 'related_results',\n",
       " 'remove_list_member',\n",
       " 'remove_list_members',\n",
       " 'report_spam',\n",
       " 'retry_count',\n",
       " 'retry_delay',\n",
       " 'retry_errors',\n",
       " 'retweet',\n",
       " 'retweeters',\n",
       " 'retweets',\n",
       " 'retweets_of_me',\n",
       " 'reverse_geocode',\n",
       " 'saved_searches',\n",
       " 'search',\n",
       " 'search_host',\n",
       " 'search_root',\n",
       " 'search_users',\n",
       " 'send_direct_message',\n",
       " 'set_settings',\n",
       " 'show_friendship',\n",
       " 'show_list_member',\n",
       " 'show_list_subscriber',\n",
       " 'statuses_lookup',\n",
       " 'subscribe_list',\n",
       " 'supported_languages',\n",
       " 'timeout',\n",
       " 'trends_available',\n",
       " 'trends_closest',\n",
       " 'trends_place',\n",
       " 'unretweet',\n",
       " 'unsubscribe_list',\n",
       " 'update_list',\n",
       " 'update_profile',\n",
       " 'update_profile_background_image',\n",
       " 'update_profile_banner',\n",
       " 'update_profile_image',\n",
       " 'update_status',\n",
       " 'update_with_media',\n",
       " 'upload_host',\n",
       " 'upload_root',\n",
       " 'user_timeline',\n",
       " 'verify_credentials',\n",
       " 'wait_on_rate_limit',\n",
       " 'wait_on_rate_limit_notify']"
      ]
     },
     "execution_count": 18,
     "metadata": {},
     "output_type": "execute_result"
    }
   ],
   "source": [
    "dir(api)"
   ]
  },
  {
   "cell_type": "code",
   "execution_count": 19,
   "metadata": {},
   "outputs": [],
   "source": [
    "img_obj = api.media_upload(\"image.png\")"
   ]
  },
  {
   "cell_type": "code",
   "execution_count": 20,
   "metadata": {},
   "outputs": [
    {
     "data": {
      "text/plain": [
       "['__class__',\n",
       " '__delattr__',\n",
       " '__dict__',\n",
       " '__dir__',\n",
       " '__doc__',\n",
       " '__eq__',\n",
       " '__format__',\n",
       " '__ge__',\n",
       " '__getattribute__',\n",
       " '__getstate__',\n",
       " '__gt__',\n",
       " '__hash__',\n",
       " '__init__',\n",
       " '__init_subclass__',\n",
       " '__le__',\n",
       " '__lt__',\n",
       " '__module__',\n",
       " '__ne__',\n",
       " '__new__',\n",
       " '__reduce__',\n",
       " '__reduce_ex__',\n",
       " '__repr__',\n",
       " '__setattr__',\n",
       " '__sizeof__',\n",
       " '__str__',\n",
       " '__subclasshook__',\n",
       " '__weakref__',\n",
       " '_api',\n",
       " 'expires_after_secs',\n",
       " 'image',\n",
       " 'media_id',\n",
       " 'media_id_string',\n",
       " 'parse',\n",
       " 'parse_list',\n",
       " 'size']"
      ]
     },
     "execution_count": 20,
     "metadata": {},
     "output_type": "execute_result"
    }
   ],
   "source": [
    "dir(img_obj)"
   ]
  },
  {
   "cell_type": "code",
   "execution_count": 21,
   "metadata": {},
   "outputs": [],
   "source": [
    "new_status = api.update_status(\"Hello world from the 30 Days of Python @joincfe what up?\", media_ids=[img_obj.media_id_string])"
   ]
  },
  {
   "cell_type": "code",
   "execution_count": 22,
   "metadata": {},
   "outputs": [
    {
     "data": {
      "text/plain": [
       "Status(_api=<tweepy.api.API object at 0x7fb5081a1e50>, _json={'created_at': 'Tue May 05 04:44:47 +0000 2020', 'id': 1257531663665397761, 'id_str': '1257531663665397761', 'text': 'Hello world from the 30 Days of Python @joincfe what up? https://t.co/morYHuKcn9', 'truncated': False, 'entities': {'hashtags': [], 'symbols': [], 'user_mentions': [{'screen_name': 'joincfe', 'name': 'Coding Entrepreneurs', 'id': 4730574793, 'id_str': '4730574793', 'indices': [39, 47]}], 'urls': [], 'media': [{'id': 1257531467602616320, 'id_str': '1257531467602616320', 'indices': [57, 80], 'media_url': 'http://pbs.twimg.com/media/EXOmNQRUYAAM87l.png', 'media_url_https': 'https://pbs.twimg.com/media/EXOmNQRUYAAM87l.png', 'url': 'https://t.co/morYHuKcn9', 'display_url': 'pic.twitter.com/morYHuKcn9', 'expanded_url': 'https://twitter.com/joincfe/status/1257531663665397761/photo/1', 'type': 'photo', 'sizes': {'large': {'w': 426, 'h': 252, 'resize': 'fit'}, 'small': {'w': 426, 'h': 252, 'resize': 'fit'}, 'thumb': {'w': 150, 'h': 150, 'resize': 'crop'}, 'medium': {'w': 426, 'h': 252, 'resize': 'fit'}}}]}, 'extended_entities': {'media': [{'id': 1257531467602616320, 'id_str': '1257531467602616320', 'indices': [57, 80], 'media_url': 'http://pbs.twimg.com/media/EXOmNQRUYAAM87l.png', 'media_url_https': 'https://pbs.twimg.com/media/EXOmNQRUYAAM87l.png', 'url': 'https://t.co/morYHuKcn9', 'display_url': 'pic.twitter.com/morYHuKcn9', 'expanded_url': 'https://twitter.com/joincfe/status/1257531663665397761/photo/1', 'type': 'photo', 'sizes': {'large': {'w': 426, 'h': 252, 'resize': 'fit'}, 'small': {'w': 426, 'h': 252, 'resize': 'fit'}, 'thumb': {'w': 150, 'h': 150, 'resize': 'crop'}, 'medium': {'w': 426, 'h': 252, 'resize': 'fit'}}}]}, 'source': '<a href=\"https://codingforentrepreneurs.com/\" rel=\"nofollow\">30 Days of Python</a>', 'in_reply_to_status_id': None, 'in_reply_to_status_id_str': None, 'in_reply_to_user_id': None, 'in_reply_to_user_id_str': None, 'in_reply_to_screen_name': None, 'user': {'id': 4730574793, 'id_str': '4730574793', 'name': 'Coding Entrepreneurs', 'screen_name': 'joincfe', 'location': 'Newport Beach, CA', 'description': 'Learn to code by building real projects step-by-step', 'url': 'https://t.co/tf0pm03mmD', 'entities': {'url': {'urls': [{'url': 'https://t.co/tf0pm03mmD', 'expanded_url': 'https://www.codingforentrepreneurs.com', 'display_url': 'codingforentrepreneurs.com', 'indices': [0, 23]}]}, 'description': {'urls': []}}, 'protected': False, 'followers_count': 592, 'friends_count': 27, 'listed_count': 7, 'created_at': 'Fri Jan 08 23:13:05 +0000 2016', 'favourites_count': 84, 'utc_offset': None, 'time_zone': None, 'geo_enabled': False, 'verified': False, 'statuses_count': 121, 'lang': None, 'contributors_enabled': False, 'is_translator': False, 'is_translation_enabled': False, 'profile_background_color': '000000', 'profile_background_image_url': 'http://abs.twimg.com/images/themes/theme1/bg.png', 'profile_background_image_url_https': 'https://abs.twimg.com/images/themes/theme1/bg.png', 'profile_background_tile': False, 'profile_image_url': 'http://pbs.twimg.com/profile_images/824321357596925952/wX7nusrj_normal.jpg', 'profile_image_url_https': 'https://pbs.twimg.com/profile_images/824321357596925952/wX7nusrj_normal.jpg', 'profile_banner_url': 'https://pbs.twimg.com/profile_banners/4730574793/1485368688', 'profile_link_color': '007CAE', 'profile_sidebar_border_color': '000000', 'profile_sidebar_fill_color': '000000', 'profile_text_color': '000000', 'profile_use_background_image': False, 'has_extended_profile': False, 'default_profile': False, 'default_profile_image': False, 'following': False, 'follow_request_sent': False, 'notifications': False, 'translator_type': 'none'}, 'geo': None, 'coordinates': None, 'place': None, 'contributors': None, 'is_quote_status': False, 'retweet_count': 0, 'favorite_count': 0, 'favorited': False, 'retweeted': False, 'possibly_sensitive': False, 'lang': 'en'}, created_at=datetime.datetime(2020, 5, 5, 4, 44, 47), id=1257531663665397761, id_str='1257531663665397761', text='Hello world from the 30 Days of Python @joincfe what up? https://t.co/morYHuKcn9', truncated=False, entities={'hashtags': [], 'symbols': [], 'user_mentions': [{'screen_name': 'joincfe', 'name': 'Coding Entrepreneurs', 'id': 4730574793, 'id_str': '4730574793', 'indices': [39, 47]}], 'urls': [], 'media': [{'id': 1257531467602616320, 'id_str': '1257531467602616320', 'indices': [57, 80], 'media_url': 'http://pbs.twimg.com/media/EXOmNQRUYAAM87l.png', 'media_url_https': 'https://pbs.twimg.com/media/EXOmNQRUYAAM87l.png', 'url': 'https://t.co/morYHuKcn9', 'display_url': 'pic.twitter.com/morYHuKcn9', 'expanded_url': 'https://twitter.com/joincfe/status/1257531663665397761/photo/1', 'type': 'photo', 'sizes': {'large': {'w': 426, 'h': 252, 'resize': 'fit'}, 'small': {'w': 426, 'h': 252, 'resize': 'fit'}, 'thumb': {'w': 150, 'h': 150, 'resize': 'crop'}, 'medium': {'w': 426, 'h': 252, 'resize': 'fit'}}}]}, extended_entities={'media': [{'id': 1257531467602616320, 'id_str': '1257531467602616320', 'indices': [57, 80], 'media_url': 'http://pbs.twimg.com/media/EXOmNQRUYAAM87l.png', 'media_url_https': 'https://pbs.twimg.com/media/EXOmNQRUYAAM87l.png', 'url': 'https://t.co/morYHuKcn9', 'display_url': 'pic.twitter.com/morYHuKcn9', 'expanded_url': 'https://twitter.com/joincfe/status/1257531663665397761/photo/1', 'type': 'photo', 'sizes': {'large': {'w': 426, 'h': 252, 'resize': 'fit'}, 'small': {'w': 426, 'h': 252, 'resize': 'fit'}, 'thumb': {'w': 150, 'h': 150, 'resize': 'crop'}, 'medium': {'w': 426, 'h': 252, 'resize': 'fit'}}}]}, source='30 Days of Python', source_url='https://codingforentrepreneurs.com/', in_reply_to_status_id=None, in_reply_to_status_id_str=None, in_reply_to_user_id=None, in_reply_to_user_id_str=None, in_reply_to_screen_name=None, author=User(_api=<tweepy.api.API object at 0x7fb5081a1e50>, _json={'id': 4730574793, 'id_str': '4730574793', 'name': 'Coding Entrepreneurs', 'screen_name': 'joincfe', 'location': 'Newport Beach, CA', 'description': 'Learn to code by building real projects step-by-step', 'url': 'https://t.co/tf0pm03mmD', 'entities': {'url': {'urls': [{'url': 'https://t.co/tf0pm03mmD', 'expanded_url': 'https://www.codingforentrepreneurs.com', 'display_url': 'codingforentrepreneurs.com', 'indices': [0, 23]}]}, 'description': {'urls': []}}, 'protected': False, 'followers_count': 592, 'friends_count': 27, 'listed_count': 7, 'created_at': 'Fri Jan 08 23:13:05 +0000 2016', 'favourites_count': 84, 'utc_offset': None, 'time_zone': None, 'geo_enabled': False, 'verified': False, 'statuses_count': 121, 'lang': None, 'contributors_enabled': False, 'is_translator': False, 'is_translation_enabled': False, 'profile_background_color': '000000', 'profile_background_image_url': 'http://abs.twimg.com/images/themes/theme1/bg.png', 'profile_background_image_url_https': 'https://abs.twimg.com/images/themes/theme1/bg.png', 'profile_background_tile': False, 'profile_image_url': 'http://pbs.twimg.com/profile_images/824321357596925952/wX7nusrj_normal.jpg', 'profile_image_url_https': 'https://pbs.twimg.com/profile_images/824321357596925952/wX7nusrj_normal.jpg', 'profile_banner_url': 'https://pbs.twimg.com/profile_banners/4730574793/1485368688', 'profile_link_color': '007CAE', 'profile_sidebar_border_color': '000000', 'profile_sidebar_fill_color': '000000', 'profile_text_color': '000000', 'profile_use_background_image': False, 'has_extended_profile': False, 'default_profile': False, 'default_profile_image': False, 'following': False, 'follow_request_sent': False, 'notifications': False, 'translator_type': 'none'}, id=4730574793, id_str='4730574793', name='Coding Entrepreneurs', screen_name='joincfe', location='Newport Beach, CA', description='Learn to code by building real projects step-by-step', url='https://t.co/tf0pm03mmD', entities={'url': {'urls': [{'url': 'https://t.co/tf0pm03mmD', 'expanded_url': 'https://www.codingforentrepreneurs.com', 'display_url': 'codingforentrepreneurs.com', 'indices': [0, 23]}]}, 'description': {'urls': []}}, protected=False, followers_count=592, friends_count=27, listed_count=7, created_at=datetime.datetime(2016, 1, 8, 23, 13, 5), favourites_count=84, utc_offset=None, time_zone=None, geo_enabled=False, verified=False, statuses_count=121, lang=None, contributors_enabled=False, is_translator=False, is_translation_enabled=False, profile_background_color='000000', profile_background_image_url='http://abs.twimg.com/images/themes/theme1/bg.png', profile_background_image_url_https='https://abs.twimg.com/images/themes/theme1/bg.png', profile_background_tile=False, profile_image_url='http://pbs.twimg.com/profile_images/824321357596925952/wX7nusrj_normal.jpg', profile_image_url_https='https://pbs.twimg.com/profile_images/824321357596925952/wX7nusrj_normal.jpg', profile_banner_url='https://pbs.twimg.com/profile_banners/4730574793/1485368688', profile_link_color='007CAE', profile_sidebar_border_color='000000', profile_sidebar_fill_color='000000', profile_text_color='000000', profile_use_background_image=False, has_extended_profile=False, default_profile=False, default_profile_image=False, following=False, follow_request_sent=False, notifications=False, translator_type='none'), user=User(_api=<tweepy.api.API object at 0x7fb5081a1e50>, _json={'id': 4730574793, 'id_str': '4730574793', 'name': 'Coding Entrepreneurs', 'screen_name': 'joincfe', 'location': 'Newport Beach, CA', 'description': 'Learn to code by building real projects step-by-step', 'url': 'https://t.co/tf0pm03mmD', 'entities': {'url': {'urls': [{'url': 'https://t.co/tf0pm03mmD', 'expanded_url': 'https://www.codingforentrepreneurs.com', 'display_url': 'codingforentrepreneurs.com', 'indices': [0, 23]}]}, 'description': {'urls': []}}, 'protected': False, 'followers_count': 592, 'friends_count': 27, 'listed_count': 7, 'created_at': 'Fri Jan 08 23:13:05 +0000 2016', 'favourites_count': 84, 'utc_offset': None, 'time_zone': None, 'geo_enabled': False, 'verified': False, 'statuses_count': 121, 'lang': None, 'contributors_enabled': False, 'is_translator': False, 'is_translation_enabled': False, 'profile_background_color': '000000', 'profile_background_image_url': 'http://abs.twimg.com/images/themes/theme1/bg.png', 'profile_background_image_url_https': 'https://abs.twimg.com/images/themes/theme1/bg.png', 'profile_background_tile': False, 'profile_image_url': 'http://pbs.twimg.com/profile_images/824321357596925952/wX7nusrj_normal.jpg', 'profile_image_url_https': 'https://pbs.twimg.com/profile_images/824321357596925952/wX7nusrj_normal.jpg', 'profile_banner_url': 'https://pbs.twimg.com/profile_banners/4730574793/1485368688', 'profile_link_color': '007CAE', 'profile_sidebar_border_color': '000000', 'profile_sidebar_fill_color': '000000', 'profile_text_color': '000000', 'profile_use_background_image': False, 'has_extended_profile': False, 'default_profile': False, 'default_profile_image': False, 'following': False, 'follow_request_sent': False, 'notifications': False, 'translator_type': 'none'}, id=4730574793, id_str='4730574793', name='Coding Entrepreneurs', screen_name='joincfe', location='Newport Beach, CA', description='Learn to code by building real projects step-by-step', url='https://t.co/tf0pm03mmD', entities={'url': {'urls': [{'url': 'https://t.co/tf0pm03mmD', 'expanded_url': 'https://www.codingforentrepreneurs.com', 'display_url': 'codingforentrepreneurs.com', 'indices': [0, 23]}]}, 'description': {'urls': []}}, protected=False, followers_count=592, friends_count=27, listed_count=7, created_at=datetime.datetime(2016, 1, 8, 23, 13, 5), favourites_count=84, utc_offset=None, time_zone=None, geo_enabled=False, verified=False, statuses_count=121, lang=None, contributors_enabled=False, is_translator=False, is_translation_enabled=False, profile_background_color='000000', profile_background_image_url='http://abs.twimg.com/images/themes/theme1/bg.png', profile_background_image_url_https='https://abs.twimg.com/images/themes/theme1/bg.png', profile_background_tile=False, profile_image_url='http://pbs.twimg.com/profile_images/824321357596925952/wX7nusrj_normal.jpg', profile_image_url_https='https://pbs.twimg.com/profile_images/824321357596925952/wX7nusrj_normal.jpg', profile_banner_url='https://pbs.twimg.com/profile_banners/4730574793/1485368688', profile_link_color='007CAE', profile_sidebar_border_color='000000', profile_sidebar_fill_color='000000', profile_text_color='000000', profile_use_background_image=False, has_extended_profile=False, default_profile=False, default_profile_image=False, following=False, follow_request_sent=False, notifications=False, translator_type='none'), geo=None, coordinates=None, place=None, contributors=None, is_quote_status=False, retweet_count=0, favorite_count=0, favorited=False, retweeted=False, possibly_sensitive=False, lang='en')"
      ]
     },
     "execution_count": 22,
     "metadata": {},
     "output_type": "execute_result"
    }
   ],
   "source": [
    "new_status.destroy()"
   ]
  },
  {
   "cell_type": "code",
   "execution_count": null,
   "metadata": {},
   "outputs": [],
   "source": [
    "# dir(new_status)"
   ]
  },
  {
   "cell_type": "code",
   "execution_count": null,
   "metadata": {},
   "outputs": [],
   "source": []
  },
  {
   "cell_type": "code",
   "execution_count": null,
   "metadata": {},
   "outputs": [],
   "source": []
  }
 ],
 "metadata": {
  "kernelspec": {
   "display_name": "Python 3",
   "language": "python",
   "name": "python3"
  },
  "language_info": {
   "codemirror_mode": {
    "name": "ipython",
    "version": 3
   },
   "file_extension": ".py",
   "mimetype": "text/x-python",
   "name": "python",
   "nbconvert_exporter": "python",
   "pygments_lexer": "ipython3",
   "version": "3.8.2"
  }
 },
 "nbformat": 4,
 "nbformat_minor": 4
}
